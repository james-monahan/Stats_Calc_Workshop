{
  "nbformat": 4,
  "nbformat_minor": 0,
  "metadata": {
    "colab": {
      "name": "Copy of Math3_sequence_series.ipynb",
      "provenance": [],
      "collapsed_sections": [
        "bubFQBdk6R4j",
        "uRM-mPGC_g11",
        "mW3ASiJ1RT9W",
        "xqrhmaqSMjK6"
      ],
      "authorship_tag": "ABX9TyOP7crEBt+py9GxLnUDeGkX",
      "include_colab_link": true
    },
    "kernelspec": {
      "name": "python3",
      "display_name": "Python 3"
    }
  },
  "cells": [
    {
      "cell_type": "markdown",
      "metadata": {
        "id": "view-in-github",
        "colab_type": "text"
      },
      "source": [
        "<a href=\"https://colab.research.google.com/github/james-monahan/Stats_Calc_Workshop/blob/main/Math3_sequence_series.ipynb\" target=\"_parent\"><img src=\"https://colab.research.google.com/assets/colab-badge.svg\" alt=\"Open In Colab\"/></a>"
      ]
    },
    {
      "cell_type": "code",
      "metadata": {
        "id": "SdbyRmicTk1U"
      },
      "source": [
        "import pandas as pd\r\n",
        "import numpy as np\r\n",
        "import matplotlib.pyplot as plt\r\n",
        "import seaborn as sns"
      ],
      "execution_count": 1,
      "outputs": []
    },
    {
      "cell_type": "markdown",
      "metadata": {
        "id": "bubFQBdk6R4j"
      },
      "source": [
        "##Arithmetic Sequences"
      ]
    },
    {
      "cell_type": "code",
      "metadata": {
        "id": "-ioslS3J2XqK"
      },
      "source": [
        "#αn = α1 + (n – 1)d:\r\n",
        "def a_n(a1, d, n):\r\n",
        "  an = a1 + (n-1)*d\r\n",
        "  return an"
      ],
      "execution_count": null,
      "outputs": []
    },
    {
      "cell_type": "code",
      "metadata": {
        "colab": {
          "base_uri": "https://localhost:8080/"
        },
        "id": "Ks9GMcUw27UQ",
        "outputId": "03156910-6549-4084-c6ea-677d562063f0"
      },
      "source": [
        "a_n(4,3,10)"
      ],
      "execution_count": null,
      "outputs": [
        {
          "output_type": "execute_result",
          "data": {
            "text/plain": [
              "31"
            ]
          },
          "metadata": {
            "tags": []
          },
          "execution_count": 5
        }
      ]
    },
    {
      "cell_type": "code",
      "metadata": {
        "id": "K4CYkHHg27to"
      },
      "source": [
        "def a_seq(a1, d, n):\r\n",
        "  sequence = []\r\n",
        "  for _ in range(n):\r\n",
        "    sequence.append(a1)\r\n",
        "    a1 = a1 + d\r\n",
        "  return sequence"
      ],
      "execution_count": null,
      "outputs": []
    },
    {
      "cell_type": "code",
      "metadata": {
        "colab": {
          "base_uri": "https://localhost:8080/"
        },
        "id": "GkmEUu_mnnYH",
        "outputId": "39bfd4a7-0610-4ef1-c46e-7a82fd506fe3"
      },
      "source": [
        "a_seq(4,3,10)"
      ],
      "execution_count": null,
      "outputs": [
        {
          "output_type": "execute_result",
          "data": {
            "text/plain": [
              "[4, 7, 10, 13, 16, 19, 22, 25, 28, 31]"
            ]
          },
          "metadata": {
            "tags": []
          },
          "execution_count": 8
        }
      ]
    },
    {
      "cell_type": "code",
      "metadata": {
        "id": "kiYXxhVaoT0m"
      },
      "source": [
        "def infinite_a_sequence(a1, d):\r\n",
        "    while True:\r\n",
        "        yield a1\r\n",
        "        a1 = a1 + d\r\n",
        "for i in infinite_a_sequence(4,3):\r\n",
        "    print(i, end=\" \")"
      ],
      "execution_count": null,
      "outputs": []
    },
    {
      "cell_type": "code",
      "metadata": {
        "colab": {
          "base_uri": "https://localhost:8080/"
        },
        "id": "ZludjmfasjZu",
        "outputId": "a1eed876-d916-4fc0-d2a0-958962ad5315"
      },
      "source": [
        "def a_series(a1, d, n):\r\n",
        "    result = n * (a1 + a_n(a1, d, n)) / 2\r\n",
        "    return result\r\n",
        "\r\n",
        "a_series(4, 3, 10)"
      ],
      "execution_count": null,
      "outputs": [
        {
          "output_type": "execute_result",
          "data": {
            "text/plain": [
              "175.0"
            ]
          },
          "metadata": {
            "tags": []
          },
          "execution_count": 21
        }
      ]
    },
    {
      "cell_type": "code",
      "metadata": {
        "colab": {
          "base_uri": "https://localhost:8080/"
        },
        "id": "lM4KBOfiu2RZ",
        "outputId": "7bf606c1-5e99-4afb-c0a5-bdcc61deda82"
      },
      "source": [
        "#return sum based on formula\r\n",
        "#len sequence * start num + end num, divide 2\r\n",
        "( 10*(4+31) ) / 2"
      ],
      "execution_count": null,
      "outputs": [
        {
          "output_type": "execute_result",
          "data": {
            "text/plain": [
              "175.0"
            ]
          },
          "metadata": {
            "tags": []
          },
          "execution_count": 24
        }
      ]
    },
    {
      "cell_type": "code",
      "metadata": {
        "colab": {
          "base_uri": "https://localhost:8080/"
        },
        "id": "93zdp-7ZvXey",
        "outputId": "6b122356-42af-49a3-aa73-fb96697db44b"
      },
      "source": [
        "print(sum(range(10)))\r\n",
        "(9**2+9)/2"
      ],
      "execution_count": null,
      "outputs": [
        {
          "output_type": "stream",
          "text": [
            "45\n"
          ],
          "name": "stdout"
        },
        {
          "output_type": "execute_result",
          "data": {
            "text/plain": [
              "45.0"
            ]
          },
          "metadata": {
            "tags": []
          },
          "execution_count": 28
        }
      ]
    },
    {
      "cell_type": "markdown",
      "metadata": {
        "id": "uRM-mPGC_g11"
      },
      "source": [
        "##Geometric Sequences  \r\n",
        "###- ratio is constant"
      ]
    },
    {
      "cell_type": "code",
      "metadata": {
        "id": "y1GKRTEs3SVT"
      },
      "source": [
        "#r is coefficent of rate/ratio\r\n",
        "#a is scale factor\r\n",
        "#n is term we want to find\r\n",
        "#a sub n is number of cases on day n\r\n",
        "def n_geom_seq(r, a, n):\r\n",
        "    an = r**(n-1) * a \r\n",
        "    return an"
      ],
      "execution_count": 2,
      "outputs": []
    },
    {
      "cell_type": "code",
      "metadata": {
        "colab": {
          "base_uri": "https://localhost:8080/"
        },
        "id": "Q64oPLBIBGRN",
        "outputId": "745424bd-037b-4bb9-e68e-df6ed8e87945"
      },
      "source": [
        "n_geom_seq(2, 3, 10) "
      ],
      "execution_count": 3,
      "outputs": [
        {
          "output_type": "execute_result",
          "data": {
            "text/plain": [
              "1536"
            ]
          },
          "metadata": {
            "tags": []
          },
          "execution_count": 3
        }
      ]
    },
    {
      "cell_type": "code",
      "metadata": {
        "id": "4lnpaTF-41ns"
      },
      "source": [
        "def sum_n(r, a, n):\r\n",
        "    sum_n = a*(1 - r**n) / (1 - r) \r\n",
        "    return sum_n"
      ],
      "execution_count": 4,
      "outputs": []
    },
    {
      "cell_type": "code",
      "metadata": {
        "id": "G4DEsG1x6DPI"
      },
      "source": [
        "days = list(range(10))\r\n",
        "n = [sum_n(2, 1, n) for n in days]"
      ],
      "execution_count": 5,
      "outputs": []
    },
    {
      "cell_type": "code",
      "metadata": {
        "colab": {
          "base_uri": "https://localhost:8080/",
          "height": 265
        },
        "id": "QkTd5GWE6JPe",
        "outputId": "361f0364-2135-4ed8-933c-634f34b36ed5"
      },
      "source": [
        "#start with one, r of 2, result over 10 days\r\n",
        "plt.plot(days, n)\r\n",
        "plt.show()"
      ],
      "execution_count": 7,
      "outputs": [
        {
          "output_type": "display_data",
          "data": {
            "image/png": "[encoded data removed]",
            "text/plain": [
              "<Figure size 432x288 with 1 Axes>"
            ]
          },
          "metadata": {
            "tags": [],
            "needs_background": "light"
          }
        }
      ]
    },
    {
      "cell_type": "code",
      "metadata": {
        "id": "CUEYF3u6D2rN"
      },
      "source": [
        "def find_ratio(*args):\r\n",
        "  arg0 = args[0]\r\n",
        "  ratios = []\r\n",
        "  for arg in args[1:]:\r\n",
        "    ratio = round(arg/arg0,8)\r\n",
        "    arg0 = arg\r\n",
        "    ratios.append(ratio)\r\n",
        "  #print(ratios)\r\n",
        "  if len(set(ratios)) == 1:\r\n",
        "    return ratio\r\n",
        "  else:\r\n",
        "    return -1"
      ],
      "execution_count": 17,
      "outputs": []
    },
    {
      "cell_type": "code",
      "metadata": {
        "colab": {
          "base_uri": "https://localhost:8080/"
        },
        "id": "IK9-2GyBD2hG",
        "outputId": "49ba3fa6-c178-47b7-977b-c7cb6fb2f6ff"
      },
      "source": [
        "find_ratio(1,2,4,8,16,32,64,128,256,512)"
      ],
      "execution_count": 18,
      "outputs": [
        {
          "output_type": "execute_result",
          "data": {
            "text/plain": [
              "2.0"
            ]
          },
          "metadata": {
            "tags": []
          },
          "execution_count": 18
        }
      ]
    },
    {
      "cell_type": "code",
      "metadata": {
        "colab": {
          "base_uri": "https://localhost:8080/"
        },
        "id": "Lz0EHc3FV-YG",
        "outputId": "3d93c2c8-dc63-4863-e063-ae36823396a6"
      },
      "source": [
        "find_ratio(1,1,2,3,5,8,13,21,34,55)"
      ],
      "execution_count": 19,
      "outputs": [
        {
          "output_type": "execute_result",
          "data": {
            "text/plain": [
              "-1"
            ]
          },
          "metadata": {
            "tags": []
          },
          "execution_count": 19
        }
      ]
    },
    {
      "cell_type": "code",
      "metadata": {
        "id": "nig1n2O8V-MA"
      },
      "source": [
        "def find_next(*args):\r\n",
        "    if find_ratio(*args) == -1:\r\n",
        "        raise ValueError('Not Geometric')\r\n",
        "    else:\r\n",
        "        return args[-1]*find_ratio(*args)"
      ],
      "execution_count": 20,
      "outputs": []
    },
    {
      "cell_type": "code",
      "metadata": {
        "colab": {
          "base_uri": "https://localhost:8080/"
        },
        "id": "X6ty_qDsXAHN",
        "outputId": "938d3c3d-1622-46f9-f47b-c48d8e83e7bd"
      },
      "source": [
        "find_next(1,2,4,8,16,32,64,128,256,512)"
      ],
      "execution_count": 21,
      "outputs": [
        {
          "output_type": "execute_result",
          "data": {
            "text/plain": [
              "1024.0"
            ]
          },
          "metadata": {
            "tags": []
          },
          "execution_count": 21
        }
      ]
    },
    {
      "cell_type": "markdown",
      "metadata": {
        "id": "mW3ASiJ1RT9W"
      },
      "source": [
        "#Recursive Sequence"
      ]
    },
    {
      "cell_type": "code",
      "metadata": {
        "id": "WkethwkpApHm"
      },
      "source": [
        "def factorial(n):\r\n",
        "  if n == 0 or n == 1:\r\n",
        "    return 1\r\n",
        "  elif n == 2:\r\n",
        "    return 2\r\n",
        "  else:\r\n",
        "    return n*factorial(n-1)"
      ],
      "execution_count": 22,
      "outputs": []
    },
    {
      "cell_type": "code",
      "metadata": {
        "id": "SjHYliNDRcHU",
        "colab": {
          "base_uri": "https://localhost:8080/"
        },
        "outputId": "5ee80997-de56-4bae-ebaa-a09fdaf1af34"
      },
      "source": [
        "factorial(3)"
      ],
      "execution_count": 24,
      "outputs": [
        {
          "output_type": "execute_result",
          "data": {
            "text/plain": [
              "6"
            ]
          },
          "metadata": {
            "tags": []
          },
          "execution_count": 24
        }
      ]
    },
    {
      "cell_type": "code",
      "metadata": {
        "id": "mz6Na-_gGukG"
      },
      "source": [
        "#sequence:  P1=1, P2=7, P3=2\r\n",
        "#relationship: Pn+3 = (3*Pn+1 - Pn+2)/(Pn + 1)\r\n",
        "\r\n",
        "def p_n(n):\r\n",
        "  if n < 1:\r\n",
        "    return -1\r\n",
        "  elif n == 1:\r\n",
        "    return 1\r\n",
        "  elif n == 2:\r\n",
        "    return 7\r\n",
        "  elif n == 3:\r\n",
        "    return 2\r\n",
        "  else:\r\n",
        "    pn = (3*p_n(n-2) - p_n(n-1)) / (p_n(n-3)+1)\r\n",
        "    return pn"
      ],
      "execution_count": 34,
      "outputs": []
    },
    {
      "cell_type": "code",
      "metadata": {
        "id": "6l1Bml8OHRR7",
        "colab": {
          "base_uri": "https://localhost:8080/"
        },
        "outputId": "ad150e56-c32a-47cf-b532-f139a1fd3887"
      },
      "source": [
        "for i in range(1,11):\r\n",
        "    print(p_n(i))"
      ],
      "execution_count": 35,
      "outputs": [
        {
          "output_type": "stream",
          "text": [
            "1\n",
            "7\n",
            "2\n",
            "9.5\n",
            "-0.4375\n",
            "9.645833333333334\n",
            "-1.0436507936507937\n",
            "53.29982363315697\n",
            "-5.30073825572847\n",
            "-3784.586609737289\n"
          ],
          "name": "stdout"
        }
      ]
    }
  ]
}