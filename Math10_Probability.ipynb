{
  "nbformat": 4,
  "nbformat_minor": 0,
  "metadata": {
    "colab": {
      "name": "Math10_Probability.ipynb",
      "provenance": [],
      "collapsed_sections": [],
      "authorship_tag": "ABX9TyMYQ2cwZ4YDZKXiDwml9QEA",
      "include_colab_link": true
    },
    "kernelspec": {
      "name": "python3",
      "display_name": "Python 3"
    }
  },
  "cells": [
    {
      "cell_type": "markdown",
      "metadata": {
        "id": "view-in-github",
        "colab_type": "text"
      },
      "source": [
        "<a href=\"https://colab.research.google.com/github/james-monahan/Stats_Calc_Workshop/blob/main/Math10_Probability.ipynb\" target=\"_parent\"><img src=\"https://colab.research.google.com/assets/colab-badge.svg\" alt=\"Open In Colab\"/></a>"
      ]
    },
    {
      "cell_type": "code",
      "metadata": {
        "id": "SdbyRmicTk1U"
      },
      "source": [
        "import pandas as pd\r\n",
        "import numpy as np\r\n",
        "import matplotlib.pyplot as plt\r\n",
        "import seaborn as sns\r\n",
        "import math\r\n",
        "import random\r\n",
        "import scipy.stats as stats"
      ],
      "execution_count": 1,
      "outputs": []
    },
    {
      "cell_type": "markdown",
      "metadata": {
        "id": "MKf8zb3NLEwf"
      },
      "source": [
        "#Numpy Simulations\r\n",
        "---\r\n",
        "\r\n"
      ]
    },
    {
      "cell_type": "code",
      "metadata": {
        "id": "BOTvqzHLmT5_"
      },
      "source": [
        "def toss_die():\r\n",
        "    outcome = np.random.randint(1, 7)\r\n",
        "    return outcome"
      ],
      "execution_count": 2,
      "outputs": []
    },
    {
      "cell_type": "code",
      "metadata": {
        "colab": {
          "base_uri": "https://localhost:8080/"
        },
        "id": "ar5xBdx0mUU4",
        "outputId": "d9b9953b-d769-4e85-9bad-7a26bd7b767d"
      },
      "source": [
        "for x in range(10):\r\n",
        "    print(toss_die(), end= \" \")"
      ],
      "execution_count": 3,
      "outputs": [
        {
          "output_type": "stream",
          "text": [
            "5 2 6 4 4 2 4 2 6 1 "
          ],
          "name": "stdout"
        }
      ]
    },
    {
      "cell_type": "code",
      "metadata": {
        "colab": {
          "base_uri": "https://localhost:8080/"
        },
        "id": "zE0dXhjvmXpk",
        "outputId": "6d85e7d8-522e-4893-dd77-15f537e31d5c"
      },
      "source": [
        "np.random.seed(123)\r\n",
        "for x in range(10):\r\n",
        "    print(toss_die(), end=', ')"
      ],
      "execution_count": 4,
      "outputs": [
        {
          "output_type": "stream",
          "text": [
            "6, 3, 5, 3, 2, 4, 3, 4, 2, 2, "
          ],
          "name": "stdout"
        }
      ]
    },
    {
      "cell_type": "code",
      "metadata": {
        "id": "Y7QTLY1EmoNb"
      },
      "source": [
        "students = ['student_' + str(i) for i in range(1,31)]"
      ],
      "execution_count": 5,
      "outputs": []
    },
    {
      "cell_type": "code",
      "metadata": {
        "colab": {
          "base_uri": "https://localhost:8080/"
        },
        "id": "BjA8x1Tum0tB",
        "outputId": "e799b051-15da-421b-c825-8233bf9af76c"
      },
      "source": [
        "sample_students = np.random.choice(a=students, size=4,\\\r\n",
        "                                   replace=False)\r\n",
        "sample_students"
      ],
      "execution_count": 6,
      "outputs": [
        {
          "output_type": "execute_result",
          "data": {
            "text/plain": [
              "array(['student_9', 'student_27', 'student_23', 'student_14'],\n",
              "      dtype='<U10')"
            ]
          },
          "metadata": {
            "tags": []
          },
          "execution_count": 6
        }
      ]
    },
    {
      "cell_type": "code",
      "metadata": {
        "colab": {
          "base_uri": "https://localhost:8080/"
        },
        "id": "QOYcW21Wm4uS",
        "outputId": "fae77bc5-dec6-410f-d059-b3a56bca9a98"
      },
      "source": [
        "sample_students2 = np.random.choice(a=students, \\\r\n",
        "                                    size=12, replace=True)\r\n",
        "for i, s in enumerate(sample_students2):\r\n",
        "    print(f'Week {i+1}: {s}')"
      ],
      "execution_count": 7,
      "outputs": [
        {
          "output_type": "stream",
          "text": [
            "Week 1: student_29\n",
            "Week 2: student_29\n",
            "Week 3: student_21\n",
            "Week 4: student_7\n",
            "Week 5: student_2\n",
            "Week 6: student_22\n",
            "Week 7: student_23\n",
            "Week 8: student_28\n",
            "Week 9: student_3\n",
            "Week 10: student_2\n",
            "Week 11: student_13\n",
            "Week 12: student_9\n"
          ],
          "name": "stdout"
        }
      ]
    },
    {
      "cell_type": "code",
      "metadata": {
        "id": "T_CDII5vnEbk"
      },
      "source": [
        "suits = ['hearts', 'diamonds', 'spades', 'clubs']\r\n",
        "ranks = ['Ace', '2', '3', '4', '5', '6', '7', '8', \\\r\n",
        "         '9', '10', 'Jack', 'Queen', 'King']"
      ],
      "execution_count": 8,
      "outputs": []
    },
    {
      "cell_type": "code",
      "metadata": {
        "id": "sJj1CZ1GnUD3"
      },
      "source": [
        "cards = [rank + '-' + suit for rank in ranks for suit in suits]"
      ],
      "execution_count": 9,
      "outputs": []
    },
    {
      "cell_type": "code",
      "metadata": {
        "colab": {
          "base_uri": "https://localhost:8080/"
        },
        "id": "3LxiMEdSnk4m",
        "outputId": "db8d557b-1e1e-49a8-e140-85f5bb8d8426"
      },
      "source": [
        "print(np.random.choice(cards, size=5, replace=False)) "
      ],
      "execution_count": 10,
      "outputs": [
        {
          "output_type": "stream",
          "text": [
            "['Jack-clubs' '9-diamonds' 'Jack-hearts' '2-hearts' '9-clubs']\n"
          ],
          "name": "stdout"
        }
      ]
    },
    {
      "cell_type": "code",
      "metadata": {
        "colab": {
          "base_uri": "https://localhost:8080/"
        },
        "id": "qD8jsBw0nnYO",
        "outputId": "d9010ae6-c10a-440f-ade8-2a484d13b57c"
      },
      "source": [
        "def deal_hands():\r\n",
        "    drawn_cards = np.random.choice(cards, size=10, \\\r\n",
        "                                   replace=False)\r\n",
        "    hand_1 = drawn_cards[:5].tolist()\r\n",
        "    hand_2 = drawn_cards[5:].tolist()\r\n",
        "    return hand_1, hand_2\r\n",
        "\r\n",
        "deal_hands()"
      ],
      "execution_count": 11,
      "outputs": [
        {
          "output_type": "execute_result",
          "data": {
            "text/plain": [
              "(['7-spades', 'King-hearts', 'Ace-spades', 'Jack-hearts', 'Jack-spades'],\n",
              " ['King-spades', '9-spades', '9-diamonds', '8-diamonds', '8-spades'])"
            ]
          },
          "metadata": {
            "tags": []
          },
          "execution_count": 11
        }
      ]
    },
    {
      "cell_type": "code",
      "metadata": {
        "colab": {
          "base_uri": "https://localhost:8080/"
        },
        "id": "mK1aIN97n7wH",
        "outputId": "36375e79-2269-4a00-b64d-763661c75f8c"
      },
      "source": [
        "def deal_hands2():\r\n",
        "    drawn_cards = np.random.choice(cards, size=10, \\\r\n",
        "                                   replace=True)\r\n",
        "    hand_1 = drawn_cards[:5].tolist()\r\n",
        "    hand_2 = drawn_cards[5:].tolist()\r\n",
        "    return hand_1, hand_2\r\n",
        "\r\n",
        "np.random.seed(2)\r\n",
        "deal_hands2()"
      ],
      "execution_count": 12,
      "outputs": [
        {
          "output_type": "execute_result",
          "data": {
            "text/plain": [
              "(['Jack-hearts', '4-clubs', 'Queen-diamonds', '3-hearts', '6-spades'],\n",
              " ['Jack-clubs', '5-spades', '3-clubs', 'Jack-hearts', '2-clubs'])"
            ]
          },
          "metadata": {
            "tags": []
          },
          "execution_count": 12
        }
      ]
    },
    {
      "cell_type": "markdown",
      "metadata": {
        "id": "9kGO9QcroQeA"
      },
      "source": [
        "#Relative Frequency"
      ]
    },
    {
      "cell_type": "code",
      "metadata": {
        "id": "gIMOe1UWoHJw"
      },
      "source": [
        "np.random.seed(81)\r\n",
        "one_million_tosses = np.random.randint(low=1, \\\r\n",
        "                                       high=7, size=int(1e6))"
      ],
      "execution_count": 13,
      "outputs": []
    },
    {
      "cell_type": "code",
      "metadata": {
        "colab": {
          "base_uri": "https://localhost:8080/"
        },
        "id": "46kUEFDKoeSK",
        "outputId": "97abc49d-380f-4230-cb3a-0f4204bc5d7c"
      },
      "source": [
        "one_million_tosses[:10]"
      ],
      "execution_count": 14,
      "outputs": [
        {
          "output_type": "execute_result",
          "data": {
            "text/plain": [
              "array([4, 2, 1, 4, 4, 4, 2, 2, 6, 3])"
            ]
          },
          "metadata": {
            "tags": []
          },
          "execution_count": 14
        }
      ]
    },
    {
      "cell_type": "code",
      "metadata": {
        "colab": {
          "base_uri": "https://localhost:8080/",
          "height": 265
        },
        "id": "AQKr35teogeQ",
        "outputId": "2975efda-79c0-4243-f96b-e3d9266eda0f"
      },
      "source": [
        "plt.hist(one_million_tosses)\r\n",
        "plt.show()"
      ],
      "execution_count": 15,
      "outputs": [
        {
          "output_type": "display_data",
          "data": {
            "image/png": "[encoded data removed]",
            "text/plain": [
              "<Figure size 432x288 with 1 Axes>"
            ]
          },
          "metadata": {
            "tags": [],
            "needs_background": "light"
          }
        }
      ]
    },
    {
      "cell_type": "code",
      "metadata": {
        "colab": {
          "base_uri": "https://localhost:8080/"
        },
        "id": "UTYts6i_oksE",
        "outputId": "02c47226-d393-44c8-eab1-424dd643d7ab"
      },
      "source": [
        "N_A_occurs = (one_million_tosses == 2).sum()\r\n",
        "Prob_A = N_A_occurs/one_million_tosses.shape[0]\r\n",
        "print(f'P(A)={Prob_A}')"
      ],
      "execution_count": 16,
      "outputs": [
        {
          "output_type": "stream",
          "text": [
            "P(A)=0.16595\n"
          ],
          "name": "stdout"
        }
      ]
    },
    {
      "cell_type": "code",
      "metadata": {
        "colab": {
          "base_uri": "https://localhost:8080/"
        },
        "id": "YaweXx8Ao08c",
        "outputId": "c5c3fa31-ba62-48b3-d8a0-55c4b895962a"
      },
      "source": [
        "N_B_occurs = (one_million_tosses == 6).sum()\r\n",
        "Prob_B = N_B_occurs/one_million_tosses.shape[0]\r\n",
        "print(f'P(B)={Prob_B}')"
      ],
      "execution_count": 17,
      "outputs": [
        {
          "output_type": "stream",
          "text": [
            "P(B)=0.166809\n"
          ],
          "name": "stdout"
        }
      ]
    },
    {
      "cell_type": "code",
      "metadata": {
        "colab": {
          "base_uri": "https://localhost:8080/"
        },
        "id": "kS-Pi0kwpzy5",
        "outputId": "c94a6dbd-4c2a-4b2f-e5ff-563889807bb7"
      },
      "source": [
        "N_odd_number = (\r\n",
        "    (one_million_tosses == 1) | \r\n",
        "    (one_million_tosses == 3) | \r\n",
        "    (one_million_tosses == 5)).sum()\r\n",
        "Prob_C = N_odd_number/one_million_tosses.shape[0]\r\n",
        "print(f'P(C)={Prob_C}')"
      ],
      "execution_count": 18,
      "outputs": [
        {
          "output_type": "stream",
          "text": [
            "P(C)=0.501162\n"
          ],
          "name": "stdout"
        }
      ]
    },
    {
      "cell_type": "code",
      "metadata": {
        "colab": {
          "base_uri": "https://localhost:8080/"
        },
        "id": "0p0nZembp_Vv",
        "outputId": "46e38f59-cbd1-476f-9187-3477e3323da8"
      },
      "source": [
        "N_D_occurs = (one_million_tosses < 5).sum()\r\n",
        "Prob_D = N_D_occurs/one_million_tosses.shape[0]\r\n",
        "print(f'P(D)={Prob_D}')"
      ],
      "execution_count": 19,
      "outputs": [
        {
          "output_type": "stream",
          "text": [
            "P(D)=0.666004\n"
          ],
          "name": "stdout"
        }
      ]
    },
    {
      "cell_type": "code",
      "metadata": {
        "id": "ajjd82hTqECg"
      },
      "source": [
        "np.random.seed(55)\r\n",
        "number_of_tosses = int(1e5)\r\n",
        "die_1 = np.random.randint(1,7, size=number_of_tosses)\r\n",
        "die_2 = np.random.randint(1,7, size=number_of_tosses)\r\n",
        "X = die_1 + die_2"
      ],
      "execution_count": 20,
      "outputs": []
    },
    {
      "cell_type": "code",
      "metadata": {
        "colab": {
          "base_uri": "https://localhost:8080/"
        },
        "id": "sUpQJx9krFUe",
        "outputId": "eecd4b53-2db9-48b8-c167-31c55f5e3a2e"
      },
      "source": [
        "print(die_1[:10])\r\n",
        "print(die_2[:10])\r\n",
        "print(X[:10])"
      ],
      "execution_count": 21,
      "outputs": [
        {
          "output_type": "stream",
          "text": [
            "[6 3 1 6 6 6 6 6 4 2]\n",
            "[1 2 3 5 1 3 3 6 3 1]\n",
            "[ 7  5  4 11  7  9  9 12  7  3]\n"
          ],
          "name": "stdout"
        }
      ]
    },
    {
      "cell_type": "code",
      "metadata": {
        "colab": {
          "base_uri": "https://localhost:8080/"
        },
        "id": "WqtnjfeRrIpO",
        "outputId": "d9a3ea9a-8d4e-4bfe-b663-4b9ec86ec3df"
      },
      "source": [
        "Prob_X_is_10 = (X == 10).sum()/X.shape[0]\r\n",
        "print(f'P(X = 10) = {Prob_X_is_10}')"
      ],
      "execution_count": 22,
      "outputs": [
        {
          "output_type": "stream",
          "text": [
            "P(X = 10) = 0.08329\n"
          ],
          "name": "stdout"
        }
      ]
    },
    {
      "cell_type": "code",
      "metadata": {
        "colab": {
          "base_uri": "https://localhost:8080/"
        },
        "id": "t6EtcWBirUFE",
        "outputId": "aca0a18b-1624-4224-d831-6010d5b07dec"
      },
      "source": [
        "Prob_X_is_gt_5 = (X > 5).sum()/X.shape[0]\r\n",
        "print(f'P(X > 5) = {Prob_X_is_gt_5}')"
      ],
      "execution_count": 23,
      "outputs": [
        {
          "output_type": "stream",
          "text": [
            "P(X > 5) = 0.72197\n"
          ],
          "name": "stdout"
        }
      ]
    },
    {
      "cell_type": "code",
      "metadata": {
        "colab": {
          "base_uri": "https://localhost:8080/",
          "height": 268
        },
        "id": "eTK3MLZBrcZ7",
        "outputId": "518d86b7-3547-443e-e90e-3975006f0ce0"
      },
      "source": [
        "X = pd.Series(X)\r\n",
        "# counts the occurrences of each value\r\n",
        "freq_of_X_values = X.value_counts()\r\n",
        "freq_of_X_values.sort_index().plot(kind='bar')\r\n",
        "plt.grid()"
      ],
      "execution_count": 24,
      "outputs": [
        {
          "output_type": "display_data",
          "data": {
            "image/png": "[encoded data removed]",
            "text/plain": [
              "<Figure size 432x288 with 1 Axes>"
            ]
          },
          "metadata": {
            "tags": [],
            "needs_background": "light"
          }
        }
      ]
    },
    {
      "cell_type": "code",
      "metadata": {
        "colab": {
          "base_uri": "https://localhost:8080/",
          "height": 268
        },
        "id": "HDRj1v7Crjjp",
        "outputId": "4e2b6fc4-9667-461b-f1a1-277855231d27"
      },
      "source": [
        "Prob_of_X_values = freq_of_X_values/X.shape[0]\r\n",
        "Prob_of_X_values.sort_index().plot(kind='bar')\r\n",
        "plt.grid()"
      ],
      "execution_count": 25,
      "outputs": [
        {
          "output_type": "display_data",
          "data": {
            "image/png": "[encoded data removed]",
            "text/plain": [
              "<Figure size 432x288 with 1 Axes>"
            ]
          },
          "metadata": {
            "tags": [],
            "needs_background": "light"
          }
        }
      ]
    },
    {
      "cell_type": "code",
      "metadata": {
        "id": "WyMBY9g0r7gf"
      },
      "source": [
        "np.random.seed(97)\r\n",
        "ten_coins_a_million_times = np.random.randint(0, 2, \\\r\n",
        "                                              size=int(10e6))\\\r\n",
        "                                              .reshape(-1,10) "
      ],
      "execution_count": 26,
      "outputs": []
    },
    {
      "cell_type": "code",
      "metadata": {
        "colab": {
          "base_uri": "https://localhost:8080/"
        },
        "id": "0iERSaiBsWTM",
        "outputId": "eb79a3a2-86fd-4c75-f387-3a753ec640f1"
      },
      "source": [
        "ten_coins_a_million_times[:12, :]"
      ],
      "execution_count": 27,
      "outputs": [
        {
          "output_type": "execute_result",
          "data": {
            "text/plain": [
              "array([[0, 1, 1, 1, 1, 1, 0, 1, 1, 0],\n",
              "       [0, 0, 1, 1, 1, 0, 1, 0, 0, 0],\n",
              "       [0, 1, 0, 1, 1, 0, 0, 0, 0, 1],\n",
              "       [1, 0, 1, 1, 0, 1, 0, 0, 1, 1],\n",
              "       [1, 0, 1, 0, 1, 0, 1, 0, 0, 0],\n",
              "       [0, 1, 1, 1, 0, 1, 1, 1, 1, 0],\n",
              "       [1, 1, 1, 1, 0, 1, 0, 1, 0, 1],\n",
              "       [0, 1, 0, 0, 1, 1, 1, 0, 0, 0],\n",
              "       [1, 0, 0, 1, 1, 1, 0, 0, 0, 0],\n",
              "       [0, 1, 0, 1, 0, 1, 0, 1, 0, 1],\n",
              "       [1, 0, 1, 1, 1, 0, 0, 0, 1, 0],\n",
              "       [0, 0, 0, 0, 1, 1, 1, 0, 1, 1]])"
            ]
          },
          "metadata": {
            "tags": []
          },
          "execution_count": 27
        }
      ]
    },
    {
      "cell_type": "code",
      "metadata": {
        "id": "wbTvClZqse0f"
      },
      "source": [
        "Y = ten_coins_a_million_times.sum(axis=1)"
      ],
      "execution_count": 28,
      "outputs": []
    },
    {
      "cell_type": "code",
      "metadata": {
        "colab": {
          "base_uri": "https://localhost:8080/"
        },
        "id": "9SJW_EP0soLx",
        "outputId": "d7706d6a-0c30-4a6d-ef09-f45d6ba1b0e8"
      },
      "source": [
        "Prob_Y_is_0 = (Y == 0).sum() / Y.shape[0]\r\n",
        "print(f'P(Y = 0) = {Prob_Y_is_0}')"
      ],
      "execution_count": 29,
      "outputs": [
        {
          "output_type": "stream",
          "text": [
            "P(Y = 0) = 0.000986\n"
          ],
          "name": "stdout"
        }
      ]
    },
    {
      "cell_type": "code",
      "metadata": {
        "colab": {
          "base_uri": "https://localhost:8080/",
          "height": 268
        },
        "id": "TaeBIrLesrDV",
        "outputId": "e8f35197-e6b7-48e0-df5d-d75231d16df5"
      },
      "source": [
        "Y = pd.Series(Y)\r\n",
        "# counts the occurrences of each value\r\n",
        "freq_of_Y_values = Y.value_counts()\r\n",
        "Prob_of_Y_values = freq_of_Y_values/Y.shape[0]\r\n",
        "Prob_of_Y_values.sort_index().plot(kind='bar')\r\n",
        "plt.grid()"
      ],
      "execution_count": 30,
      "outputs": [
        {
          "output_type": "display_data",
          "data": {
            "image/png": "[encoded data removed]",
            "text/plain": [
              "<Figure size 432x288 with 1 Axes>"
            ]
          },
          "metadata": {
            "tags": [],
            "needs_background": "light"
          }
        }
      ]
    },
    {
      "cell_type": "code",
      "metadata": {
        "colab": {
          "base_uri": "https://localhost:8080/"
        },
        "id": "TMluRUkTs1D8",
        "outputId": "2e610b69-4bb6-429c-9724-7fa5393e4430"
      },
      "source": [
        "print(Prob_of_Y_values.loc[[4,5,6]])\r\n",
        "print(f'P(4<=Y<=6) = {Prob_of_Y_values.loc[[4,5,6]].sum()}')"
      ],
      "execution_count": 31,
      "outputs": [
        {
          "output_type": "stream",
          "text": [
            "4    0.205283\n",
            "5    0.246114\n",
            "6    0.205761\n",
            "dtype: float64\n",
            "P(4<=Y<=6) = 0.657158\n"
          ],
          "name": "stdout"
        }
      ]
    },
    {
      "cell_type": "markdown",
      "metadata": {
        "id": "NxZivgc3tqiC"
      },
      "source": [
        "#Roulette Simulation"
      ]
    },
    {
      "cell_type": "code",
      "metadata": {
        "id": "xD6VQRabtUJd"
      },
      "source": [
        "def roulette(number_of_games=1):\r\n",
        "    \r\n",
        "    # generate the Roulette numbers\r\n",
        "    roulette_numbers = np.arange(0, 37)\r\n",
        "    \r\n",
        "    outcome = np.random.choice(a = roulette_numbers, \\\r\n",
        "                               size = number_of_games,\\\r\n",
        "                               replace = True)\r\n",
        "    return outcome"
      ],
      "execution_count": 32,
      "outputs": []
    },
    {
      "cell_type": "code",
      "metadata": {
        "id": "WMzOmzdstfxl"
      },
      "source": [
        "def payoff(outcome, units=1):\r\n",
        "    # 1. Bet m units on the numbers from 19 to 36\r\n",
        "    # 2. If the outcome of the roulette is any of the \r\n",
        "    #    selected numbers, then you win m units\r\n",
        "    if outcome > 18:\r\n",
        "        pay = units\r\n",
        "    else:\r\n",
        "    # 3. If the outcome of the roulette is any number \r\n",
        "    #    between 0 and 18 (inclusive) then you lose m units\r\n",
        "        pay = -units\r\n",
        "    return pay"
      ],
      "execution_count": 33,
      "outputs": []
    },
    {
      "cell_type": "code",
      "metadata": {
        "id": "ibob6EVAuTOs"
      },
      "source": [
        "payoff = np.vectorize(payoff)"
      ],
      "execution_count": 34,
      "outputs": []
    },
    {
      "cell_type": "code",
      "metadata": {
        "colab": {
          "base_uri": "https://localhost:8080/"
        },
        "id": "8bSYnw6wuZ_8",
        "outputId": "a625da5a-8bad-43b5-e6f9-ad8b0d35ecb7"
      },
      "source": [
        "outcomes = roulette(20)\r\n",
        "payoffs = payoff(outcomes)\r\n",
        "print(outcomes)\r\n",
        "print(payoffs)"
      ],
      "execution_count": 35,
      "outputs": [
        {
          "output_type": "stream",
          "text": [
            "[ 4 35 32  4 23  4 36 23 36 26 11 26  3 30 10 26 35  6  0 22]\n",
            "[-1  1  1 -1  1 -1  1  1  1  1 -1  1 -1  1 -1  1  1 -1 -1  1]\n"
          ],
          "name": "stdout"
        }
      ]
    },
    {
      "cell_type": "code",
      "metadata": {
        "id": "zdY6vuvjuqGD"
      },
      "source": [
        "number_of_games = int(1e6)\r\n",
        "outcomes = roulette(number_of_games)\r\n",
        "payoffs = payoff(outcomes)"
      ],
      "execution_count": 36,
      "outputs": []
    },
    {
      "cell_type": "code",
      "metadata": {
        "colab": {
          "base_uri": "https://localhost:8080/"
        },
        "id": "t-QCInRCu0I0",
        "outputId": "bbc97888-f9e4-4938-9bfb-47c3ee0bb3da"
      },
      "source": [
        "np.mean(payoffs)"
      ],
      "execution_count": 37,
      "outputs": [
        {
          "output_type": "execute_result",
          "data": {
            "text/plain": [
              "-0.025488"
            ]
          },
          "metadata": {
            "tags": []
          },
          "execution_count": 37
        }
      ]
    },
    {
      "cell_type": "markdown",
      "metadata": {
        "id": "3UkTvhW2AZAp"
      },
      "source": [
        "#Discrete Random Variables"
      ]
    },
    {
      "cell_type": "code",
      "metadata": {
        "id": "DvbBnnQvu27o",
        "colab": {
          "base_uri": "https://localhost:8080/"
        },
        "outputId": "17d85889-122b-4ca5-be38-512b847d7075"
      },
      "source": [
        "np.random.seed(977)\r\n",
        "np.random.choice(['defective', 'good'], \\\r\n",
        "                 size=12, p=(0.04, 0.96))"
      ],
      "execution_count": 38,
      "outputs": [
        {
          "output_type": "execute_result",
          "data": {
            "text/plain": [
              "array(['good', 'good', 'good', 'good', 'good', 'good', 'good',\n",
              "       'defective', 'good', 'good', 'good', 'good'], dtype='<U9')"
            ]
          },
          "metadata": {
            "tags": []
          },
          "execution_count": 38
        }
      ]
    },
    {
      "cell_type": "code",
      "metadata": {
        "id": "cxHsZeeiBlTG"
      },
      "source": [
        "np.random.seed(10)\r\n",
        "n_boxes = int(1e6)\r\n",
        "parts_per_box = 12\r\n",
        "one_million_boxes = np.random.choice\\\r\n",
        "                    ([1, 0], \\\r\n",
        "                     size=(n_boxes, parts_per_box), \\\r\n",
        "                     p=(0.04, 0.96))"
      ],
      "execution_count": 39,
      "outputs": []
    },
    {
      "cell_type": "code",
      "metadata": {
        "colab": {
          "base_uri": "https://localhost:8080/"
        },
        "id": "cErNmwR4B-A6",
        "outputId": "0b8021ed-08fa-4104-dd54-cd3d6c862dd8"
      },
      "source": [
        "one_million_boxes[:5,:]"
      ],
      "execution_count": 40,
      "outputs": [
        {
          "output_type": "execute_result",
          "data": {
            "text/plain": [
              "array([[0, 1, 0, 0, 0, 0, 0, 0, 0, 0, 0, 0],\n",
              "       [1, 0, 0, 0, 0, 0, 0, 0, 0, 0, 0, 0],\n",
              "       [0, 0, 0, 0, 0, 0, 0, 0, 0, 0, 0, 0],\n",
              "       [0, 0, 0, 0, 0, 0, 0, 0, 0, 0, 0, 0],\n",
              "       [0, 0, 0, 0, 0, 0, 0, 0, 0, 0, 0, 0]])"
            ]
          },
          "metadata": {
            "tags": []
          },
          "execution_count": 40
        }
      ]
    },
    {
      "cell_type": "code",
      "metadata": {
        "id": "T_1CgFJTCB1o"
      },
      "source": [
        "# count defective pieces per box\r\n",
        "defective_pieces_per_box = one_million_boxes.sum(axis=1)\r\n",
        "# count how many times we observed 0, 1,…, 12 defective pieces\r\n",
        "defective_pieces_per_box = pd.Series(defective_pieces_per_box)\r\n",
        "frequencies = defective_pieces_per_box.value_counts()\r\n",
        "# probability distribution\r\n",
        "probs_Z = frequencies/n_boxes"
      ],
      "execution_count": 41,
      "outputs": []
    },
    {
      "cell_type": "code",
      "metadata": {
        "colab": {
          "base_uri": "https://localhost:8080/",
          "height": 426
        },
        "id": "c_dExv6RCcte",
        "outputId": "24ec4a46-6fae-4182-87e3-aa6dcca3f1d8"
      },
      "source": [
        "print(probs_Z.sort_index())\r\n",
        "probs_Z.sort_index().plot(kind='bar')\r\n",
        "plt.grid()"
      ],
      "execution_count": 42,
      "outputs": [
        {
          "output_type": "stream",
          "text": [
            "0    0.612402\n",
            "1    0.306383\n",
            "2    0.070584\n",
            "3    0.009630\n",
            "4    0.000940\n",
            "5    0.000056\n",
            "6    0.000004\n",
            "7    0.000001\n",
            "dtype: float64\n"
          ],
          "name": "stdout"
        },
        {
          "output_type": "display_data",
          "data": {
            "image/png": "[encoded data removed]",
            "text/plain": [
              "<Figure size 432x288 with 1 Axes>"
            ]
          },
          "metadata": {
            "tags": [],
            "needs_background": "light"
          }
        }
      ]
    },
    {
      "cell_type": "markdown",
      "metadata": {
        "id": "jmUvIqQ3DMAP"
      },
      "source": [
        "#Binomial Distribution"
      ]
    },
    {
      "cell_type": "code",
      "metadata": {
        "id": "uYvkFzJ8CfBC"
      },
      "source": [
        "Y_rv = stats.binom(\r\n",
        "    n = 10, # number of coins\r\n",
        "    p = 0.5 # probability of heads (success)\r\n",
        ")"
      ],
      "execution_count": 43,
      "outputs": []
    },
    {
      "cell_type": "code",
      "metadata": {
        "id": "WtyPV03MGSuG"
      },
      "source": [
        "y_values = np.arange(0,11)"
      ],
      "execution_count": 44,
      "outputs": []
    },
    {
      "cell_type": "code",
      "metadata": {
        "id": "I4xRXtq4GhIe"
      },
      "source": [
        "Y_probs = Y_rv.pmf(y_values) "
      ],
      "execution_count": 45,
      "outputs": []
    },
    {
      "cell_type": "code",
      "metadata": {
        "colab": {
          "base_uri": "https://localhost:8080/",
          "height": 265
        },
        "id": "Ti0LFP6-Gv39",
        "outputId": "e9e8931e-b10f-4048-fb4f-83cb3a41425f"
      },
      "source": [
        "fig, ax = plt.subplots()\r\n",
        "ax.bar(y_values, Y_probs)\r\n",
        "ax.set_xticks(y_values)\r\n",
        "ax.grid()"
      ],
      "execution_count": 46,
      "outputs": [
        {
          "output_type": "display_data",
          "data": {
            "image/png": "[encoded data removed]",
            "text/plain": [
              "<Figure size 432x288 with 1 Axes>"
            ]
          },
          "metadata": {
            "tags": [],
            "needs_background": "light"
          }
        }
      ]
    },
    {
      "cell_type": "code",
      "metadata": {
        "colab": {
          "base_uri": "https://localhost:8080/",
          "height": 268
        },
        "id": "U6o6OpQYHLqY",
        "outputId": "2a4e5978-30a2-4084-a350-caf9bae60cc8"
      },
      "source": [
        "Y_rv_df = pd.DataFrame({'Y_simulated_pmf': Prob_of_Y_values,\\\r\n",
        "                        'Y_theoretical_pmf':  Y_probs},\\\r\n",
        "                        index=y_values)\r\n",
        "Y_rv_df.plot(kind='bar')\r\n",
        "plt.grid()"
      ],
      "execution_count": 47,
      "outputs": [
        {
          "output_type": "display_data",
          "data": {
            "image/png": "[encoded data removed]",
            "text/plain": [
              "<Figure size 432x288 with 1 Axes>"
            ]
          },
          "metadata": {
            "tags": [],
            "needs_background": "light"
          }
        }
      ]
    },
    {
      "cell_type": "markdown",
      "metadata": {
        "id": "bNO_NAr5H8Px"
      },
      "source": [
        "#Checking if Random Variable Follows Binomial Distribution"
      ]
    },
    {
      "cell_type": "code",
      "metadata": {
        "id": "hgRcYpQOHyqR"
      },
      "source": [
        "# number of parts per box\r\n",
        "parts_per_box = 12\r\n",
        "Z_rv = stats.binom\\\r\n",
        "       (n = parts_per_box,\\\r\n",
        "        p = 0.04 # probability of defective piece (success)\r\n",
        "        )"
      ],
      "execution_count": 48,
      "outputs": []
    },
    {
      "cell_type": "code",
      "metadata": {
        "colab": {
          "base_uri": "https://localhost:8080/",
          "height": 265
        },
        "id": "qzpRz3NqMPYK",
        "outputId": "17f7e943-b66b-43a1-f6f7-8b4363cdadf1"
      },
      "source": [
        "z_possible_values = np.arange(0, parts_per_box + 1)\r\n",
        "Z_probs = Z_rv.pmf(z_possible_values)\r\n",
        "fig, ax = plt.subplots()\r\n",
        "ax.bar(z_possible_values, Z_probs)\r\n",
        "ax.set_xticks(z_possible_values)\r\n",
        "ax.grid()"
      ],
      "execution_count": 49,
      "outputs": [
        {
          "output_type": "display_data",
          "data": {
            "image/png": "[encoded data removed]",
            "text/plain": [
              "<Figure size 432x288 with 1 Axes>"
            ]
          },
          "metadata": {
            "tags": [],
            "needs_background": "light"
          }
        }
      ]
    },
    {
      "cell_type": "markdown",
      "metadata": {
        "id": "wNMKDF_RNUak"
      },
      "source": [
        "#Continuous Random Variables"
      ]
    },
    {
      "cell_type": "code",
      "metadata": {
        "id": "PKKmfBFjMa8P"
      },
      "source": [
        "link = \"https://raw.githubusercontent.com/PacktWorkshops/The-Statistics-and-Calculus-with-Python-Workshop/master/Chapter07/data/appstore_games.csv\""
      ],
      "execution_count": 51,
      "outputs": []
    },
    {
      "cell_type": "code",
      "metadata": {
        "id": "GmN4-5hPPTpr"
      },
      "source": [
        "games = pd.read_csv(link)"
      ],
      "execution_count": 52,
      "outputs": []
    },
    {
      "cell_type": "code",
      "metadata": {
        "id": "48LfEsxpPd4T"
      },
      "source": [
        "original_colums_dict = {x: x.lower().replace(' ','_') \\\r\n",
        "                        for x in games.columns}\r\n",
        "games.rename(columns = original_colums_dict, inplace = True)"
      ],
      "execution_count": 53,
      "outputs": []
    },
    {
      "cell_type": "code",
      "metadata": {
        "colab": {
          "base_uri": "https://localhost:8080/",
          "height": 283
        },
        "id": "BIBsqvP3Pipe",
        "outputId": "d01a0c1e-7df1-45d3-c794-d26dc0a99a5f"
      },
      "source": [
        "games['size'] = games['size']/(1e6)\r\n",
        "# replacing the one missing value with the median\r\n",
        "games['size'] = games['size'].fillna(games['size'].median())\r\n",
        "games['size'].hist(bins = 50, ec='k')"
      ],
      "execution_count": 55,
      "outputs": [
        {
          "output_type": "execute_result",
          "data": {
            "text/plain": [
              "<matplotlib.axes._subplots.AxesSubplot at 0x7f15e38ae3d0>"
            ]
          },
          "metadata": {
            "tags": []
          },
          "execution_count": 55
        },
        {
          "output_type": "display_data",
          "data": {
            "image/png": "[encoded data removed]",
            "text/plain": [
              "<Figure size 432x288 with 1 Axes>"
            ]
          },
          "metadata": {
            "tags": [],
            "needs_background": "light"
          }
        }
      ]
    },
    {
      "cell_type": "code",
      "metadata": {
        "colab": {
          "base_uri": "https://localhost:8080/"
        },
        "id": "JRMweq8rPnh_",
        "outputId": "ffbf7374-66b4-4045-9f9c-3ffcdb2138f0"
      },
      "source": [
        "# get the number of games to use as denominator\r\n",
        "number_of_games = games['size'].size\r\n",
        "# calculate probabilities\r\n",
        "prob_X_gt_100 = (games['size'] > 100).sum()/number_of_games\r\n",
        "prob_X_bt_100_and_400 = ((games['size'] >= 100) & \\\r\n",
        "                         (games['size'] <= 400))\\\r\n",
        "                         .sum()/number_of_games\r\n",
        "prob_X_eq_152_53 = (games['size'] == 152.53).sum()/number_of_games\r\n",
        "# print the results\r\n",
        "print(f'P(X > 100) = {prob_X_gt_100:0.5f}')\r\n",
        "print(f'P(100 <= X <= 400) = {prob_X_bt_100_and_400:0.5f}')\r\n",
        "print(f'P(X = 152.53) = {prob_X_eq_152_53:0.5f}')"
      ],
      "execution_count": 58,
      "outputs": [
        {
          "output_type": "stream",
          "text": [
            "P(X > 100) = 0.33098\n",
            "P(100 <= X <= 400) = 0.28306\n",
            "P(X = 152.53) = 0.00000\n"
          ],
          "name": "stdout"
        }
      ]
    },
    {
      "cell_type": "code",
      "metadata": {
        "id": "ygpYZcn-P-AY"
      },
      "source": [
        "# set the mu and sigma parameters of the distribution\r\n",
        "heights_mean = 170\r\n",
        "heights_sd = 10\r\n",
        "# instantiate the random variable object\r\n",
        "heights_rv = stats.norm(\r\n",
        "        loc = heights_mean, # mean of the distribution\r\n",
        "        scale = heights_sd  # standard deviation\r\n",
        ")"
      ],
      "execution_count": 59,
      "outputs": []
    },
    {
      "cell_type": "code",
      "metadata": {
        "colab": {
          "base_uri": "https://localhost:8080/"
        },
        "id": "pIQiz-gNP_vr",
        "outputId": "a9252d97-9cad-4979-935d-88dd0322defb"
      },
      "source": [
        "heights_rv.pdf(175)"
      ],
      "execution_count": 68,
      "outputs": [
        {
          "output_type": "execute_result",
          "data": {
            "text/plain": [
              "0.03520653267642995"
            ]
          },
          "metadata": {
            "tags": []
          },
          "execution_count": 68
        }
      ]
    },
    {
      "cell_type": "code",
      "metadata": {
        "id": "nIX9Gsk9RVsU"
      },
      "source": [
        "values = np.linspace(130, 210, num=200)"
      ],
      "execution_count": 69,
      "outputs": []
    },
    {
      "cell_type": "code",
      "metadata": {
        "colab": {
          "base_uri": "https://localhost:8080/",
          "height": 265
        },
        "id": "_ZZsovExR8t2",
        "outputId": "ba853ac4-02cc-455c-de4a-5206d7c0fd88"
      },
      "source": [
        "heights_rv_pdf = heights_rv.pdf(values)\r\n",
        "plt.plot(values, heights_rv_pdf)\r\n",
        "plt.grid()"
      ],
      "execution_count": 70,
      "outputs": [
        {
          "output_type": "display_data",
          "data": {
            "image/png": "[encoded data removed]",
            "text/plain": [
              "<Figure size 432x288 with 1 Axes>"
            ]
          },
          "metadata": {
            "tags": [],
            "needs_background": "light"
          }
        }
      ]
    },
    {
      "cell_type": "code",
      "metadata": {
        "colab": {
          "base_uri": "https://localhost:8080/"
        },
        "id": "ei46GmGySAEk",
        "outputId": "b02d5ec0-2348-465e-d522-ede49b1f9cd1"
      },
      "source": [
        "sample_heighs = heights_rv.rvs(size = 5, random_state = 998)\r\n",
        "for i, h in enumerate(sample_heighs):\r\n",
        "    print(f'Men {i + 1} height: {h:0.1f}')"
      ],
      "execution_count": 73,
      "outputs": [
        {
          "output_type": "stream",
          "text": [
            "Men 1 height: 171.2\n",
            "Men 2 height: 173.3\n",
            "Men 3 height: 157.1\n",
            "Men 4 height: 164.9\n",
            "Men 5 height: 179.1\n"
          ],
          "name": "stdout"
        }
      ]
    },
    {
      "cell_type": "code",
      "metadata": {
        "colab": {
          "base_uri": "https://localhost:8080/"
        },
        "id": "t6qY2mWCSnUq",
        "outputId": "8598368d-73fb-4083-a32e-33b7430dd883"
      },
      "source": [
        "# size of the simulation\r\n",
        "sim_size = int(1e5)\r\n",
        "# simulate the random samples\r\n",
        "sample_heights = heights_rv.rvs\\\r\n",
        "                 (size = sim_size,\\\r\n",
        "                  random_state = 88)\r\n",
        "Prob_event = (sample_heights > 190).sum()/sim_size\r\n",
        "print(f'Probability of a male > 190 cm: {Prob_event:0.5f} \\\r\n",
        " (or {100*Prob_event:0.2f}%)')"
      ],
      "execution_count": 74,
      "outputs": [
        {
          "output_type": "stream",
          "text": [
            "Probability of a male > 190 cm: 0.02303  (or 2.30%)\n"
          ],
          "name": "stdout"
        }
      ]
    },
    {
      "cell_type": "code",
      "metadata": {
        "id": "ZJG9YPGnTb84"
      },
      "source": [
        "# parameters of distributions\r\n",
        "heights_means = [170, 170, 175]\r\n",
        "heights_sds = [10, 5, 10]\r\n",
        "countries = ['Country A', 'Country B', 'Country C']\r\n",
        "heights_rvs = {}\r\n",
        "plotting_values = {}\r\n",
        "# creating the random variables\r\n",
        "for i, country in enumerate(countries):\r\n",
        "    heights_rvs[country] = stats.norm(\r\n",
        "        loc = heights_means[i], # mean of the distribution\r\n",
        "        scale = heights_sds[i]  # standard deviation\r\n",
        "    )"
      ],
      "execution_count": 76,
      "outputs": []
    },
    {
      "cell_type": "code",
      "metadata": {
        "colab": {
          "base_uri": "https://localhost:8080/",
          "height": 265
        },
        "id": "iHblsEG3TztV",
        "outputId": "c5719335-e1e5-45a2-85bb-a87ecd04daa8"
      },
      "source": [
        "# getting x and y values for plotting the distributions\r\n",
        "for i, country in enumerate(countries):\r\n",
        "    x_values = np.linspace(heights_means[i] - 4*heights_sds[i], \\\r\n",
        "                           heights_means[i] + 4*heights_sds[i])\r\n",
        "    y_values = heights_rvs[country].pdf(x_values)\r\n",
        "    plotting_values[country] = (x_values, y_values)\r\n",
        "    \r\n",
        "# plotting the three distributions\r\n",
        "fig, ax = plt.subplots(figsize = (8, 4))\r\n",
        "for i, country in enumerate(countries):\r\n",
        "    ax.plot(plotting_values[country][0], \\\r\n",
        "            plotting_values[country][1], \\\r\n",
        "            label=country, lw = 2)\r\n",
        "    \r\n",
        "ax.set_xticks(np.arange(130, 220, 5))\r\n",
        "plt.legend()\r\n",
        "plt.grid()"
      ],
      "execution_count": 77,
      "outputs": [
        {
          "output_type": "display_data",
          "data": {
            "image/png": "[encoded data removed]",
            "text/plain": [
              "<Figure size 576x288 with 1 Axes>"
            ]
          },
          "metadata": {
            "tags": [],
            "needs_background": "light"
          }
        }
      ]
    },
    {
      "cell_type": "code",
      "metadata": {
        "colab": {
          "base_uri": "https://localhost:8080/",
          "height": 293
        },
        "id": "b8mAP-wKWfSk",
        "outputId": "24c7a83b-a689-46a1-a084-a56034bfcc10"
      },
      "source": [
        "from matplotlib.patches import Polygon\r\n",
        "def func(x):\r\n",
        "    return heights_rv.pdf(x)\r\n",
        "lower_lim = 160\r\n",
        "upper_lim = 180\r\n",
        "x = np.linspace(130, 210)\r\n",
        "y = func(x)\r\n",
        "\r\n",
        "fig, ax = plt.subplots(figsize=(8,4))\r\n",
        "ax.plot(x, y, 'blue', linewidth=2)\r\n",
        "ax.set_ylim(bottom=0)\r\n",
        "# Make the shaded region\r\n",
        "ix = np.linspace(lower_lim, upper_lim)\r\n",
        "iy = func(ix)\r\n",
        "verts = [(lower_lim, 0), *zip(ix, iy), (upper_lim, 0)]\r\n",
        "poly = Polygon(verts, facecolor='0.9', edgecolor='0.5')\r\n",
        "ax.add_patch(poly)\r\n",
        "ax.text(0.5 * (lower_lim + upper_lim), 0.01, \\\r\n",
        "        r\"$\\int_{160}^{180} f(x)\\mathrm{d}x$\", \\\r\n",
        "        horizontalalignment='center', fontsize=15)\r\n",
        "fig.text(0.85, 0.05, '$height$')\r\n",
        "fig.text(0.08, 0.85, '$f(x)$')\r\n",
        "ax.spines['right'].set_visible(False)\r\n",
        "ax.spines['top'].set_visible(False)\r\n",
        "ax.xaxis.set_ticks_position('bottom')\r\n",
        "ax.set_xticks((lower_lim, upper_lim))\r\n",
        "ax.set_xticklabels(('$160$', '$180$'))\r\n",
        "ax.set_yticks([])"
      ],
      "execution_count": 84,
      "outputs": [
        {
          "output_type": "execute_result",
          "data": {
            "text/plain": [
              "[]"
            ]
          },
          "metadata": {
            "tags": []
          },
          "execution_count": 84
        },
        {
          "output_type": "display_data",
          "data": {
            "image/png": "[encoded data removed]",
            "text/plain": [
              "<Figure size 576x288 with 1 Axes>"
            ]
          },
          "metadata": {
            "tags": [],
            "needs_background": "light"
          }
        }
      ]
    },
    {
      "cell_type": "code",
      "metadata": {
        "colab": {
          "base_uri": "https://localhost:8080/"
        },
        "id": "uV6ZQ_75YRis",
        "outputId": "4ab7926d-0c46-4cb4-bdd1-616f7754c9bc"
      },
      "source": [
        "# limits of the integral\r\n",
        "lower_lim = 160\r\n",
        "upper_lim = 180\r\n",
        "# calculating the area under the curve\r\n",
        "Prob_X_in_160_180 = heights_rv.cdf(upper_lim) - \\\r\n",
        "                    heights_rv.cdf(lower_lim)\r\n",
        "# print the result\r\n",
        "print(f'Prob(160 <= X <= 180) = {Prob_X_in_160_180:0.4f}')"
      ],
      "execution_count": 87,
      "outputs": [
        {
          "output_type": "stream",
          "text": [
            "Prob(160 <= X <= 180) = 0.6827\n"
          ],
          "name": "stdout"
        }
      ]
    },
    {
      "cell_type": "code",
      "metadata": {
        "colab": {
          "base_uri": "https://localhost:8080/"
        },
        "id": "iP62hQnIYyfL",
        "outputId": "9ef3b29d-2997-41b1-f8a8-0aefc441eda5"
      },
      "source": [
        "# limits of the integral\r\n",
        "lower_lim = 190\r\n",
        "upper_lim = np.Inf # since we are asking X > 190\r\n",
        "# calculating the area under the curve\r\n",
        "Prob_X_gt_190 = heights_rv.cdf(upper_lim) - \\\r\n",
        "                heights_rv.cdf(lower_lim)\r\n",
        "# print the result\r\n",
        "print(f'Probability of a male > 190 cm: {Prob_X_gt_190:0.5f} \\\r\n",
        "      (or {100*Prob_X_gt_190:0.2f}%)')"
      ],
      "execution_count": 88,
      "outputs": [
        {
          "output_type": "stream",
          "text": [
            "Probability of a male > 190 cm: 0.02275       (or 2.28%)\n"
          ],
          "name": "stdout"
        }
      ]
    },
    {
      "cell_type": "markdown",
      "metadata": {
        "id": "kdTdpj7TZ0bV"
      },
      "source": [
        "#Use Case Normal Distribution"
      ]
    },
    {
      "cell_type": "code",
      "metadata": {
        "id": "nGLKODRGZZMO"
      },
      "source": [
        "# producing the normal distribution\r\n",
        "X_mean = 100\r\n",
        "X_sd = 15\r\n",
        "# create the random variable\r\n",
        "X_rv = stats.norm(loc = X_mean, scale = X_sd)"
      ],
      "execution_count": 89,
      "outputs": []
    },
    {
      "cell_type": "code",
      "metadata": {
        "colab": {
          "base_uri": "https://localhost:8080/",
          "height": 265
        },
        "id": "rSg1YYBLZ-P4",
        "outputId": "f991251d-d7ce-4622-ff01-25bb71e6ab1a"
      },
      "source": [
        "x_values = np.linspace(X_mean - 4 * X_sd, X_mean + 4 * X_sd)\r\n",
        "y_values = X_rv.pdf(x_values)\r\n",
        "plt.plot(x_values, y_values, lw=2)\r\n",
        "plt.grid()"
      ],
      "execution_count": 93,
      "outputs": [
        {
          "output_type": "display_data",
          "data": {
            "image/png": "[encoded data removed]",
            "text/plain": [
              "<Figure size 432x288 with 1 Axes>"
            ]
          },
          "metadata": {
            "tags": [],
            "needs_background": "light"
          }
        }
      ]
    },
    {
      "cell_type": "code",
      "metadata": {
        "colab": {
          "base_uri": "https://localhost:8080/"
        },
        "id": "2YOhQ9GNaAJS",
        "outputId": "22eef0f8-190a-4623-bbf4-62a415ef1dc5"
      },
      "source": [
        "Prob_X_gt_80 = X_rv.cdf(np.Inf) - X_rv.cdf(80)\r\n",
        "print(f'Prob(X >= 80): {Prob_X_gt_80:0.5f} \\\r\n",
        "(or {100*Prob_X_gt_80:0.2f}%)')\r\n"
      ],
      "execution_count": 94,
      "outputs": [
        {
          "output_type": "stream",
          "text": [
            "Prob(X >= 80): 0.90879 (or 90.88%)\n"
          ],
          "name": "stdout"
        }
      ]
    },
    {
      "cell_type": "code",
      "metadata": {
        "colab": {
          "base_uri": "https://localhost:8080/"
        },
        "id": "pSDmf4pHaAFu",
        "outputId": "f09f0469-7ea8-49c3-aa6e-42f69103cfe5"
      },
      "source": [
        "proportion_of_admitted = 0.02\r\n",
        "cut_off = X_rv.ppf(1-proportion_of_admitted)\r\n",
        "print(f'To admit the top {100*proportion_of_admitted:0.0f}%, \\\r\n",
        "the cut-off score should be {cut_off:0.1f}')\r\n",
        "top_percents = np.arange(0.9, 1, 0.01)"
      ],
      "execution_count": 95,
      "outputs": [
        {
          "output_type": "stream",
          "text": [
            "To admit the top 2%, the cut-off score should be 130.8\n"
          ],
          "name": "stdout"
        }
      ]
    },
    {
      "cell_type": "markdown",
      "metadata": {
        "id": "PlM7DXjlbP_y"
      },
      "source": [
        "#Additional Use Case"
      ]
    },
    {
      "cell_type": "code",
      "metadata": {
        "id": "Qe0OAXElaAB3"
      },
      "source": [
        "MSFT = \"https://raw.githubusercontent.com/PacktWorkshops/The-Statistics-and-Calculus-with-Python-Workshop/master/Chapter08/data/MSFT.csv\""
      ],
      "execution_count": 96,
      "outputs": []
    },
    {
      "cell_type": "code",
      "metadata": {
        "id": "wBCjMeRfcQi2"
      },
      "source": [
        "msft = pd.read_csv(MSFT)\r\n",
        "pg = pd.read_csv(PG)"
      ],
      "execution_count": 97,
      "outputs": []
    },
    {
      "cell_type": "code",
      "metadata": {
        "id": "_WmEiWNRcY7f"
      },
      "source": [
        "msft.rename(columns=lambda x: x.lower().replace(' ', '_'),\\\r\n",
        "            inplace=True)"
      ],
      "execution_count": 98,
      "outputs": []
    },
    {
      "cell_type": "code",
      "metadata": {
        "id": "3taFbA4vccDs"
      },
      "source": [
        "msft['date'] = pd.to_datetime(msft['date'])"
      ],
      "execution_count": 99,
      "outputs": []
    },
    {
      "cell_type": "code",
      "metadata": {
        "id": "ittZBZfrcd5s"
      },
      "source": [
        "msft.set_index('date', inplace = True)\r\n"
      ],
      "execution_count": 100,
      "outputs": []
    },
    {
      "cell_type": "code",
      "metadata": {
        "id": "ERx9qa4qcn4o"
      },
      "source": [
        "msft['returns'] = msft['adj_close'].pct_change()"
      ],
      "execution_count": 101,
      "outputs": []
    },
    {
      "cell_type": "code",
      "metadata": {
        "colab": {
          "base_uri": "https://localhost:8080/",
          "height": 231
        },
        "id": "zWK5bAe2cqsX",
        "outputId": "6fd47b7e-ea77-45a2-be43-a155d517f848"
      },
      "source": [
        "msft.head()"
      ],
      "execution_count": 102,
      "outputs": [
        {
          "output_type": "execute_result",
          "data": {
            "text/html": [
              "<div>\n",
              "<style scoped>\n",
              "    .dataframe tbody tr th:only-of-type {\n",
              "        vertical-align: middle;\n",
              "    }\n",
              "\n",
              "    .dataframe tbody tr th {\n",
              "        vertical-align: top;\n",
              "    }\n",
              "\n",
              "    .dataframe thead th {\n",
              "        text-align: right;\n",
              "    }\n",
              "</style>\n",
              "<table border=\"1\" class=\"dataframe\">\n",
              "  <thead>\n",
              "    <tr style=\"text-align: right;\">\n",
              "      <th></th>\n",
              "      <th>open</th>\n",
              "      <th>high</th>\n",
              "      <th>low</th>\n",
              "      <th>close</th>\n",
              "      <th>adj_close</th>\n",
              "      <th>volume</th>\n",
              "      <th>returns</th>\n",
              "    </tr>\n",
              "    <tr>\n",
              "      <th>date</th>\n",
              "      <th></th>\n",
              "      <th></th>\n",
              "      <th></th>\n",
              "      <th></th>\n",
              "      <th></th>\n",
              "      <th></th>\n",
              "      <th></th>\n",
              "    </tr>\n",
              "  </thead>\n",
              "  <tbody>\n",
              "    <tr>\n",
              "      <th>2010-01-04</th>\n",
              "      <td>30.620001</td>\n",
              "      <td>31.100000</td>\n",
              "      <td>30.590000</td>\n",
              "      <td>30.950001</td>\n",
              "      <td>24.360727</td>\n",
              "      <td>38409100</td>\n",
              "      <td>NaN</td>\n",
              "    </tr>\n",
              "    <tr>\n",
              "      <th>2010-01-05</th>\n",
              "      <td>30.850000</td>\n",
              "      <td>31.100000</td>\n",
              "      <td>30.639999</td>\n",
              "      <td>30.959999</td>\n",
              "      <td>24.368599</td>\n",
              "      <td>49749600</td>\n",
              "      <td>0.000323</td>\n",
              "    </tr>\n",
              "    <tr>\n",
              "      <th>2010-01-06</th>\n",
              "      <td>30.879999</td>\n",
              "      <td>31.080000</td>\n",
              "      <td>30.520000</td>\n",
              "      <td>30.770000</td>\n",
              "      <td>24.219046</td>\n",
              "      <td>58182400</td>\n",
              "      <td>-0.006137</td>\n",
              "    </tr>\n",
              "    <tr>\n",
              "      <th>2010-01-07</th>\n",
              "      <td>30.629999</td>\n",
              "      <td>30.700001</td>\n",
              "      <td>30.190001</td>\n",
              "      <td>30.450001</td>\n",
              "      <td>23.967175</td>\n",
              "      <td>50559700</td>\n",
              "      <td>-0.010400</td>\n",
              "    </tr>\n",
              "    <tr>\n",
              "      <th>2010-01-08</th>\n",
              "      <td>30.280001</td>\n",
              "      <td>30.879999</td>\n",
              "      <td>30.240000</td>\n",
              "      <td>30.660000</td>\n",
              "      <td>24.132469</td>\n",
              "      <td>51197400</td>\n",
              "      <td>0.006897</td>\n",
              "    </tr>\n",
              "  </tbody>\n",
              "</table>\n",
              "</div>"
            ],
            "text/plain": [
              "                 open       high        low  ...  adj_close    volume   returns\n",
              "date                                         ...                               \n",
              "2010-01-04  30.620001  31.100000  30.590000  ...  24.360727  38409100       NaN\n",
              "2010-01-05  30.850000  31.100000  30.639999  ...  24.368599  49749600  0.000323\n",
              "2010-01-06  30.879999  31.080000  30.520000  ...  24.219046  58182400 -0.006137\n",
              "2010-01-07  30.629999  30.700001  30.190001  ...  23.967175  50559700 -0.010400\n",
              "2010-01-08  30.280001  30.879999  30.240000  ...  24.132469  51197400  0.006897\n",
              "\n",
              "[5 rows x 7 columns]"
            ]
          },
          "metadata": {
            "tags": []
          },
          "execution_count": 102
        }
      ]
    },
    {
      "cell_type": "code",
      "metadata": {
        "id": "L8dVC_XDctOm"
      },
      "source": [
        "start_date = '2014-01-01'\r\n",
        "end_date = '2018-12-31'\r\n",
        "msft = msft.loc[start_date: end_date]"
      ],
      "execution_count": 103,
      "outputs": []
    },
    {
      "cell_type": "code",
      "metadata": {
        "colab": {
          "base_uri": "https://localhost:8080/",
          "height": 283
        },
        "id": "hKWyNiczc2wL",
        "outputId": "57a77d78-724e-4339-a759-a5e6a192478d"
      },
      "source": [
        "msft['returns'].hist(ec='k', bins=40)"
      ],
      "execution_count": 104,
      "outputs": [
        {
          "output_type": "execute_result",
          "data": {
            "text/plain": [
              "<matplotlib.axes._subplots.AxesSubplot at 0x7f15e4752890>"
            ]
          },
          "metadata": {
            "tags": []
          },
          "execution_count": 104
        },
        {
          "output_type": "display_data",
          "data": {
            "image/png": "[encoded data removed]",
            "text/plain": [
              "<Figure size 432x288 with 1 Axes>"
            ]
          },
          "metadata": {
            "tags": [],
            "needs_background": "light"
          }
        }
      ]
    },
    {
      "cell_type": "code",
      "metadata": {
        "colab": {
          "base_uri": "https://localhost:8080/"
        },
        "id": "cw3TJEI9c7mJ",
        "outputId": "2541b279-21ef-4a15-ea55-e5e9a37516ab"
      },
      "source": [
        "msft['returns'].describe()\r\n"
      ],
      "execution_count": 105,
      "outputs": [
        {
          "output_type": "execute_result",
          "data": {
            "text/plain": [
              "count    1258.000000\n",
              "mean        0.000996\n",
              "std         0.014591\n",
              "min        -0.092534\n",
              "25%        -0.005956\n",
              "50%         0.000651\n",
              "75%         0.007830\n",
              "max         0.104522\n",
              "Name: returns, dtype: float64"
            ]
          },
          "metadata": {
            "tags": []
          },
          "execution_count": 105
        }
      ]
    },
    {
      "cell_type": "code",
      "metadata": {
        "id": "zMhuKqONdM6f"
      },
      "source": [
        "R_mean = msft['returns'].mean()\r\n",
        "R_std = msft['returns'].std()\r\n",
        "R_rv = stats.norm(loc = R_mean, scale = R_std)"
      ],
      "execution_count": 106,
      "outputs": []
    },
    {
      "cell_type": "code",
      "metadata": {
        "colab": {
          "base_uri": "https://localhost:8080/",
          "height": 265
        },
        "id": "JVvFDMEweW1r",
        "outputId": "15d68f15-c946-4b52-e46d-5d02e5db4f0b"
      },
      "source": [
        "fig, ax = plt.subplots()\r\n",
        "ax.hist(x = msft['returns'], ec = 'k', \\\r\n",
        "        bins = 40, density = True,);\r\n",
        "x_values = np.linspace(msft['returns'].min(), \\\r\n",
        "                       msft['returns'].max(), num=100)\r\n",
        "densities = R_rv.pdf(x_values)\r\n",
        "ax.plot(x_values, densities, color='r')\r\n",
        "ax.grid()"
      ],
      "execution_count": 109,
      "outputs": [
        {
          "output_type": "display_data",
          "data": {
            "image/png": "[encoded data removed]",
            "text/plain": [
              "<Figure size 432x288 with 1 Axes>"
            ]
          },
          "metadata": {
            "tags": [],
            "needs_background": "light"
          }
        }
      ]
    },
    {
      "cell_type": "code",
      "metadata": {
        "id": "_TDhcLQYei0m"
      },
      "source": [
        ""
      ],
      "execution_count": null,
      "outputs": []
    }
  ]
}