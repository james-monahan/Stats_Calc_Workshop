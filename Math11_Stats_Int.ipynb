{
  "nbformat": 4,
  "nbformat_minor": 0,
  "metadata": {
    "colab": {
      "name": "Math11_Stats_Int.ipynb",
      "provenance": [],
      "collapsed_sections": [],
      "authorship_tag": "ABX9TyPmYJ6u2xX8fD121hOXaWpf",
      "include_colab_link": true
    },
    "kernelspec": {
      "name": "python3",
      "display_name": "Python 3"
    }
  },
  "cells": [
    {
      "cell_type": "markdown",
      "metadata": {
        "id": "view-in-github",
        "colab_type": "text"
      },
      "source": [
        "<a href=\"https://colab.research.google.com/github/james-monahan/Stats_Calc_Workshop/blob/main/Math11_Stats_Int.ipynb\" target=\"_parent\"><img src=\"https://colab.research.google.com/assets/colab-badge.svg\" alt=\"Open In Colab\"/></a>"
      ]
    },
    {
      "cell_type": "code",
      "metadata": {
        "id": "SdbyRmicTk1U"
      },
      "source": [
        "import pandas as pd\n",
        "import numpy as np\n",
        "import matplotlib.pyplot as plt\n",
        "import seaborn as sns\n",
        "import math\n",
        "import random\n",
        "import scipy.stats as stats\n",
        "import statistics as stat\n",
        "import statsmodels.stats.weightstats as mod\n",
        "import statsmodels.stats.proportion as prop\n",
        "import sklearn.linear_model as lm\n",
        "from mpl_toolkits import mplot3d\n"
      ],
      "execution_count": 36,
      "outputs": []
    },
    {
      "cell_type": "markdown",
      "metadata": {
        "id": "MKf8zb3NLEwf"
      },
      "source": [
        "#Law of Large Numbers\n",
        "---\n",
        "\n"
      ]
    },
    {
      "cell_type": "code",
      "metadata": {
        "id": "tiqRtWqRR8JS"
      },
      "source": [
        "random.seed(54321)\n",
        "sample_size = 1000 #100 #10\n",
        "result_list = []\n",
        "for i in range(sample_size):\n",
        "    result = random.randint(0, 1)\n",
        "    result_list.append(result)"
      ],
      "execution_count": 2,
      "outputs": []
    },
    {
      "cell_type": "code",
      "metadata": {
        "id": "ZrxH1gY-URl2"
      },
      "source": [
        "num_of_heads = sum(result_list)\n",
        "avg_of_heads = float(num_of_heads) / sample_size"
      ],
      "execution_count": 3,
      "outputs": []
    },
    {
      "cell_type": "code",
      "metadata": {
        "colab": {
          "base_uri": "https://localhost:8080/"
        },
        "id": "T5wSc5mmV6o1",
        "outputId": "9050f132-78e9-4732-d722-3eb5b8df5617"
      },
      "source": [
        "print(f'Results: {num_of_heads} heads out of {sample_size} flips.')\n",
        "print(f'Average number of heads per flip is {avg_of_heads}.')"
      ],
      "execution_count": 4,
      "outputs": [
        {
          "output_type": "stream",
          "text": [
            "Results: 492 heads out of 1000 flips.\n",
            "Average number of heads per flip is 0.492.\n"
          ],
          "name": "stdout"
        }
      ]
    },
    {
      "cell_type": "code",
      "metadata": {
        "id": "zKZlMQBvV-3d"
      },
      "source": [
        "sample_size = 20000\n",
        "num_of_heads = 0\n",
        "heads_list = []\n",
        "trials_list = []\n",
        "freq_list = []\n",
        "\n",
        "for i in range(1,sample_size+1):\n",
        "    result = random.randint(0, 1)\n",
        "    if result == 1:\n",
        "        num_of_heads += 1\n",
        "    avg_of_heads = float(num_of_heads) / i\n",
        "    heads_list.append(num_of_heads)\n",
        "    trials_list.append(i)\n",
        "    freq_list.append(avg_of_heads)"
      ],
      "execution_count": 5,
      "outputs": []
    },
    {
      "cell_type": "code",
      "metadata": {
        "colab": {
          "base_uri": "https://localhost:8080/"
        },
        "id": "ktuCW9beWyXV",
        "outputId": "9a0d1ed8-8829-4780-ab41-96fb70db5de5"
      },
      "source": [
        "print(f'Results: {num_of_heads} heads out of {sample_size} flips.')\n",
        "print(f'Average number of heads is {avg_of_heads}')"
      ],
      "execution_count": 6,
      "outputs": [
        {
          "output_type": "stream",
          "text": [
            "Results: 10001 heads out of 20000 flips.\n",
            "Average number of heads is 0.50005\n"
          ],
          "name": "stdout"
        }
      ]
    },
    {
      "cell_type": "code",
      "metadata": {
        "colab": {
          "base_uri": "https://localhost:8080/",
          "height": 279
        },
        "id": "Lo3HxSW6W09P",
        "outputId": "e9ffc722-c51d-456a-b3d6-dfdf6fd2e659"
      },
      "source": [
        "plt.plot(trials_list, freq_list)\n",
        "plt.ylabel('Sample Average')\n",
        "plt.xlabel('Sample Size')\n",
        "plt.hlines(0.50,0,sample_size,linestyles='dashed')\n",
        "plt.show()"
      ],
      "execution_count": 7,
      "outputs": [
        {
          "output_type": "display_data",
          "data": {
            "image/png": "[encoded data removed]",
            "text/plain": [
              "<Figure size 432x288 with 1 Axes>"
            ]
          },
          "metadata": {
            "tags": [],
            "needs_background": "light"
          }
        }
      ]
    },
    {
      "cell_type": "markdown",
      "metadata": {
        "id": "bUC1HNnwY5GM"
      },
      "source": [
        "#Roulette Simulation"
      ]
    },
    {
      "cell_type": "code",
      "metadata": {
        "id": "NrxdZEMhW-3O"
      },
      "source": [
        "# set the number of games of roulette you want to play\n",
        "sample_size = 1000 #10\n",
        "#set the amount of money you want to bet\n",
        "bet = 1\n",
        "# initialize the variables required for our loop\n",
        "# 1 to 36 represent numbers on roulette wheel, 37 represents 0, 38 represents 00\n",
        "net_money = 0\n",
        "wins = 0\n",
        "money_track = []\n",
        "trials_track = []"
      ],
      "execution_count": 8,
      "outputs": []
    },
    {
      "cell_type": "code",
      "metadata": {
        "id": "1P2AkmKVY_Mv"
      },
      "source": [
        "# create a for loop and collect the results in a list\n",
        "random.seed(54321)\n",
        "for i in range(1,sample_size+1):\n",
        "    result = random.randint(1,38)\n",
        "    if result % 2 == 1 and result != 37:\n",
        "        net_money += bet\n",
        "        wins += 1\n",
        "    else:\n",
        "        net_money -= bet\n",
        "    money_track.append(net_money/i)\n",
        "    trials_track.append(i)"
      ],
      "execution_count": 9,
      "outputs": []
    },
    {
      "cell_type": "code",
      "metadata": {
        "colab": {
          "base_uri": "https://localhost:8080/"
        },
        "id": "jENfXy-FZWIS",
        "outputId": "0b3b6538-4bc7-4b67-b0b1-32eabe171149"
      },
      "source": [
        "# print the results\n",
        "print(f'Results: You won {wins} games out of \\\n",
        "{sample_size} and won an average of \\\n",
        "{net_money/sample_size} dollars per game')\n",
        "print(f'Results: You are expected to win \\\n",
        "{((18/38)*bet+(20/38)*(-bet))} per game')"
      ],
      "execution_count": 10,
      "outputs": [
        {
          "output_type": "stream",
          "text": [
            "Results: You won 470 games out of 1000 and won an average of -0.06 dollars per game\n",
            "Results: You are expected to win -0.05263157894736842 per game\n"
          ],
          "name": "stdout"
        }
      ]
    },
    {
      "cell_type": "code",
      "metadata": {
        "colab": {
          "base_uri": "https://localhost:8080/",
          "height": 282
        },
        "id": "E_psj-0bZW7u",
        "outputId": "4f6e285a-ace4-40f1-c430-f6f889498576"
      },
      "source": [
        "#create a simple line graph to show our results over time\n",
        "plt.plot(trials_track, money_track)\n",
        "plt.ylabel('Net Money')\n",
        "plt.xlabel('Number of games')\n",
        "plt.hlines(((18/38)*bet+(20/38)*(-bet)), 0, sample_size, linestyles='dashed')\n",
        "plt.show()"
      ],
      "execution_count": 11,
      "outputs": [
        {
          "output_type": "display_data",
          "data": {
            "image/png": "[encoded data removed]",
            "text/plain": [
              "<Figure size 432x288 with 1 Axes>"
            ]
          },
          "metadata": {
            "tags": [],
            "needs_background": "light"
          }
        }
      ]
    },
    {
      "cell_type": "markdown",
      "metadata": {
        "id": "_BPp9DdObzgS"
      },
      "source": [
        "#Central Limit Theorem"
      ]
    },
    {
      "cell_type": "code",
      "metadata": {
        "id": "jDcTu4L8aQQA"
      },
      "source": [
        "random.seed(54312)\n",
        "\n",
        "# select the sample size you want to take\n",
        "sample_size = 30\n",
        "# select the number of sample mean you want to simulate\n",
        "calc_means = 10000\n",
        "\n",
        "mean_list = []\n",
        "# run our loop and collect a sample\n",
        "for j in range(calc_means):\n",
        "    # initialize the variables to track our results\n",
        "    sample_list = []\n",
        "    for i in range(sample_size):\n",
        "        sample_list.append(random.randint(0, 100))\n",
        "    sample_mean = sum(sample_list) / sample_size\n",
        "    mean_list.append(sample_mean)"
      ],
      "execution_count": 12,
      "outputs": []
    },
    {
      "cell_type": "code",
      "metadata": {
        "colab": {
          "base_uri": "https://localhost:8080/",
          "height": 265
        },
        "id": "n6PJo3V5dEAt",
        "outputId": "de296130-50e2-4164-cba9-308ac07c92b8"
      },
      "source": [
        "\"\"\"\n",
        "create a histogram of our sample and compare it \n",
        "to what the CLT says it should be \n",
        "\"\"\"\n",
        "n, bins, patches = plt.hist(mean_list, \\\n",
        "                            math.floor(math.sqrt(calc_means)),\\\n",
        "                            density=True, facecolor='g', alpha=0.75)\n",
        "plt.grid(True)\n",
        "mu = 50\n",
        "sigma = math.sqrt(((100 ** 2) / 12)) / (math.sqrt(sample_size))\n",
        "x = np.linspace(mu - 3 * sigma, mu + 3 * sigma, 100)\n",
        "plt.plot(x, stats.norm.pdf(x, mu, sigma))\n",
        "plt.show()"
      ],
      "execution_count": 13,
      "outputs": [
        {
          "output_type": "display_data",
          "data": {
            "image/png": "[encoded data removed]",
            "text/plain": [
              "<Figure size 432x288 with 1 Axes>"
            ]
          },
          "metadata": {
            "tags": [],
            "needs_background": "light"
          }
        }
      ]
    },
    {
      "cell_type": "markdown",
      "metadata": {
        "id": "fwEBtRtheBy6"
      },
      "source": [
        "#Random Sampling from an Exponential Distribution"
      ]
    },
    {
      "cell_type": "code",
      "metadata": {
        "id": "BxCl6JcYde6G"
      },
      "source": [
        "random.seed(54312)\n",
        "# select the sample size you want to take\n",
        "sample_size = 50\n",
        "# select the number of sample mean you want to simulate\n",
        "calc_means = 10000\n",
        "\n",
        "mean_list = []\n",
        "# run our loop and collect a sample\n",
        "for j in range(calc_means):\n",
        "    # initialize the variables to track our results\n",
        "    sample_list = []\n",
        "    for i in range(sample_size):\n",
        "        draw = np.random.exponential(1)\n",
        "        sample_list.append(draw)\n",
        "    sample_mean = sum(sample_list) / sample_size\n",
        "    mean_list.append(sample_mean)"
      ],
      "execution_count": 14,
      "outputs": []
    },
    {
      "cell_type": "code",
      "metadata": {
        "colab": {
          "base_uri": "https://localhost:8080/",
          "height": 265
        },
        "id": "GvL9VAKGOdlX",
        "outputId": "dbcc37d7-3e41-4e83-b41c-b0cc5aecd873"
      },
      "source": [
        "\"\"\" create a histogram of our sample and compare it to what the CLT says it should be \"\"\"\n",
        "n, bins, patches = plt.hist(mean_list, \\\n",
        "                   math.floor(math.sqrt(calc_means)), \\\n",
        "                   density=True, facecolor='g', \\\n",
        "                   alpha=0.75)\n",
        "plt.grid(True)\n",
        "mu = 1\n",
        "sigma = 1 / (math.sqrt(sample_size))\n",
        "x = np.linspace(mu - 3 * sigma, mu + 3 * sigma, 100)\n",
        "plt.plot(x, stats.norm.pdf(x, mu, sigma))\n",
        "plt.show()"
      ],
      "execution_count": 15,
      "outputs": [
        {
          "output_type": "display_data",
          "data": {
            "image/png": "[encoded data removed]",
            "text/plain": [
              "<Figure size 432x288 with 1 Axes>"
            ]
          },
          "metadata": {
            "tags": [],
            "needs_background": "light"
          }
        }
      ]
    },
    {
      "cell_type": "markdown",
      "metadata": {
        "id": "fB4E5AFlQgYX"
      },
      "source": [
        "#Confidance Intervals"
      ]
    },
    {
      "cell_type": "code",
      "metadata": {
        "id": "1tVQAkoCOv2V"
      },
      "source": [
        "# assumes knowledge of population std\n",
        "# 30+ samples for z-confidance\n",
        "def z_confidence_interval(data, st_dev, con_lvl):\n",
        "    import statistics as st\n",
        "    import scipy.stats as sp\n",
        "    import math\n",
        "    sample_mean = st.mean(data)\n",
        "    n = len(data)\n",
        "    crit_value = sp.norm.ppf(((1 - con_lvl) / 2) + \\\n",
        "                             con_lvl)\n",
        "    lower_limit = sample_mean - (crit_value * \\\n",
        "                                 (st_dev/math.sqrt(n)))\n",
        "    higher_limit = sample_mean + (crit_value * \\\n",
        "                                  (st_dev / math.sqrt(n)))\n",
        "    print (f'Your {con_lvl} z confidence interval         is ({lower_limit}, {higher_limit})')\n",
        "    return (lower_limit,higher_limit)"
      ],
      "execution_count": 16,
      "outputs": []
    },
    {
      "cell_type": "markdown",
      "metadata": {
        "id": "QSysmuDrUjn1"
      },
      "source": [
        "#Excercise: Finding confidence interval"
      ]
    },
    {
      "cell_type": "code",
      "metadata": {
        "colab": {
          "base_uri": "https://localhost:8080/"
        },
        "id": "cMitzWDfTYPm",
        "outputId": "6726de68-0c8b-436e-d594-faea0e8d0b2d"
      },
      "source": [
        "# 30 focus groups with about 10 people in each group\n",
        "# number who would vote in 10 person group\n",
        "random.seed(39809)\n",
        "\n",
        "sample_list = []\n",
        "for i in range(30):\n",
        "    sample_list.append(random.randint(0, 10))\n",
        "z_confidence_interval(sample_list,2.89,0.95)"
      ],
      "execution_count": 17,
      "outputs": [
        {
          "output_type": "stream",
          "text": [
            "Your 0.95 z confidence interval         is (3.965845784931483, 6.034154215068517)\n"
          ],
          "name": "stdout"
        },
        {
          "output_type": "execute_result",
          "data": {
            "text/plain": [
              "(3.965845784931483, 6.034154215068517)"
            ]
          },
          "metadata": {
            "tags": []
          },
          "execution_count": 17
        }
      ]
    },
    {
      "cell_type": "markdown",
      "metadata": {
        "id": "VsuTw4gFWwK7"
      },
      "source": [
        "#Small Sample Confidance"
      ]
    },
    {
      "cell_type": "code",
      "metadata": {
        "id": "q_Rvn98FV0cm"
      },
      "source": [
        "#less than 30 samples\n",
        "#pop std is not know (use sample std)\n",
        "\n",
        "def t_confidence_interval(data, con_lvl):\n",
        "    import statistics as st\n",
        "    import scipy.stats as sp\n",
        "    import math\n",
        "    sample_mean = st.mean(data)\n",
        "    sample_st_dev = st.stdev(data)\n",
        "    n = len(data)\n",
        "    crit_value = sp.t.ppf(((1 - con_lvl) / 2) + \\\n",
        "                          con_lvl, n-1)\n",
        "    lower_limit = sample_mean - (crit_value * \\\n",
        "                  (sample_st_dev/math.sqrt(n)))\n",
        "    higher_limit = sample_mean + (crit_value * \\\n",
        "                   (sample_st_dev/math.sqrt(n)))\n",
        "    print(f'Your {con_lvl} t confidence interval is \\\n",
        "({lower_limit},{higher_limit})')\n",
        "    return (lower_limit,higher_limit)"
      ],
      "execution_count": 18,
      "outputs": []
    },
    {
      "cell_type": "code",
      "metadata": {
        "colab": {
          "base_uri": "https://localhost:8080/"
        },
        "id": "qu91NOp9V00O",
        "outputId": "32381e2a-ff39-429b-a4ff-6b12c8ebf254"
      },
      "source": [
        "t_confidence_interval(sample_list,0.95)"
      ],
      "execution_count": 19,
      "outputs": [
        {
          "output_type": "stream",
          "text": [
            "Your 0.95 t confidence interval is (3.827357936126168,6.172642063873832)\n"
          ],
          "name": "stdout"
        },
        {
          "output_type": "execute_result",
          "data": {
            "text/plain": [
              "(3.827357936126168, 6.172642063873832)"
            ]
          },
          "metadata": {
            "tags": []
          },
          "execution_count": 19
        }
      ]
    },
    {
      "cell_type": "markdown",
      "metadata": {
        "id": "NuLBoL5FeRdi"
      },
      "source": [
        "#Confidence Interval for a Proportion"
      ]
    },
    {
      "cell_type": "code",
      "metadata": {
        "id": "YsCrATC7d1gS"
      },
      "source": [
        "def prop_confidenct_interval(p_hat, n, con_lvl):\n",
        "    import math\n",
        "    import scipy.stats as sp\n",
        "    crit_value = sp.norm.ppf(((1 - con_lvl) / 2) + \\\n",
        "                             con_lvl)\n",
        "    lower_limit = p_hat - (crit_value * (math.sqrt(\\\n",
        "                 (p_hat * (1-p_hat)) / n)))\n",
        "    higher_limit = p_hat + (crit_value * (math.sqrt(\\\n",
        "                  (p_hat * (1 - p_hat)) / n)))\n",
        "    print(f'Your {con_lvl} proportional confidence \\\n",
        "    interval is ({lower_limit},{higher_limit})')\n",
        "    return (lower_limit,higher_limit)"
      ],
      "execution_count": 20,
      "outputs": []
    },
    {
      "cell_type": "code",
      "metadata": {
        "colab": {
          "base_uri": "https://localhost:8080/"
        },
        "id": "WN5Y4gIefUc6",
        "outputId": "0dc60caf-f3a4-4b9b-e452-4b0a8eb1d3d9"
      },
      "source": [
        "# 54% of the sample of 350 people saying they will vote for your candidate, \n",
        "# while your opponent got the other 46%\n",
        "prop_confidenct_interval(0.54,350, 0.95)"
      ],
      "execution_count": 21,
      "outputs": [
        {
          "output_type": "stream",
          "text": [
            "Your 0.95 proportional confidence     interval is (0.4877856513683282,0.5922143486316719)\n"
          ],
          "name": "stdout"
        },
        {
          "output_type": "execute_result",
          "data": {
            "text/plain": [
              "(0.4877856513683282, 0.5922143486316719)"
            ]
          },
          "metadata": {
            "tags": []
          },
          "execution_count": 21
        }
      ]
    },
    {
      "cell_type": "markdown",
      "metadata": {
        "id": "KsgK_-hWPTXB"
      },
      "source": [
        "#Hypothesis Testing"
      ]
    },
    {
      "cell_type": "code",
      "metadata": {
        "id": "ggg_23evUpNk"
      },
      "source": [
        "def z_test(sample, pop_st_dev, hypoth_value, \\\n",
        "           sig_level, test_type):\n",
        "    sample_mean = stat.mean(sample)\n",
        "    sample_size = len(sample)\n",
        "    test_statistic = (sample_mean - hypoth_value) / \\\n",
        "                     (pop_st_dev / (math.sqrt(sample_size)))\n",
        "    if test_type == 'lower':\n",
        "        p_value = stats.norm.cdf(test_statistic)\n",
        "    if test_type == 'upper':\n",
        "        p_value = 1 - stats.norm.cdf(test_statistic)\n",
        "    if test_type == 'two':\n",
        "        p_value = 2 * (1 - stats.norm.cdf(abs(test_statistic)))\n",
        "    print(f'P Value = {p_value}')\n",
        "    if p_value < sig_level:\n",
        "        print(f'Results are significant. Reject the Null')\n",
        "    else:\n",
        "        print(f'Results are insignificant. '\\\n",
        "               'Do Not Reject the Null')"
      ],
      "execution_count": 22,
      "outputs": []
    },
    {
      "cell_type": "code",
      "metadata": {
        "id": "IcvpbU0QfxAB",
        "colab": {
          "base_uri": "https://localhost:8080/"
        },
        "outputId": "406958ed-3ded-4436-c380-593723bc468a"
      },
      "source": [
        "np.random.seed(12345)\n",
        "\n",
        "# 1 - Lower Tailed Test\n",
        "# Randomly Sample from Normal Distribution mu=     and st_dev = 3\n",
        "data1 = np.random.normal(15, 1, 50)\n",
        "# Test to see if Mean is significantly less then 16\n",
        "print(f'Sample mean: {stat.mean(data1)}')\n",
        "z_test(data1,1,16,0.05,'lower')\n",
        "# most of the time, the null should be rejected"
      ],
      "execution_count": 23,
      "outputs": [
        {
          "output_type": "stream",
          "text": [
            "Sample mean: 14.94804802516884\n",
            "P Value = 5.094688086201483e-14\n",
            "Results are significant. Reject the Null\n"
          ],
          "name": "stdout"
        }
      ]
    },
    {
      "cell_type": "code",
      "metadata": {
        "colab": {
          "base_uri": "https://localhost:8080/"
        },
        "id": "r6rOAgQOVXxF",
        "outputId": "2e812f81-3cf4-4b53-f015-b06832e6d17d"
      },
      "source": [
        "#test to see if the mean is significantly more than 14\n",
        "print(f'Sample mean: {stat.mean(data1)}')\n",
        "z_test(data1,1,14,0.05,'upper')\n",
        "#most of the time the null should reject"
      ],
      "execution_count": 24,
      "outputs": [
        {
          "output_type": "stream",
          "text": [
            "Sample mean: 14.94804802516884\n",
            "P Value = 1.0159539876042345e-11\n",
            "Results are significant. Reject the Null\n"
          ],
          "name": "stdout"
        }
      ]
    },
    {
      "cell_type": "code",
      "metadata": {
        "colab": {
          "base_uri": "https://localhost:8080/"
        },
        "id": "NPC5EBvPWE8H",
        "outputId": "e37f893f-7171-4093-ba17-7c92b9059984"
      },
      "source": [
        "#test to see if the mean is significantly different than 15\n",
        "print(f'Sample mean: {stat.mean(data1)}')\n",
        "z_test(data1,1,15,0.05,'two')\n",
        "#most of the type we should not reject the null"
      ],
      "execution_count": 25,
      "outputs": [
        {
          "output_type": "stream",
          "text": [
            "Sample mean: 14.94804802516884\n",
            "P Value = 0.7133535345453159\n",
            "Results are insignificant. Do Not Reject the Null\n"
          ],
          "name": "stdout"
        }
      ]
    },
    {
      "cell_type": "markdown",
      "metadata": {
        "id": "aN1AlYrGZPZs"
      },
      "source": [
        "#Proportional Z-Test"
      ]
    },
    {
      "cell_type": "code",
      "metadata": {
        "colab": {
          "base_uri": "https://localhost:8080/"
        },
        "id": "eD9ibLZUYk1I",
        "outputId": "65a3b8a5-87df-4872-d0bc-62cab4d0769d"
      },
      "source": [
        "#z-test for proportion\n",
        "#successes, sample size, value\n",
        "#193 votes out of 350, test if receive 50%\n",
        "results = prop.proportions_ztest(193,350,.50, alternative='larger')\n",
        "print(results)"
      ],
      "execution_count": 26,
      "outputs": [
        {
          "output_type": "stream",
          "text": [
            "(1.93454148164361, 0.026523293494118718)\n"
          ],
          "name": "stdout"
        }
      ]
    },
    {
      "cell_type": "markdown",
      "metadata": {
        "id": "6nT-Xt3wd-i6"
      },
      "source": [
        "#The T-Test"
      ]
    },
    {
      "cell_type": "code",
      "metadata": {
        "id": "0lHpgBUIaWTL"
      },
      "source": [
        "def t_test(sample, hypoth_value, sig_level, test_type):\n",
        "    sample_mean = stat.mean(sample)\n",
        "    sample_st_dev = stat.stdev(sample)\n",
        "    sample_size = len(sample)\n",
        "    test_statistic = (sample_mean - hypoth_value) / \\\n",
        "                     (sample_st_dev/(math.sqrt(sample_size)))\n",
        "    if test_type == 'lower':\n",
        "        p_value = stats.t.cdf(test_statistic,df=sample_size-1)\n",
        "    if test_type == 'upper':\n",
        "        p_value = 1 - stats.t.cdf(test_statistic,df=sample_size-1)\n",
        "    if test_type == 'two':\n",
        "        p_value = 2 * (1 - stats.t.cdf(abs(test_statistic), \\\n",
        "                                    df=sample_size-1))\n",
        "    print(f'P Value = {p_value}')\n",
        "    if p_value < sig_level:\n",
        "        print(f'Results are significant.  Reject the Null')\n",
        "    else:\n",
        "        print(f'Results are insignificant. '\\\n",
        "               'Do Not Reject the Null')"
      ],
      "execution_count": 27,
      "outputs": []
    },
    {
      "cell_type": "code",
      "metadata": {
        "colab": {
          "base_uri": "https://localhost:8080/"
        },
        "id": "99AOFsIgdq9P",
        "outputId": "83b59b0e-3f67-49bf-9b35-1c5838de9730"
      },
      "source": [
        "np.random.seed(1)\n",
        "data1 = np.random.normal(50, 10, 100)\n",
        "\n",
        "print('large sample')\n",
        "print(f'Sample mean: {stat.mean(data1)}')\n",
        "t_test(data1,50,0.05,'two')\n",
        "t_test(data1,51,0.05,'lower')\n",
        "t_test(data1,48,0.05,'upper')"
      ],
      "execution_count": 28,
      "outputs": [
        {
          "output_type": "stream",
          "text": [
            "large sample\n",
            "Sample mean: 50.60582852075699\n",
            "P Value = 0.4974609984410545\n",
            "Results are insignificant. Do Not Reject the Null\n",
            "P Value = 0.32933701868279674\n",
            "Results are insignificant. Do Not Reject the Null\n",
            "P Value = 0.002109341573010348\n",
            "Results are significant.  Reject the Null\n"
          ],
          "name": "stdout"
        }
      ]
    },
    {
      "cell_type": "code",
      "metadata": {
        "colab": {
          "base_uri": "https://localhost:8080/"
        },
        "id": "64B-5wmFfuqT",
        "outputId": "9ccfac05-7c19-4e87-fcf2-347be46283f2"
      },
      "source": [
        "# select the first 5 elements of the data set\n",
        "data2 = data1[:5]\n",
        "print(data2)\n",
        "#two-tailed test = Is the sample mean significantly \n",
        "#different from 50?\n",
        "print('small sample')\n",
        "print(f'Sample mean: {stat.mean(data2)}')\n",
        "t_test(data2,50,0.05,'two')\n",
        "#lower tailed = Is the sample mean significantly \n",
        "#lower than 51?\n",
        "t_test(data2,51,0.05,'lower')\n",
        "#upper tailed = is the sample mean significantly \n",
        "#more than 48?\n",
        "t_test(data2,48,0.05,'upper')"
      ],
      "execution_count": 29,
      "outputs": [
        {
          "output_type": "stream",
          "text": [
            "[66.24345364 43.88243586 44.71828248 39.27031378 58.65407629]\n",
            "small sample\n",
            "Sample mean: 50.553712409836436\n",
            "P Value = 0.918572770568147\n",
            "Results are insignificant. Do Not Reject the Null\n",
            "P Value = 0.4671568669546634\n",
            "Results are insignificant. Do Not Reject the Null\n",
            "P Value = 0.32103491333328793\n",
            "Results are insignificant. Do Not Reject the Null\n"
          ],
          "name": "stdout"
        }
      ]
    },
    {
      "cell_type": "markdown",
      "metadata": {
        "id": "mFPaZMxmhjhF"
      },
      "source": [
        "#2-Sample T-Test or A/B Testing"
      ]
    },
    {
      "cell_type": "code",
      "metadata": {
        "id": "iThp_d0ThFOZ",
        "colab": {
          "base_uri": "https://localhost:8080/"
        },
        "outputId": "647001dc-dd34-4740-db56-93627bdb2102"
      },
      "source": [
        "np.random.seed(16172)\n",
        "sample1 = np.random.normal(50, 10, 100)\n",
        "sample2 = np.random.normal(100,10,100)\n",
        "print(f'Sample mean 1: {stat.mean(sample1)}')\n",
        "print(f'Sample mean 2: {stat.mean(sample2)}')"
      ],
      "execution_count": 30,
      "outputs": [
        {
          "output_type": "stream",
          "text": [
            "Sample mean 1: 50.54824784997514\n",
            "Sample mean 2: 97.95949096047315\n"
          ],
          "name": "stdout"
        }
      ]
    },
    {
      "cell_type": "code",
      "metadata": {
        "colab": {
          "base_uri": "https://localhost:8080/"
        },
        "id": "rqQSgPDI0W7g",
        "outputId": "aa6ff7ae-68df-4b4f-b726-75d287dc8aa3"
      },
      "source": [
        "# For the 2-sample t-test, the null hypothesis will always be set to 0 \n",
        "two_tail_results = stats.ttest_ind(sample1, sample2, \\\n",
        "                                equal_var=False)\n",
        "print(two_tail_results)"
      ],
      "execution_count": 31,
      "outputs": [
        {
          "output_type": "stream",
          "text": [
            "Ttest_indResult(statistic=-33.72952277672986, pvalue=6.3445365508664585e-84)\n"
          ],
          "name": "stdout"
        }
      ]
    },
    {
      "cell_type": "code",
      "metadata": {
        "colab": {
          "base_uri": "https://localhost:8080/"
        },
        "id": "TL9dUwPd0gLG",
        "outputId": "2dd580f4-f356-441b-d7ae-1e3706161a71"
      },
      "source": [
        "upper_tail = stats.ttest_ind(sample2, sample1, equal_var=False)\n",
        "print(upper_tail)"
      ],
      "execution_count": 33,
      "outputs": [
        {
          "output_type": "stream",
          "text": [
            "Ttest_indResult(statistic=33.72952277672986, pvalue=6.3445365508664585e-84)\n"
          ],
          "name": "stdout"
        }
      ]
    },
    {
      "cell_type": "markdown",
      "metadata": {
        "id": "Irsd7aaS3hbU"
      },
      "source": [
        "#Linear Regression"
      ]
    },
    {
      "cell_type": "code",
      "metadata": {
        "id": "PrIlc-aZ1J0O"
      },
      "source": [
        "link = \"https://raw.githubusercontent.com/PacktWorkshops/The-Statistics-and-Calculus-with-Python-Workshop/master/Chapter09/Exercise9.10/winequality-red.csv\""
      ],
      "execution_count": 34,
      "outputs": []
    },
    {
      "cell_type": "code",
      "metadata": {
        "id": "EcWRPs5x3khT"
      },
      "source": [
        "data = pd.read_csv(link)"
      ],
      "execution_count": 35,
      "outputs": []
    },
    {
      "cell_type": "code",
      "metadata": {
        "colab": {
          "base_uri": "https://localhost:8080/",
          "height": 234
        },
        "id": "AQFF-zzr3plk",
        "outputId": "140e545b-aa64-46e4-864e-ceb7d08bfad4"
      },
      "source": [
        "data.head()"
      ],
      "execution_count": 37,
      "outputs": [
        {
          "output_type": "execute_result",
          "data": {
            "text/html": [
              "<div>\n",
              "<style scoped>\n",
              "    .dataframe tbody tr th:only-of-type {\n",
              "        vertical-align: middle;\n",
              "    }\n",
              "\n",
              "    .dataframe tbody tr th {\n",
              "        vertical-align: top;\n",
              "    }\n",
              "\n",
              "    .dataframe thead th {\n",
              "        text-align: right;\n",
              "    }\n",
              "</style>\n",
              "<table border=\"1\" class=\"dataframe\">\n",
              "  <thead>\n",
              "    <tr style=\"text-align: right;\">\n",
              "      <th></th>\n",
              "      <th>fixed acidity</th>\n",
              "      <th>volatile acidity</th>\n",
              "      <th>citric acid</th>\n",
              "      <th>residual sugar</th>\n",
              "      <th>chlorides</th>\n",
              "      <th>free sulfur dioxide</th>\n",
              "      <th>total sulfur dioxide</th>\n",
              "      <th>density</th>\n",
              "      <th>pH</th>\n",
              "      <th>sulphates</th>\n",
              "      <th>alcohol</th>\n",
              "      <th>quality</th>\n",
              "    </tr>\n",
              "  </thead>\n",
              "  <tbody>\n",
              "    <tr>\n",
              "      <th>0</th>\n",
              "      <td>7.4</td>\n",
              "      <td>0.70</td>\n",
              "      <td>0.00</td>\n",
              "      <td>1.9</td>\n",
              "      <td>0.076</td>\n",
              "      <td>11.0</td>\n",
              "      <td>34.0</td>\n",
              "      <td>0.9978</td>\n",
              "      <td>3.51</td>\n",
              "      <td>0.56</td>\n",
              "      <td>9.4</td>\n",
              "      <td>5</td>\n",
              "    </tr>\n",
              "    <tr>\n",
              "      <th>1</th>\n",
              "      <td>7.8</td>\n",
              "      <td>0.88</td>\n",
              "      <td>0.00</td>\n",
              "      <td>2.6</td>\n",
              "      <td>0.098</td>\n",
              "      <td>25.0</td>\n",
              "      <td>67.0</td>\n",
              "      <td>0.9968</td>\n",
              "      <td>3.20</td>\n",
              "      <td>0.68</td>\n",
              "      <td>9.8</td>\n",
              "      <td>5</td>\n",
              "    </tr>\n",
              "    <tr>\n",
              "      <th>2</th>\n",
              "      <td>7.8</td>\n",
              "      <td>0.76</td>\n",
              "      <td>0.04</td>\n",
              "      <td>2.3</td>\n",
              "      <td>0.092</td>\n",
              "      <td>15.0</td>\n",
              "      <td>54.0</td>\n",
              "      <td>0.9970</td>\n",
              "      <td>3.26</td>\n",
              "      <td>0.65</td>\n",
              "      <td>9.8</td>\n",
              "      <td>5</td>\n",
              "    </tr>\n",
              "    <tr>\n",
              "      <th>3</th>\n",
              "      <td>11.2</td>\n",
              "      <td>0.28</td>\n",
              "      <td>0.56</td>\n",
              "      <td>1.9</td>\n",
              "      <td>0.075</td>\n",
              "      <td>17.0</td>\n",
              "      <td>60.0</td>\n",
              "      <td>0.9980</td>\n",
              "      <td>3.16</td>\n",
              "      <td>0.58</td>\n",
              "      <td>9.8</td>\n",
              "      <td>6</td>\n",
              "    </tr>\n",
              "    <tr>\n",
              "      <th>4</th>\n",
              "      <td>7.4</td>\n",
              "      <td>0.70</td>\n",
              "      <td>0.00</td>\n",
              "      <td>1.9</td>\n",
              "      <td>0.076</td>\n",
              "      <td>11.0</td>\n",
              "      <td>34.0</td>\n",
              "      <td>0.9978</td>\n",
              "      <td>3.51</td>\n",
              "      <td>0.56</td>\n",
              "      <td>9.4</td>\n",
              "      <td>5</td>\n",
              "    </tr>\n",
              "  </tbody>\n",
              "</table>\n",
              "</div>"
            ],
            "text/plain": [
              "   fixed acidity  volatile acidity  citric acid  ...  sulphates  alcohol  quality\n",
              "0            7.4              0.70         0.00  ...       0.56      9.4        5\n",
              "1            7.8              0.88         0.00  ...       0.68      9.8        5\n",
              "2            7.8              0.76         0.04  ...       0.65      9.8        5\n",
              "3           11.2              0.28         0.56  ...       0.58      9.8        6\n",
              "4            7.4              0.70         0.00  ...       0.56      9.4        5\n",
              "\n",
              "[5 rows x 12 columns]"
            ]
          },
          "metadata": {
            "tags": []
          },
          "execution_count": 37
        }
      ]
    },
    {
      "cell_type": "code",
      "metadata": {
        "colab": {
          "base_uri": "https://localhost:8080/",
          "height": 265
        },
        "id": "WjvQVux0339k",
        "outputId": "2783e01c-08ca-4013-d5df-7df9cbc8d228"
      },
      "source": [
        "data1 = data[['pH','citric acid']]\n",
        "plt.scatter(x=data1['citric acid'], y=data1['pH'])\n",
        "y = data1['pH']\n",
        "x = data1[['citric acid']]"
      ],
      "execution_count": 38,
      "outputs": [
        {
          "output_type": "display_data",
          "data": {
            "image/png": "[encoded data removed]",
            "text/plain": [
              "<Figure size 432x288 with 1 Axes>"
            ]
          },
          "metadata": {
            "tags": [],
            "needs_background": "light"
          }
        }
      ]
    },
    {
      "cell_type": "code",
      "metadata": {
        "colab": {
          "base_uri": "https://localhost:8080/",
          "height": 265
        },
        "id": "OJFw484L3-c9",
        "outputId": "46c5d13f-119d-4081-d99c-95ccce86dd20"
      },
      "source": [
        "model = lm.LinearRegression()\n",
        "model.fit(x,y)\n",
        "plt.scatter(x, y,color='g')\n",
        "plt.plot(x, model.predict(x),color='k')\n",
        "plt.show()"
      ],
      "execution_count": 39,
      "outputs": [
        {
          "output_type": "display_data",
          "data": {
            "image/png": "[encoded data removed]",
            "text/plain": [
              "<Figure size 432x288 with 1 Axes>"
            ]
          },
          "metadata": {
            "tags": [],
            "needs_background": "light"
          }
        }
      ]
    },
    {
      "cell_type": "code",
      "metadata": {
        "id": "7iv3IADF4C65"
      },
      "source": [
        "#can we predict the pH of the wine using \n",
        "#citric acid and residual sugar?\n",
        "data2 = data[['pH','citric acid','residual sugar']]\n",
        "y = data2['pH']\n",
        "x = data2[['citric acid', 'residual sugar']]\n",
        "model = lm.LinearRegression()\n",
        "model.fit(x,y)\n",
        "y_pred = model.predict(x)"
      ],
      "execution_count": 40,
      "outputs": []
    },
    {
      "cell_type": "code",
      "metadata": {
        "colab": {
          "base_uri": "https://localhost:8080/",
          "height": 248
        },
        "id": "H_tsMMK14NoZ",
        "outputId": "6e4dc50a-18dd-4882-fcc3-37aa93e5f7d5"
      },
      "source": [
        "threedee = plt.figure().gca(projection='3d')\n",
        "threedee.scatter(data2['citric acid'],     data2['residual sugar'],data2['pH'])\n",
        "threedee.set_xlabel('citric acid')\n",
        "threedee.set_ylabel('residual sugar')\n",
        "threedee.set_zlabel('pH')\n",
        "xline = np.linspace(0, 1, 100)\n",
        "yline = np.linspace(0, 16, 100)\n",
        "zline = xline*(-0.429) + yline*(-0.000877)+3.430\n",
        "threedee.plot3D(xline, yline, zline, 'red')\n",
        "plt.show()"
      ],
      "execution_count": 41,
      "outputs": [
        {
          "output_type": "display_data",
          "data": {
            "image/png": "[encoded data removed]",
            "text/plain": [
              "<Figure size 432x288 with 1 Axes>"
            ]
          },
          "metadata": {
            "tags": [],
            "needs_background": "light"
          }
        }
      ]
    },
    {
      "cell_type": "markdown",
      "metadata": {
        "id": "OL8n1qpj6ial"
      },
      "source": [
        "#Standardized Test Performance"
      ]
    },
    {
      "cell_type": "code",
      "metadata": {
        "id": "hIwWRBj94sxK"
      },
      "source": [
        "test_data = \"https://raw.githubusercontent.com/PacktWorkshops/The-Statistics-and-Calculus-with-Python-Workshop/master/Chapter09/Activity9.01/pisa_test_scores.csv\""
      ],
      "execution_count": 42,
      "outputs": []
    },
    {
      "cell_type": "code",
      "metadata": {
        "id": "jil8uUp576re"
      },
      "source": [
        "data = pd.read_csv(test_data)"
      ],
      "execution_count": 44,
      "outputs": []
    },
    {
      "cell_type": "code",
      "metadata": {
        "colab": {
          "base_uri": "https://localhost:8080/"
        },
        "id": "T52RwLXr7l64",
        "outputId": "4b4c8531-72b0-4ff8-adbd-b6ee330ccfc5"
      },
      "source": [
        "print(\"For Math:\")\n",
        "t_confidence_interval(list(data['Math']),0.95)\n",
        "print(\"For Reading:\")\n",
        "t_confidence_interval(list(data['Reading']),0.95)\n",
        "print(\"For Science:\")\n",
        "t_confidence_interval(list(data['Science']),0.95)"
      ],
      "execution_count": 45,
      "outputs": [
        {
          "output_type": "stream",
          "text": [
            "For Math:\n",
            "Your 0.95 t confidence interval is (448.2561338314995,473.6869804542148)\n",
            "For Reading:\n",
            "Your 0.95 t confidence interval is (449.1937943789569,472.80078847818595)\n",
            "For Science:\n",
            "Your 0.95 t confidence interval is (453.8991748650865,476.9790108491992)\n"
          ],
          "name": "stdout"
        },
        {
          "output_type": "execute_result",
          "data": {
            "text/plain": [
              "(453.8991748650865, 476.9790108491992)"
            ]
          },
          "metadata": {
            "tags": []
          },
          "execution_count": 45
        }
      ]
    },
    {
      "cell_type": "code",
      "metadata": {
        "colab": {
          "base_uri": "https://localhost:8080/"
        },
        "id": "DLYveETp73GU",
        "outputId": "3c66738b-d3f6-400f-bf25-08949466ab53"
      },
      "source": [
        "# Using A Hypothesis Test, evaluate whether having \n",
        "# widespread internet infrastructure could have an \n",
        "# impact on scores\n",
        "# We need to divide the data set into majority \n",
        "# internet (more than 50 users out of 100) and \n",
        "# minority internet(50 users or less) \n",
        "data1 = data[data['internet_users_per_100'] > 50]\n",
        "data0 = data[data['internet_users_per_100'] <= 50]\n",
        "print(data1)\n",
        "print(data0)"
      ],
      "execution_count": 46,
      "outputs": [
        {
          "output_type": "stream",
          "text": [
            "   Country Code  internet_users_per_100      Math   Reading   Science\n",
            "0           ALB               63.252933  413.1570  405.2588  427.2250\n",
            "1           ARE               90.500000  427.4827  433.5423  436.7311\n",
            "2           ARG               68.043064  409.0333  425.3031  432.2262\n",
            "3           AUS               84.560519  493.8962  502.9006  509.9939\n",
            "4           AUT               83.940142  496.7423  484.8656  495.0375\n",
            "..          ...                     ...       ...       ...       ...\n",
            "62          SWE               90.610200  493.9181  500.1556  493.4224\n",
            "64          TTO               69.198471  417.2434  427.2733  424.5905\n",
            "66          TUR               53.744979  420.4540  428.3351  425.4895\n",
            "67          URY               64.600000  417.9919  436.5721  435.3630\n",
            "68          USA               74.554202  469.6285  496.9351  496.2424\n",
            "\n",
            "[63 rows x 5 columns]\n",
            "   Country Code  internet_users_per_100      Math   Reading   Science\n",
            "19          DZA               38.200000  359.6062  349.8593  375.7451\n",
            "25          GEO               47.569760  403.8332  401.2881  411.1315\n",
            "30          IDN               21.976068  386.1096  397.2595  403.0997\n",
            "53          PER               40.900000  386.5606  397.5414  396.6836\n",
            "63          THA               39.316127  415.4638  409.1301  421.3373\n",
            "65          TUN               48.519836  366.8180  361.0555  386.4034\n",
            "69          VNM               43.500000  494.5183  486.7738  524.6445\n"
          ],
          "name": "stdout"
        }
      ]
    },
    {
      "cell_type": "code",
      "metadata": {
        "colab": {
          "base_uri": "https://localhost:8080/"
        },
        "id": "e-_4VWyS8Y_e",
        "outputId": "0b516132-0878-400c-afe1-33abc5edea08"
      },
      "source": [
        "# We will use the 2 Sample T Test function from the Scipy package\n",
        "import scipy.stats as sp\n",
        "\n",
        "# We want to see if scores are higher for Data1, so we will put that first and divide the p-value by two\n",
        "math_test_results = sp.ttest_ind(data1['Math'],data0['Math'],equal_var=False)\n",
        "print(r'For Math: (note - statistic must be positive in order for there to be significance.)')\n",
        "print(math_test_results.statistic)\n",
        "print(math_test_results.pvalue / 2)\n",
        "\n",
        "# We want to see if scores are higher for Data1, so we will put that first and divide the p-value by two\n",
        "reading_test_results = sp.ttest_ind(data1['Reading'],data0['Reading'],equal_var=False)\n",
        "print(r'For Reading: (note - statistic must be positive in order for there to be significance.)')\n",
        "print(reading_test_results.statistic)\n",
        "print(reading_test_results.pvalue / 2)\n",
        "\n",
        "\n",
        "# We want to see if scores are higher for Data1, so we will put that first and divide the p-value by two\n",
        "science_test_results = sp.ttest_ind(data1['Science'],data0['Science'],equal_var=False)\n",
        "print(r'For Science: (note - statistic must be positive in order for there to be significance.)')\n",
        "print(science_test_results.statistic)\n",
        "print(science_test_results.pvalue / 2)"
      ],
      "execution_count": 47,
      "outputs": [
        {
          "output_type": "stream",
          "text": [
            "For Math: (note - statistic must be positive in order for there to be significance.)\n",
            "3.6040958108257892\n",
            "0.0036618262642996464\n",
            "For Reading: (note - statistic must be positive in order for there to be significance.)\n",
            "3.8196670837378237\n",
            "0.0028727977455195778\n",
            "For Science: (note - statistic must be positive in order for there to be significance.)\n",
            "2.734488895919944\n",
            "0.01425936325938158\n"
          ],
          "name": "stdout"
        }
      ]
    },
    {
      "cell_type": "code",
      "metadata": {
        "colab": {
          "base_uri": "https://localhost:8080/"
        },
        "id": "kAtT8lXu9WIR",
        "outputId": "4abf02bb-dea4-4955-81c2-c997d16d54a7"
      },
      "source": [
        "# Construct a Linear Model that can predict math scores from reading and science scores\n",
        "y = data['Math']\n",
        "x = data[['Science','Reading']]\n",
        "\n",
        "model = lm.LinearRegression()\n",
        "model.fit(x,y)\n",
        "\n",
        "print(model.coef_)\n",
        "print(model.intercept_)"
      ],
      "execution_count": 48,
      "outputs": [
        {
          "output_type": "stream",
          "text": [
            "[1.02301989 0.0516567 ]\n",
            "-38.99549267679225\n"
          ],
          "name": "stdout"
        }
      ]
    },
    {
      "cell_type": "code",
      "metadata": {
        "colab": {
          "base_uri": "https://localhost:8080/",
          "height": 248
        },
        "id": "evmlaLQl9e-6",
        "outputId": "3c31e080-100e-45ed-e71b-952e1c824a33"
      },
      "source": [
        "threedee = plt.figure().gca(projection='3d')\n",
        "threedee.scatter(data['Science'], data['Reading'],data['Math'])\n",
        "threedee.set_xlabel('Science Score')\n",
        "threedee.set_ylabel('Reading Score')\n",
        "threedee.set_zlabel('Math Score')\n",
        "\n",
        "xline = np.linspace(0, 600, 600)\n",
        "yline = np.linspace(0, 600, 600)\n",
        "zline = xline*1.02301989 + yline*0.0516567-38.99549267679242\n",
        "threedee.plot3D(xline, yline, zline, 'red')\n",
        "\n",
        "plt.show()"
      ],
      "execution_count": 49,
      "outputs": [
        {
          "output_type": "display_data",
          "data": {
            "image/png": "[encoded data removed]",
            "text/plain": [
              "<Figure size 432x288 with 1 Axes>"
            ]
          },
          "metadata": {
            "tags": [],
            "needs_background": "light"
          }
        }
      ]
    }
  ]
}