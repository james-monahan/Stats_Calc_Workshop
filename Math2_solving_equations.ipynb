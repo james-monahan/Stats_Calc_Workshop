{
  "nbformat": 4,
  "nbformat_minor": 0,
  "metadata": {
    "colab": {
      "name": "Math2_solving_equations.ipynb",
      "provenance": [],
      "collapsed_sections": [
        "bubFQBdk6R4j",
        "uRM-mPGC_g11",
        "mW3ASiJ1RT9W",
        "xqrhmaqSMjK6"
      ],
      "authorship_tag": "ABX9TyPnQ2egC1XgJr8hLT+mlD3f",
      "include_colab_link": true
    },
    "kernelspec": {
      "name": "python3",
      "display_name": "Python 3"
    }
  },
  "cells": [
    {
      "cell_type": "markdown",
      "metadata": {
        "id": "view-in-github",
        "colab_type": "text"
      },
      "source": [
        "<a href=\"https://colab.research.google.com/github/james-monahan/Stats_Calc_Workshop/blob/main/Math2_solving_equations.ipynb\" target=\"_parent\"><img src=\"https://colab.research.google.com/assets/colab-badge.svg\" alt=\"Open In Colab\"/></a>"
      ]
    },
    {
      "cell_type": "code",
      "metadata": {
        "id": "SdbyRmicTk1U"
      },
      "source": [
        "import pandas as pd\r\n",
        "import numpy as np\r\n",
        "import matplotlib.pyplot as plt\r\n",
        "import seaborn as sns\r\n",
        "import scipy.stats\r\n",
        "from sympy import Symbol\r\n",
        "from sympy.solvers import solve\r\n",
        "from math import e\r\n"
      ],
      "execution_count": 2,
      "outputs": []
    },
    {
      "cell_type": "markdown",
      "metadata": {
        "id": "bubFQBdk6R4j"
      },
      "source": [
        "##Equation Solver"
      ]
    },
    {
      "cell_type": "code",
      "metadata": {
        "id": "-ioslS3J2XqK"
      },
      "source": [
        "x = Symbol('x')"
      ],
      "execution_count": null,
      "outputs": []
    },
    {
      "cell_type": "code",
      "metadata": {
        "colab": {
          "base_uri": "https://localhost:8080/"
        },
        "id": "Ks9GMcUw27UQ",
        "outputId": "4ef92c96-33ba-4759-c446-efd635d8215c"
      },
      "source": [
        "solve(x ** 2 - 7 * x ** 2 + 15 * x - 9, x)"
      ],
      "execution_count": null,
      "outputs": [
        {
          "output_type": "execute_result",
          "data": {
            "text/plain": [
              "[1, 3/2]"
            ]
          },
          "metadata": {
            "tags": []
          },
          "execution_count": 8
        }
      ]
    },
    {
      "cell_type": "code",
      "metadata": {
        "colab": {
          "base_uri": "https://localhost:8080/"
        },
        "id": "K4CYkHHg27to",
        "outputId": "36299bda-df94-4c5a-9288-93e762d0d19f"
      },
      "source": [
        "solve(3 * e ** (x + 2) + 3 - 2 * (e ** x + 100), x)"
      ],
      "execution_count": null,
      "outputs": [
        {
          "output_type": "execute_result",
          "data": {
            "text/plain": [
              "[2.27914777845756]"
            ]
          },
          "metadata": {
            "tags": []
          },
          "execution_count": 10
        }
      ]
    },
    {
      "cell_type": "markdown",
      "metadata": {
        "id": "uRM-mPGC_g11"
      },
      "source": [
        "##Sample break even analysis"
      ]
    },
    {
      "cell_type": "code",
      "metadata": {
        "id": "y1GKRTEs3SVT"
      },
      "source": [
        "#variables\r\n",
        "monthly_costs = 1312.13\r\n",
        "sell_price = 8.99\r\n",
        "sell_cost = 6.56\r\n",
        "avg_sales = 400"
      ],
      "execution_count": null,
      "outputs": []
    },
    {
      "cell_type": "code",
      "metadata": {
        "colab": {
          "base_uri": "https://localhost:8080/"
        },
        "id": "Q64oPLBIBGRN",
        "outputId": "1c7bd42f-ab65-4bab-95c4-90b0a07ec6f7"
      },
      "source": [
        "#sales needed to break even\r\n",
        "solve(x * (sell_price - sell_cost) - monthly_costs)"
      ],
      "execution_count": null,
      "outputs": [
        {
          "output_type": "execute_result",
          "data": {
            "text/plain": [
              "[539.971193415638]"
            ]
          },
          "metadata": {
            "tags": []
          },
          "execution_count": 34
        }
      ]
    },
    {
      "cell_type": "code",
      "metadata": {
        "colab": {
          "base_uri": "https://localhost:8080/",
          "height": 265
        },
        "id": "4lnpaTF-41ns",
        "outputId": "f5c64cfa-885e-46e3-a38c-00ea678b50d6"
      },
      "source": [
        "#plot sales needed\r\n",
        "xs = np.linspace(0, 1000, 1000)\r\n",
        "plt.plot(xs, (sell_price - sell_cost) * xs - monthly_costs)\r\n",
        "plt.axhline(0, c='k')\r\n",
        "plt.show()"
      ],
      "execution_count": null,
      "outputs": [
        {
          "output_type": "display_data",
          "data": {
            "image/png": "[encoded data removed]",
            "text/plain": [
              "<Figure size 432x288 with 1 Axes>"
            ]
          },
          "metadata": {
            "tags": [],
            "needs_background": "light"
          }
        }
      ]
    },
    {
      "cell_type": "code",
      "metadata": {
        "colab": {
          "base_uri": "https://localhost:8080/"
        },
        "id": "G4DEsG1x6DPI",
        "outputId": "3649cb83-2d9d-494f-910e-3fa155ba7480"
      },
      "source": [
        "#price needed at average sales even\r\n",
        "solve(avg_sales * (x-sell_cost) - monthly_costs)"
      ],
      "execution_count": null,
      "outputs": [
        {
          "output_type": "execute_result",
          "data": {
            "text/plain": [
              "[9.84032500000000]"
            ]
          },
          "metadata": {
            "tags": []
          },
          "execution_count": 36
        }
      ]
    },
    {
      "cell_type": "code",
      "metadata": {
        "colab": {
          "base_uri": "https://localhost:8080/",
          "height": 265
        },
        "id": "QkTd5GWE6JPe",
        "outputId": "7f5c8da6-06e3-44bc-e748-3e5aeec53ed4"
      },
      "source": [
        "#plot price needed\r\n",
        "xs = np.linspace(0, 10, 1000)\r\n",
        "plt.plot(xs, avg_sales * xs - ((avg_sales*sell_cost)+monthly_costs))\r\n",
        "plt.axhline(0, c='k')\r\n",
        "plt.show()"
      ],
      "execution_count": null,
      "outputs": [
        {
          "output_type": "display_data",
          "data": {
            "image/png": "[encoded data removed]",
            "text/plain": [
              "<Figure size 432x288 with 1 Axes>"
            ]
          },
          "metadata": {
            "tags": [],
            "needs_background": "light"
          }
        }
      ]
    },
    {
      "cell_type": "markdown",
      "metadata": {
        "id": "mW3ASiJ1RT9W"
      },
      "source": [
        "#Solving systems of equations"
      ]
    },
    {
      "cell_type": "code",
      "metadata": {
        "id": "WkethwkpApHm"
      },
      "source": [
        "from numpy.linalg import inv\r\n",
        "from numpy.linalg import inv, LinAlgError"
      ],
      "execution_count": 11,
      "outputs": []
    },
    {
      "cell_type": "code",
      "metadata": {
        "id": "SjHYliNDRcHU"
      },
      "source": [
        "def solve_eq_sys(coeff_matrix, c):\r\n",
        "    inv_matrix = inv(coeff_matrix)\r\n",
        "    return inv_matrix.dot(c)"
      ],
      "execution_count": 4,
      "outputs": []
    },
    {
      "cell_type": "code",
      "metadata": {
        "colab": {
          "base_uri": "https://localhost:8080/"
        },
        "id": "mz6Na-_gGukG",
        "outputId": "706b6d84-46e7-4a7a-b35c-ab70fef81539"
      },
      "source": [
        "coeff_matrix = np.array([[1, 3, -2],\r\n",
        "                         [3, 5, 6],\r\n",
        "                         [2, 4, 3]])\r\n",
        "c = np.array([1, 31, 19])\r\n",
        "solve_eq_sys(coeff_matrix, c)"
      ],
      "execution_count": 8,
      "outputs": [
        {
          "output_type": "execute_result",
          "data": {
            "text/plain": [
              "array([1., 2., 3.])"
            ]
          },
          "metadata": {
            "tags": []
          },
          "execution_count": 8
        }
      ]
    },
    {
      "cell_type": "code",
      "metadata": {
        "id": "6l1Bml8OHRR7"
      },
      "source": [
        "# row 3 = row 1 x 2 'singular matrix'\r\n",
        "# inv(np.array([[1, 3, -2],\\\r\n",
        "#               [3, 5, 6],\\\r\n",
        "#                [2, 6, -4]]))"
      ],
      "execution_count": 17,
      "outputs": []
    },
    {
      "cell_type": "code",
      "metadata": {
        "id": "rUE0xUeOHa-B"
      },
      "source": [
        "def solve_eq_sys(coeff_matrix, c):\r\n",
        "    try:\r\n",
        "        inv_matrix = inv(coeff_matrix)\r\n",
        "        return inv_matrix.dot(c)\r\n",
        "    except LinAlgError:\r\n",
        "        return False"
      ],
      "execution_count": 14,
      "outputs": []
    },
    {
      "cell_type": "code",
      "metadata": {
        "colab": {
          "base_uri": "https://localhost:8080/"
        },
        "id": "V0ff9-p6IZ82",
        "outputId": "1d568b2e-4133-4482-aeb3-a21c15eb5d8d"
      },
      "source": [
        "coeff_matrix = np.array([[1, 3, -2],\\\r\n",
        "                         [3, 5, 6],\\\r\n",
        "                         [2, 6, -4]])\r\n",
        "c = np.array([1, 31, 19])\r\n",
        "solve_eq_sys(coeff_matrix, c)"
      ],
      "execution_count": 15,
      "outputs": [
        {
          "output_type": "execute_result",
          "data": {
            "text/plain": [
              "False"
            ]
          },
          "metadata": {
            "tags": []
          },
          "execution_count": 15
        }
      ]
    },
    {
      "cell_type": "markdown",
      "metadata": {
        "id": "xqrhmaqSMjK6"
      },
      "source": [
        "#Systems of non-linear equations"
      ]
    },
    {
      "cell_type": "code",
      "metadata": {
        "id": "TDZM2iooIb_K"
      },
      "source": [
        "x = Symbol('x')\r\n",
        "y = Symbol('y')"
      ],
      "execution_count": 18,
      "outputs": []
    },
    {
      "cell_type": "code",
      "metadata": {
        "colab": {
          "base_uri": "https://localhost:8080/"
        },
        "id": "L7x-h1TPMurw",
        "outputId": "2f719b2c-48fe-400e-d01e-b9b8dedf530e"
      },
      "source": [
        "solve([x + y - 5, x ** 2 - x + 2 * y - 8], x,y)"
      ],
      "execution_count": 22,
      "outputs": [
        {
          "output_type": "execute_result",
          "data": {
            "text/plain": [
              "[(1, 4), (2, 3)]"
            ]
          },
          "metadata": {
            "tags": []
          },
          "execution_count": 22
        }
      ]
    },
    {
      "cell_type": "code",
      "metadata": {
        "colab": {
          "base_uri": "https://localhost:8080/"
        },
        "id": "Y1KKjRJkMzoG",
        "outputId": "c1f0834a-6f43-4b9c-c41d-b543f4bbda5d"
      },
      "source": [
        "solve([x ** 2 - 2 * x - y ** 2 + 1, x ** 2 - 2 * y - 1],x, y)"
      ],
      "execution_count": 23,
      "outputs": [
        {
          "output_type": "execute_result",
          "data": {
            "text/plain": [
              "[(-3, 4), (1, 0)]"
            ]
          },
          "metadata": {
            "tags": []
          },
          "execution_count": 23
        }
      ]
    },
    {
      "cell_type": "markdown",
      "metadata": {
        "id": "e8jwwUVANoF_"
      },
      "source": [
        "#Sample break even multi-variable"
      ]
    },
    {
      "cell_type": "code",
      "metadata": {
        "id": "lPbEo_CnNjtp"
      },
      "source": [
        "#variables\r\n",
        "monthly_costs = 1312.13\r\n",
        "sell_price = 8.99\r\n",
        "sell_cost = 6.56\r\n",
        "avg_sales = 400\r\n",
        "monthly_revenue = 4000\r\n",
        "demand = monthly_revenue/sell_price\r\n",
        "\r\n",
        "x = Symbol('x')  # to be sold\r\n",
        "y = Symbol('y')  # price "
      ],
      "execution_count": 28,
      "outputs": []
    },
    {
      "cell_type": "code",
      "metadata": {
        "colab": {
          "base_uri": "https://localhost:8080/"
        },
        "id": "nkZap8V1NHW9",
        "outputId": "243d5220-d640-4f33-9098-0522aad983cb"
      },
      "source": [
        "# x = units sold\r\n",
        "# y = sell price\r\n",
        "solve([x * (y - sell_cost) - monthly_costs,x * y - monthly_revenue])"
      ],
      "execution_count": 30,
      "outputs": [
        {
          "output_type": "execute_result",
          "data": {
            "text/plain": [
              "[{x: 409.736280487805, y: 9.76237690066856}]"
            ]
          },
          "metadata": {
            "tags": []
          },
          "execution_count": 30
        }
      ]
    },
    {
      "cell_type": "code",
      "metadata": {
        "id": "cmhfW-nQOGIy"
      },
      "source": [
        "def get_profit(x, y):\r\n",
        "  demand = monthly_revenue/y\r\n",
        "  if x > demand:\r\n",
        "    return monthly_revenue - x * sell_cost - monthly_costs\r\n",
        "  return x * (y - sell_cost) - monthly_costs"
      ],
      "execution_count": 32,
      "outputs": []
    },
    {
      "cell_type": "code",
      "metadata": {
        "colab": {
          "base_uri": "https://localhost:8080/",
          "height": 279
        },
        "id": "ezqEdjV0Q_sw",
        "outputId": "5d9c02e1-dba0-4138-f11d-4f069e1f5519"
      },
      "source": [
        "xs = [i for i in range(300, 501)]\r\n",
        "profits_976 = [get_profit(x, 9.76) for x in xs]\r\n",
        "plt.plot(xs, profits_976)\r\n",
        "plt.axhline(0, c='k')\r\n",
        "plt.xlabel('Production')\r\n",
        "plt.ylabel('Profit')\r\n",
        "plt.show()"
      ],
      "execution_count": 34,
      "outputs": [
        {
          "output_type": "display_data",
          "data": {
            "image/png": "[encoded data removed]",
            "text/plain": [
              "<Figure size 432x288 with 1 Axes>"
            ]
          },
          "metadata": {
            "tags": [],
            "needs_background": "light"
          }
        }
      ]
    },
    {
      "cell_type": "code",
      "metadata": {
        "colab": {
          "base_uri": "https://localhost:8080/",
          "height": 279
        },
        "id": "AajnlytzRZPd",
        "outputId": "69edbbd7-7dc1-4ed7-db3b-360f69511df3"
      },
      "source": [
        "xs = [i for i in range(300, 501)]\r\n",
        "profits_999 = [get_profit(x, 9.99) for x in xs]\r\n",
        "plt.plot(xs, profits_999)\r\n",
        "plt.axhline(0, c='k')\r\n",
        "plt.xlabel('Production')\r\n",
        "plt.ylabel('Profit')\r\n",
        "plt.show()"
      ],
      "execution_count": 35,
      "outputs": [
        {
          "output_type": "display_data",
          "data": {
            "image/png": "[encoded data removed]",
            "text/plain": [
              "<Figure size 432x288 with 1 Axes>"
            ]
          },
          "metadata": {
            "tags": [],
            "needs_background": "light"
          }
        }
      ]
    },
    {
      "cell_type": "code",
      "metadata": {
        "id": "MpKf2mNvR7Dy"
      },
      "source": [
        "xs = [i for i in range(300, 501, 2)]\r\n",
        "ys = np.linspace(5, 10, 100)\r\n",
        "profits = [[get_profit(x, y) for y in ys] for x in xs]"
      ],
      "execution_count": 36,
      "outputs": []
    },
    {
      "cell_type": "code",
      "metadata": {
        "colab": {
          "base_uri": "https://localhost:8080/",
          "height": 281
        },
        "id": "bnlfOhz9SNBQ",
        "outputId": "bcaa9915-11b8-46e6-d164-61f669e54bcc"
      },
      "source": [
        "#relationship between price and production given demand\r\n",
        "plt.imshow(profits)\r\n",
        "plt.colorbar()\r\n",
        "plt.xticks([0, 20, 40, 60, 80],\\\r\n",
        "           [5, 6, 7, 8, 9, 10])\r\n",
        "plt.xlabel('Price')\r\n",
        "plt.yticks([0, 20, 40, 60, 80],\\\r\n",
        "           [300, 350, 400, 450, 500])\r\n",
        "plt.ylabel('Production')\r\n",
        "plt.show()"
      ],
      "execution_count": 42,
      "outputs": [
        {
          "output_type": "display_data",
          "data": {
            "image/png": "[encoded data removed]",
            "text/plain": [
              "<Figure size 432x288 with 2 Axes>"
            ]
          },
          "metadata": {
            "tags": [],
            "needs_background": "light"
          }
        }
      ]
    }
  ]
}