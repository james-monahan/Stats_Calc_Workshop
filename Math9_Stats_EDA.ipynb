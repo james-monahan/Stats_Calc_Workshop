{
  "nbformat": 4,
  "nbformat_minor": 0,
  "metadata": {
    "colab": {
      "name": "Math9_Stats_EDA.ipynb",
      "provenance": [],
      "collapsed_sections": [],
      "authorship_tag": "ABX9TyMBTQ7Mr/tHXKTv6B0zcpNF",
      "include_colab_link": true
    },
    "kernelspec": {
      "name": "python3",
      "display_name": "Python 3"
    }
  },
  "cells": [
    {
      "cell_type": "markdown",
      "metadata": {
        "id": "view-in-github",
        "colab_type": "text"
      },
      "source": [
        "<a href=\"https://colab.research.google.com/github/james-monahan/Stats_Calc_Workshop/blob/main/Math9_Stats_EDA.ipynb\" target=\"_parent\"><img src=\"https://colab.research.google.com/assets/colab-badge.svg\" alt=\"Open In Colab\"/></a>"
      ]
    },
    {
      "cell_type": "code",
      "metadata": {
        "id": "SdbyRmicTk1U"
      },
      "source": [
        "import pandas as pd\r\n",
        "import numpy as np\r\n",
        "import matplotlib.pyplot as plt\r\n",
        "import seaborn as sns\r\n",
        "import math\r\n",
        "import random"
      ],
      "execution_count": 1,
      "outputs": []
    },
    {
      "cell_type": "markdown",
      "metadata": {
        "id": "MKf8zb3NLEwf"
      },
      "source": [
        "#Data Preperation\r\n",
        "---\r\n",
        "\r\n"
      ]
    },
    {
      "cell_type": "code",
      "metadata": {
        "id": "7Vqs_davJHL8"
      },
      "source": [
        "link = \"https://raw.githubusercontent.com/PacktWorkshops/The-Statistics-and-Calculus-with-Python-Workshop/master/Chapter07/data/appstore_games.csv\""
      ],
      "execution_count": 2,
      "outputs": []
    },
    {
      "cell_type": "code",
      "metadata": {
        "id": "WJ2bfSs3Bjth"
      },
      "source": [
        "games = pd.read_csv(link)"
      ],
      "execution_count": 3,
      "outputs": []
    },
    {
      "cell_type": "code",
      "metadata": {
        "colab": {
          "base_uri": "https://localhost:8080/",
          "height": 0
        },
        "id": "lWwbcXI4BpCN",
        "outputId": "dc69eabf-2bdc-43aa-cecd-a1691038958a"
      },
      "source": [
        "games.head()"
      ],
      "execution_count": 4,
      "outputs": [
        {
          "output_type": "execute_result",
          "data": {
            "text/html": [
              "<div>\n",
              "<style scoped>\n",
              "    .dataframe tbody tr th:only-of-type {\n",
              "        vertical-align: middle;\n",
              "    }\n",
              "\n",
              "    .dataframe tbody tr th {\n",
              "        vertical-align: top;\n",
              "    }\n",
              "\n",
              "    .dataframe thead th {\n",
              "        text-align: right;\n",
              "    }\n",
              "</style>\n",
              "<table border=\"1\" class=\"dataframe\">\n",
              "  <thead>\n",
              "    <tr style=\"text-align: right;\">\n",
              "      <th></th>\n",
              "      <th>URL</th>\n",
              "      <th>ID</th>\n",
              "      <th>Name</th>\n",
              "      <th>Subtitle</th>\n",
              "      <th>Icon URL</th>\n",
              "      <th>Average User Rating</th>\n",
              "      <th>User Rating Count</th>\n",
              "      <th>Price</th>\n",
              "      <th>In-app Purchases</th>\n",
              "      <th>Description</th>\n",
              "      <th>Developer</th>\n",
              "      <th>Age Rating</th>\n",
              "      <th>Languages</th>\n",
              "      <th>Size</th>\n",
              "      <th>Primary Genre</th>\n",
              "      <th>Genres</th>\n",
              "      <th>Original Release Date</th>\n",
              "      <th>Current Version Release Date</th>\n",
              "    </tr>\n",
              "  </thead>\n",
              "  <tbody>\n",
              "    <tr>\n",
              "      <th>0</th>\n",
              "      <td>https://apps.apple.com/us/app/sudoku/id284921427</td>\n",
              "      <td>284921427</td>\n",
              "      <td>Sudoku</td>\n",
              "      <td>NaN</td>\n",
              "      <td>https://is2-ssl.mzstatic.com/image/thumb/Purpl...</td>\n",
              "      <td>4.0</td>\n",
              "      <td>3553.0</td>\n",
              "      <td>2.99</td>\n",
              "      <td>NaN</td>\n",
              "      <td>Join over 21,000,000 of our fans and download ...</td>\n",
              "      <td>Mighty Mighty Good Games</td>\n",
              "      <td>4+</td>\n",
              "      <td>DA, NL, EN, FI, FR, DE, IT, JA, KO, NB, PL, PT...</td>\n",
              "      <td>15853568.0</td>\n",
              "      <td>Games</td>\n",
              "      <td>Games, Strategy, Puzzle</td>\n",
              "      <td>11/07/2008</td>\n",
              "      <td>30/05/2017</td>\n",
              "    </tr>\n",
              "    <tr>\n",
              "      <th>1</th>\n",
              "      <td>https://apps.apple.com/us/app/reversi/id284926400</td>\n",
              "      <td>284926400</td>\n",
              "      <td>Reversi</td>\n",
              "      <td>NaN</td>\n",
              "      <td>https://is4-ssl.mzstatic.com/image/thumb/Purpl...</td>\n",
              "      <td>3.5</td>\n",
              "      <td>284.0</td>\n",
              "      <td>1.99</td>\n",
              "      <td>NaN</td>\n",
              "      <td>The classic game of Reversi, also known as Oth...</td>\n",
              "      <td>Kiss The Machine</td>\n",
              "      <td>4+</td>\n",
              "      <td>EN</td>\n",
              "      <td>12328960.0</td>\n",
              "      <td>Games</td>\n",
              "      <td>Games, Strategy, Board</td>\n",
              "      <td>11/07/2008</td>\n",
              "      <td>17/05/2018</td>\n",
              "    </tr>\n",
              "    <tr>\n",
              "      <th>2</th>\n",
              "      <td>https://apps.apple.com/us/app/morocco/id284946595</td>\n",
              "      <td>284946595</td>\n",
              "      <td>Morocco</td>\n",
              "      <td>NaN</td>\n",
              "      <td>https://is5-ssl.mzstatic.com/image/thumb/Purpl...</td>\n",
              "      <td>3.0</td>\n",
              "      <td>8376.0</td>\n",
              "      <td>0.00</td>\n",
              "      <td>NaN</td>\n",
              "      <td>Play the classic strategy game Othello (also k...</td>\n",
              "      <td>Bayou Games</td>\n",
              "      <td>4+</td>\n",
              "      <td>EN</td>\n",
              "      <td>674816.0</td>\n",
              "      <td>Games</td>\n",
              "      <td>Games, Board, Strategy</td>\n",
              "      <td>11/07/2008</td>\n",
              "      <td>5/09/2017</td>\n",
              "    </tr>\n",
              "    <tr>\n",
              "      <th>3</th>\n",
              "      <td>https://apps.apple.com/us/app/sudoku-free/id28...</td>\n",
              "      <td>285755462</td>\n",
              "      <td>Sudoku (Free)</td>\n",
              "      <td>NaN</td>\n",
              "      <td>https://is3-ssl.mzstatic.com/image/thumb/Purpl...</td>\n",
              "      <td>3.5</td>\n",
              "      <td>190394.0</td>\n",
              "      <td>0.00</td>\n",
              "      <td>NaN</td>\n",
              "      <td>Top 100 free app for over a year.\\nRated \"Best...</td>\n",
              "      <td>Mighty Mighty Good Games</td>\n",
              "      <td>4+</td>\n",
              "      <td>DA, NL, EN, FI, FR, DE, IT, JA, KO, NB, PL, PT...</td>\n",
              "      <td>21552128.0</td>\n",
              "      <td>Games</td>\n",
              "      <td>Games, Strategy, Puzzle</td>\n",
              "      <td>23/07/2008</td>\n",
              "      <td>30/05/2017</td>\n",
              "    </tr>\n",
              "    <tr>\n",
              "      <th>4</th>\n",
              "      <td>https://apps.apple.com/us/app/senet-deluxe/id2...</td>\n",
              "      <td>285831220</td>\n",
              "      <td>Senet Deluxe</td>\n",
              "      <td>NaN</td>\n",
              "      <td>https://is1-ssl.mzstatic.com/image/thumb/Purpl...</td>\n",
              "      <td>3.5</td>\n",
              "      <td>28.0</td>\n",
              "      <td>2.99</td>\n",
              "      <td>NaN</td>\n",
              "      <td>\"Senet Deluxe - The Ancient Game of Life and A...</td>\n",
              "      <td>RoGame Software</td>\n",
              "      <td>4+</td>\n",
              "      <td>DA, NL, EN, FR, DE, EL, IT, JA, KO, NO, PT, RU...</td>\n",
              "      <td>34689024.0</td>\n",
              "      <td>Games</td>\n",
              "      <td>Games, Strategy, Board, Education</td>\n",
              "      <td>18/07/2008</td>\n",
              "      <td>22/07/2018</td>\n",
              "    </tr>\n",
              "  </tbody>\n",
              "</table>\n",
              "</div>"
            ],
            "text/plain": [
              "                                                 URL  ...  Current Version Release Date\n",
              "0   https://apps.apple.com/us/app/sudoku/id284921427  ...                    30/05/2017\n",
              "1  https://apps.apple.com/us/app/reversi/id284926400  ...                    17/05/2018\n",
              "2  https://apps.apple.com/us/app/morocco/id284946595  ...                     5/09/2017\n",
              "3  https://apps.apple.com/us/app/sudoku-free/id28...  ...                    30/05/2017\n",
              "4  https://apps.apple.com/us/app/senet-deluxe/id2...  ...                    22/07/2018\n",
              "\n",
              "[5 rows x 18 columns]"
            ]
          },
          "metadata": {
            "tags": []
          },
          "execution_count": 4
        }
      ]
    },
    {
      "cell_type": "code",
      "metadata": {
        "colab": {
          "base_uri": "https://localhost:8080/"
        },
        "id": "yQbrsEYlBqqO",
        "outputId": "202520ef-0367-43fa-99c4-993d8f6c1dc7"
      },
      "source": [
        "original_colums_dict = {x: x.lower().replace(' ','_') \\\r\n",
        "                        for x in games.columns}\r\n",
        "original_colums_dict "
      ],
      "execution_count": 5,
      "outputs": [
        {
          "output_type": "execute_result",
          "data": {
            "text/plain": [
              "{'Age Rating': 'age_rating',\n",
              " 'Average User Rating': 'average_user_rating',\n",
              " 'Current Version Release Date': 'current_version_release_date',\n",
              " 'Description': 'description',\n",
              " 'Developer': 'developer',\n",
              " 'Genres': 'genres',\n",
              " 'ID': 'id',\n",
              " 'Icon URL': 'icon_url',\n",
              " 'In-app Purchases': 'in-app_purchases',\n",
              " 'Languages': 'languages',\n",
              " 'Name': 'name',\n",
              " 'Original Release Date': 'original_release_date',\n",
              " 'Price': 'price',\n",
              " 'Primary Genre': 'primary_genre',\n",
              " 'Size': 'size',\n",
              " 'Subtitle': 'subtitle',\n",
              " 'URL': 'url',\n",
              " 'User Rating Count': 'user_rating_count'}"
            ]
          },
          "metadata": {
            "tags": []
          },
          "execution_count": 5
        }
      ]
    },
    {
      "cell_type": "code",
      "metadata": {
        "id": "c06YtKlCB_0Y"
      },
      "source": [
        "games.rename(columns = original_colums_dict,\\\r\n",
        "             inplace = True)"
      ],
      "execution_count": 6,
      "outputs": []
    },
    {
      "cell_type": "code",
      "metadata": {
        "id": "KtSSrnCPCKZn"
      },
      "source": [
        "games.set_index(keys = 'id', inplace = True)"
      ],
      "execution_count": 7,
      "outputs": []
    },
    {
      "cell_type": "code",
      "metadata": {
        "id": "ymqQ-812CVyT"
      },
      "source": [
        "games.drop(columns = ['url', 'icon_url'], inplace = True)"
      ],
      "execution_count": 8,
      "outputs": []
    },
    {
      "cell_type": "code",
      "metadata": {
        "colab": {
          "base_uri": "https://localhost:8080/"
        },
        "id": "w8mFeebSCcko",
        "outputId": "99c10af2-61ca-4e14-aa79-84d535bbcd0e"
      },
      "source": [
        "games.info()"
      ],
      "execution_count": 9,
      "outputs": [
        {
          "output_type": "stream",
          "text": [
            "<class 'pandas.core.frame.DataFrame'>\n",
            "Int64Index: 17007 entries, 284921427 to 1475076711\n",
            "Data columns (total 15 columns):\n",
            " #   Column                        Non-Null Count  Dtype  \n",
            "---  ------                        --------------  -----  \n",
            " 0   name                          17007 non-null  object \n",
            " 1   subtitle                      5261 non-null   object \n",
            " 2   average_user_rating           7561 non-null   float64\n",
            " 3   user_rating_count             7561 non-null   float64\n",
            " 4   price                         16983 non-null  float64\n",
            " 5   in-app_purchases              7683 non-null   object \n",
            " 6   description                   17007 non-null  object \n",
            " 7   developer                     17007 non-null  object \n",
            " 8   age_rating                    17007 non-null  object \n",
            " 9   languages                     16947 non-null  object \n",
            " 10  size                          17006 non-null  float64\n",
            " 11  primary_genre                 17007 non-null  object \n",
            " 12  genres                        17007 non-null  object \n",
            " 13  original_release_date         17007 non-null  object \n",
            " 14  current_version_release_date  17007 non-null  object \n",
            "dtypes: float64(4), object(11)\n",
            "memory usage: 2.1+ MB\n"
          ],
          "name": "stdout"
        }
      ]
    },
    {
      "cell_type": "code",
      "metadata": {
        "id": "01mVUBglCgXw"
      },
      "source": [
        "games['original_release_date'] = pd.to_datetime\\\r\n",
        "                                 (games['original_release_date'])\r\n",
        "games['current_version_release_date'] =\\\r\n",
        "pd.to_datetime(games['current_version_release_date'])"
      ],
      "execution_count": 10,
      "outputs": []
    },
    {
      "cell_type": "code",
      "metadata": {
        "colab": {
          "base_uri": "https://localhost:8080/"
        },
        "id": "b0kzEwx9CoIY",
        "outputId": "4e98ad9b-ccab-495e-e6ef-41fc10e3245c"
      },
      "source": [
        "games.isnull().sum()"
      ],
      "execution_count": 11,
      "outputs": [
        {
          "output_type": "execute_result",
          "data": {
            "text/plain": [
              "name                                0\n",
              "subtitle                        11746\n",
              "average_user_rating              9446\n",
              "user_rating_count                9446\n",
              "price                              24\n",
              "in-app_purchases                 9324\n",
              "description                         0\n",
              "developer                           0\n",
              "age_rating                          0\n",
              "languages                          60\n",
              "size                                1\n",
              "primary_genre                       0\n",
              "genres                              0\n",
              "original_release_date               0\n",
              "current_version_release_date        0\n",
              "dtype: int64"
            ]
          },
          "metadata": {
            "tags": []
          },
          "execution_count": 11
        }
      ]
    },
    {
      "cell_type": "code",
      "metadata": {
        "colab": {
          "base_uri": "https://localhost:8080/"
        },
        "id": "NRABp_3PCvk1",
        "outputId": "96092b27-f5b6-4c7c-b5be-cd05a1092995"
      },
      "source": [
        "np.array_equal(games['average_user_rating'].isnull(),\\\r\n",
        "               games['user_rating_count'].isnull())"
      ],
      "execution_count": 12,
      "outputs": [
        {
          "output_type": "execute_result",
          "data": {
            "text/plain": [
              "True"
            ]
          },
          "metadata": {
            "tags": []
          },
          "execution_count": 12
        }
      ]
    },
    {
      "cell_type": "code",
      "metadata": {
        "id": "GoEksTI_C46g"
      },
      "source": [
        "games = games.loc[games['average_user_rating'].notnull()]"
      ],
      "execution_count": 13,
      "outputs": []
    },
    {
      "cell_type": "code",
      "metadata": {
        "id": "P1I7qanBDEld"
      },
      "source": [
        "games = games.loc[games['user_rating_count'] >= 30]"
      ],
      "execution_count": 14,
      "outputs": []
    },
    {
      "cell_type": "code",
      "metadata": {
        "colab": {
          "base_uri": "https://localhost:8080/"
        },
        "id": "MUvOdFs6DK_8",
        "outputId": "141fb67c-5030-4885-926d-263687566ce2"
      },
      "source": [
        "games.isnull().sum()"
      ],
      "execution_count": 15,
      "outputs": [
        {
          "output_type": "execute_result",
          "data": {
            "text/plain": [
              "name                               0\n",
              "subtitle                        2523\n",
              "average_user_rating                0\n",
              "user_rating_count                  0\n",
              "price                              0\n",
              "in-app_purchases                1313\n",
              "description                        0\n",
              "developer                          0\n",
              "age_rating                         0\n",
              "languages                         14\n",
              "size                               0\n",
              "primary_genre                      0\n",
              "genres                             0\n",
              "original_release_date              0\n",
              "current_version_release_date       0\n",
              "dtype: int64"
            ]
          },
          "metadata": {
            "tags": []
          },
          "execution_count": 15
        }
      ]
    },
    {
      "cell_type": "code",
      "metadata": {
        "colab": {
          "base_uri": "https://localhost:8080/"
        },
        "id": "yrz_tSemDPJ2",
        "outputId": "89f0b491-b0f5-40a5-8075-badb50c79bd0"
      },
      "source": [
        "games2 = games.copy()\r\n",
        "games2['languages'].head()"
      ],
      "execution_count": 16,
      "outputs": [
        {
          "output_type": "execute_result",
          "data": {
            "text/plain": [
              "id\n",
              "284921427    DA, NL, EN, FI, FR, DE, IT, JA, KO, NB, PL, PT...\n",
              "284926400                                                   EN\n",
              "284946595                                                   EN\n",
              "285755462    DA, NL, EN, FI, FR, DE, IT, JA, KO, NB, PL, PT...\n",
              "286210009                                                   EN\n",
              "Name: languages, dtype: object"
            ]
          },
          "metadata": {
            "tags": []
          },
          "execution_count": 16
        }
      ]
    },
    {
      "cell_type": "code",
      "metadata": {
        "id": "Cdo8ItxFDXy_"
      },
      "source": [
        "games2['languages'] = games2['languages'].fillna('EN')"
      ],
      "execution_count": 17,
      "outputs": []
    },
    {
      "cell_type": "code",
      "metadata": {
        "id": "lmO2R77VEcZE"
      },
      "source": [
        "list_of_languages = games2['languages'].str.split(',')"
      ],
      "execution_count": 18,
      "outputs": []
    },
    {
      "cell_type": "code",
      "metadata": {
        "id": "X66tu2gHEjlx"
      },
      "source": [
        "games2['n_languages'] = list_of_languages.apply(lambda x: len(x))"
      ],
      "execution_count": 19,
      "outputs": []
    },
    {
      "cell_type": "markdown",
      "metadata": {
        "id": "bgcv66W5ExvC"
      },
      "source": [
        "#Descriptive Stats"
      ]
    },
    {
      "cell_type": "code",
      "metadata": {
        "id": "Nhv1m219EkR6"
      },
      "source": [
        "#sample heights\r\n",
        "mens_heights = pd.Series\\\r\n",
        "               ([1.68, 1.83, 1.75, 1.8, 1.88, 1.8, 1.89, 1.84,\\\r\n",
        "                 1.9, 1.65, 1.67,1.62, 1.81, 1.73, 1.84, 1.78,\\\r\n",
        "                 1.76, 1.97, 1.81, 1.75, 1.65, 1.87, 1.85, 1.64])"
      ],
      "execution_count": 20,
      "outputs": []
    },
    {
      "cell_type": "code",
      "metadata": {
        "colab": {
          "base_uri": "https://localhost:8080/"
        },
        "id": "Q-XPEPOyMn4k",
        "outputId": "df1cd648-9cab-419c-d57a-5dfe22f2a1b3"
      },
      "source": [
        "print(mens_heights.mean())\r\n",
        "mens_heights.std()"
      ],
      "execution_count": 21,
      "outputs": [
        {
          "output_type": "stream",
          "text": [
            "1.7820833333333335\n"
          ],
          "name": "stdout"
        },
        {
          "output_type": "execute_result",
          "data": {
            "text/plain": [
              "0.09408502938099766"
            ]
          },
          "metadata": {
            "tags": []
          },
          "execution_count": 21
        }
      ]
    },
    {
      "cell_type": "code",
      "metadata": {
        "id": "nq5EXRc5Mzij"
      },
      "source": [
        "mens_heights_2 = pd.Series\\\r\n",
        "                 ([1.77, 1.75, 1.75, 1.75, 1.73, 1.75, 1.73, 1.75,\\\r\n",
        "                   1.74, 1.76, 1.75, 1.75, 1.74, 1.76, 1.75, 1.76,\\\r\n",
        "                   1.76, 1.76, 1.75, 1.73, 1.74, 1.76, 1.76, 1.76])"
      ],
      "execution_count": 22,
      "outputs": []
    },
    {
      "cell_type": "code",
      "metadata": {
        "colab": {
          "base_uri": "https://localhost:8080/"
        },
        "id": "lRJQZ6VtNLKW",
        "outputId": "3d5131ed-a7ec-46aa-b7dd-673757f668c8"
      },
      "source": [
        "print(mens_heights_2.mean())\r\n",
        "mens_heights_2.std()"
      ],
      "execution_count": 23,
      "outputs": [
        {
          "output_type": "stream",
          "text": [
            "1.7504166666666665\n"
          ],
          "name": "stdout"
        },
        {
          "output_type": "execute_result",
          "data": {
            "text/plain": [
              "0.010826363421183332"
            ]
          },
          "metadata": {
            "tags": []
          },
          "execution_count": 23
        }
      ]
    },
    {
      "cell_type": "code",
      "metadata": {
        "colab": {
          "base_uri": "https://localhost:8080/"
        },
        "id": "8ohH8J63NNPp",
        "outputId": "4535fbf4-97b9-4646-8a8a-45dcc5dfd1a9"
      },
      "source": [
        "mens_heights.quantile([0.25, 0.5, 0.75])"
      ],
      "execution_count": 24,
      "outputs": [
        {
          "output_type": "execute_result",
          "data": {
            "text/plain": [
              "0.25    1.7175\n",
              "0.50    1.8000\n",
              "0.75    1.8425\n",
              "dtype: float64"
            ]
          },
          "metadata": {
            "tags": []
          },
          "execution_count": 24
        }
      ]
    },
    {
      "cell_type": "code",
      "metadata": {
        "colab": {
          "base_uri": "https://localhost:8080/"
        },
        "id": "G54YXquUNuC-",
        "outputId": "74a3b381-c08d-4a7d-b4e2-ceb722a6875b"
      },
      "source": [
        "(mens_heights >= 1.8).sum()/mens_heights.shape[0]"
      ],
      "execution_count": 25,
      "outputs": [
        {
          "output_type": "execute_result",
          "data": {
            "text/plain": [
              "0.5416666666666666"
            ]
          },
          "metadata": {
            "tags": []
          },
          "execution_count": 25
        }
      ]
    },
    {
      "cell_type": "code",
      "metadata": {
        "colab": {
          "base_uri": "https://localhost:8080/"
        },
        "id": "hp1U8FJmOTiM",
        "outputId": "0ee71bf4-a641-4f04-bbf3-8a17e8dafe07"
      },
      "source": [
        "(mens_heights >= 1.8).mean()"
      ],
      "execution_count": 26,
      "outputs": [
        {
          "output_type": "execute_result",
          "data": {
            "text/plain": [
              "0.5416666666666666"
            ]
          },
          "metadata": {
            "tags": []
          },
          "execution_count": 26
        }
      ]
    },
    {
      "cell_type": "code",
      "metadata": {
        "colab": {
          "base_uri": "https://localhost:8080/",
          "height": 292
        },
        "id": "N0uEJwOpO0mD",
        "outputId": "3ab3c957-489c-4765-a3a8-05f6bd761c49"
      },
      "source": [
        "games.describe()"
      ],
      "execution_count": 27,
      "outputs": [
        {
          "output_type": "execute_result",
          "data": {
            "text/html": [
              "<div>\n",
              "<style scoped>\n",
              "    .dataframe tbody tr th:only-of-type {\n",
              "        vertical-align: middle;\n",
              "    }\n",
              "\n",
              "    .dataframe tbody tr th {\n",
              "        vertical-align: top;\n",
              "    }\n",
              "\n",
              "    .dataframe thead th {\n",
              "        text-align: right;\n",
              "    }\n",
              "</style>\n",
              "<table border=\"1\" class=\"dataframe\">\n",
              "  <thead>\n",
              "    <tr style=\"text-align: right;\">\n",
              "      <th></th>\n",
              "      <th>average_user_rating</th>\n",
              "      <th>user_rating_count</th>\n",
              "      <th>price</th>\n",
              "      <th>size</th>\n",
              "    </tr>\n",
              "  </thead>\n",
              "  <tbody>\n",
              "    <tr>\n",
              "      <th>count</th>\n",
              "      <td>4311.000000</td>\n",
              "      <td>4.311000e+03</td>\n",
              "      <td>4311.000000</td>\n",
              "      <td>4.311000e+03</td>\n",
              "    </tr>\n",
              "    <tr>\n",
              "      <th>mean</th>\n",
              "      <td>4.163535</td>\n",
              "      <td>5.789754e+03</td>\n",
              "      <td>0.677878</td>\n",
              "      <td>1.759569e+08</td>\n",
              "    </tr>\n",
              "    <tr>\n",
              "      <th>std</th>\n",
              "      <td>0.596239</td>\n",
              "      <td>5.592425e+04</td>\n",
              "      <td>2.910916</td>\n",
              "      <td>2.866278e+08</td>\n",
              "    </tr>\n",
              "    <tr>\n",
              "      <th>min</th>\n",
              "      <td>1.500000</td>\n",
              "      <td>3.000000e+01</td>\n",
              "      <td>0.000000</td>\n",
              "      <td>2.158400e+05</td>\n",
              "    </tr>\n",
              "    <tr>\n",
              "      <th>25%</th>\n",
              "      <td>4.000000</td>\n",
              "      <td>7.000000e+01</td>\n",
              "      <td>0.000000</td>\n",
              "      <td>4.073626e+07</td>\n",
              "    </tr>\n",
              "    <tr>\n",
              "      <th>50%</th>\n",
              "      <td>4.500000</td>\n",
              "      <td>2.210000e+02</td>\n",
              "      <td>0.000000</td>\n",
              "      <td>9.730048e+07</td>\n",
              "    </tr>\n",
              "    <tr>\n",
              "      <th>75%</th>\n",
              "      <td>4.500000</td>\n",
              "      <td>1.192000e+03</td>\n",
              "      <td>0.000000</td>\n",
              "      <td>2.085176e+08</td>\n",
              "    </tr>\n",
              "    <tr>\n",
              "      <th>max</th>\n",
              "      <td>5.000000</td>\n",
              "      <td>3.032734e+06</td>\n",
              "      <td>139.990000</td>\n",
              "      <td>4.005591e+09</td>\n",
              "    </tr>\n",
              "  </tbody>\n",
              "</table>\n",
              "</div>"
            ],
            "text/plain": [
              "       average_user_rating  user_rating_count        price          size\n",
              "count          4311.000000       4.311000e+03  4311.000000  4.311000e+03\n",
              "mean              4.163535       5.789754e+03     0.677878  1.759569e+08\n",
              "std               0.596239       5.592425e+04     2.910916  2.866278e+08\n",
              "min               1.500000       3.000000e+01     0.000000  2.158400e+05\n",
              "25%               4.000000       7.000000e+01     0.000000  4.073626e+07\n",
              "50%               4.500000       2.210000e+02     0.000000  9.730048e+07\n",
              "75%               4.500000       1.192000e+03     0.000000  2.085176e+08\n",
              "max               5.000000       3.032734e+06   139.990000  4.005591e+09"
            ]
          },
          "metadata": {
            "tags": []
          },
          "execution_count": 27
        }
      ]
    },
    {
      "cell_type": "code",
      "metadata": {
        "colab": {
          "base_uri": "https://localhost:8080/"
        },
        "id": "S-1xQ3C_O_yX",
        "outputId": "e0b47e00-4028-4822-93c8-abc3c109fcfb"
      },
      "source": [
        "games['user_rating_count'].sort_values(ascending=False).head(10)"
      ],
      "execution_count": 28,
      "outputs": [
        {
          "output_type": "execute_result",
          "data": {
            "text/plain": [
              "id\n",
              "529479190     3032734.0\n",
              "1053012308    1277095.0\n",
              "1330123889     711409.0\n",
              "597986893      469562.0\n",
              "1094591345     439776.0\n",
              "672150402      400787.0\n",
              "1270598321     374772.0\n",
              "1116645064     283035.0\n",
              "297558390      273687.0\n",
              "847985808      259030.0\n",
              "Name: user_rating_count, dtype: float64"
            ]
          },
          "metadata": {
            "tags": []
          },
          "execution_count": 28
        }
      ]
    },
    {
      "cell_type": "code",
      "metadata": {
        "colab": {
          "base_uri": "https://localhost:8080/"
        },
        "id": "UnS1fMiuPeDH",
        "outputId": "ac4d437c-3389-481e-b6c9-34fa2d45f53d"
      },
      "source": [
        "(games['user_rating_count'] >= 100000).sum()"
      ],
      "execution_count": 29,
      "outputs": [
        {
          "output_type": "execute_result",
          "data": {
            "text/plain": [
              "40"
            ]
          },
          "metadata": {
            "tags": []
          },
          "execution_count": 29
        }
      ]
    },
    {
      "cell_type": "code",
      "metadata": {
        "colab": {
          "base_uri": "https://localhost:8080/"
        },
        "id": "5NPeXLPDPku7",
        "outputId": "fc4e1b5d-5c48-44ce-f93e-6e41daeec41b"
      },
      "source": [
        "games['average_user_rating'].unique()"
      ],
      "execution_count": 30,
      "outputs": [
        {
          "output_type": "execute_result",
          "data": {
            "text/plain": [
              "array([4. , 3.5, 3. , 2.5, 2. , 4.5, 5. , 1.5])"
            ]
          },
          "metadata": {
            "tags": []
          },
          "execution_count": 30
        }
      ]
    },
    {
      "cell_type": "code",
      "metadata": {
        "id": "2PjoVibLQKWH"
      },
      "source": [
        ""
      ],
      "execution_count": 30,
      "outputs": []
    },
    {
      "cell_type": "markdown",
      "metadata": {
        "id": "p0koAT4Of01u"
      },
      "source": [
        "#EDA"
      ]
    },
    {
      "cell_type": "code",
      "metadata": {
        "colab": {
          "base_uri": "https://localhost:8080/"
        },
        "id": "XIWNSyQ1f2Dq",
        "outputId": "26f56b35-c68b-4e89-a4cd-d7f1c91a57d7"
      },
      "source": [
        "games.info()"
      ],
      "execution_count": 31,
      "outputs": [
        {
          "output_type": "stream",
          "text": [
            "<class 'pandas.core.frame.DataFrame'>\n",
            "Int64Index: 4311 entries, 284921427 to 1474461379\n",
            "Data columns (total 15 columns):\n",
            " #   Column                        Non-Null Count  Dtype         \n",
            "---  ------                        --------------  -----         \n",
            " 0   name                          4311 non-null   object        \n",
            " 1   subtitle                      1788 non-null   object        \n",
            " 2   average_user_rating           4311 non-null   float64       \n",
            " 3   user_rating_count             4311 non-null   float64       \n",
            " 4   price                         4311 non-null   float64       \n",
            " 5   in-app_purchases              2998 non-null   object        \n",
            " 6   description                   4311 non-null   object        \n",
            " 7   developer                     4311 non-null   object        \n",
            " 8   age_rating                    4311 non-null   object        \n",
            " 9   languages                     4297 non-null   object        \n",
            " 10  size                          4311 non-null   float64       \n",
            " 11  primary_genre                 4311 non-null   object        \n",
            " 12  genres                        4311 non-null   object        \n",
            " 13  original_release_date         4311 non-null   datetime64[ns]\n",
            " 14  current_version_release_date  4311 non-null   datetime64[ns]\n",
            "dtypes: datetime64[ns](2), float64(4), object(9)\n",
            "memory usage: 538.9+ KB\n"
          ],
          "name": "stdout"
        }
      ]
    },
    {
      "cell_type": "code",
      "metadata": {
        "id": "2XxHHDjBlYg0"
      },
      "source": [
        "games['size'] = games['size']/1e6"
      ],
      "execution_count": 32,
      "outputs": []
    },
    {
      "cell_type": "code",
      "metadata": {
        "colab": {
          "base_uri": "https://localhost:8080/",
          "height": 283
        },
        "id": "iBnSn5xcl1BB",
        "outputId": "b271df3b-8736-4f9c-8571-f6e751a984f9"
      },
      "source": [
        "games['size'].hist(bins=30, ec='black')"
      ],
      "execution_count": 33,
      "outputs": [
        {
          "output_type": "execute_result",
          "data": {
            "text/plain": [
              "<matplotlib.axes._subplots.AxesSubplot at 0x7f6d5ee3efd0>"
            ]
          },
          "metadata": {
            "tags": []
          },
          "execution_count": 33
        },
        {
          "output_type": "display_data",
          "data": {
            "image/png": "[encoded data removed]",
            "text/plain": [
              "<Figure size 432x288 with 1 Axes>"
            ]
          },
          "metadata": {
            "tags": [],
            "needs_background": "light"
          }
        }
      ]
    },
    {
      "cell_type": "code",
      "metadata": {
        "colab": {
          "base_uri": "https://localhost:8080/"
        },
        "id": "tH1gluVyl7ZF",
        "outputId": "fa722e54-5ae2-4c22-c51c-5a3f101f309e"
      },
      "source": [
        "games['size'].describe()"
      ],
      "execution_count": 34,
      "outputs": [
        {
          "output_type": "execute_result",
          "data": {
            "text/plain": [
              "count    4311.000000\n",
              "mean      175.956867\n",
              "std       286.627800\n",
              "min         0.215840\n",
              "25%        40.736256\n",
              "50%        97.300480\n",
              "75%       208.517632\n",
              "max      4005.591040\n",
              "Name: size, dtype: float64"
            ]
          },
          "metadata": {
            "tags": []
          },
          "execution_count": 34
        }
      ]
    },
    {
      "cell_type": "code",
      "metadata": {
        "colab": {
          "base_uri": "https://localhost:8080/",
          "height": 297
        },
        "id": "O-v7b_tjmEvm",
        "outputId": "973ee4d6-48a7-43ad-e22e-ac8759a4b940"
      },
      "source": [
        "games.hist(figsize = (10, 4), bins = 30, ec = 'black');\r\n",
        "# This line prints the four plots without overlap\r\n",
        "plt.tight_layout()"
      ],
      "execution_count": 35,
      "outputs": [
        {
          "output_type": "display_data",
          "data": {
            "image/png": "[encoded data removed]",
            "text/plain": [
              "<Figure size 720x288 with 4 Axes>"
            ]
          },
          "metadata": {
            "tags": [],
            "needs_background": "light"
          }
        }
      ]
    },
    {
      "cell_type": "code",
      "metadata": {
        "colab": {
          "base_uri": "https://localhost:8080/",
          "height": 297
        },
        "id": "S0DbYVRpmqD_",
        "outputId": "0cfdf425-e2d6-4720-92e3-ffae5655b9b0"
      },
      "source": [
        "filter_price = games['price'] <= games['price'].quantile(0.99)\r\n",
        "filter_user_rating_count = games['user_rating_count'] \\\r\n",
        "                          <= games['user_rating_count'].quantile(0.99)\r\n",
        "filter_size = games['size'] <= games['size'].quantile(0.99)\r\n",
        "filter_exclude_top_1_percent = filter_price \\\r\n",
        "                               & filter_user_rating_count \\\r\n",
        "                               & filter_size\r\n",
        "games[filter_exclude_top_1_percent].hist(figsize = (10, 4),\\\r\n",
        "                                         bins = 30, ec = 'black');\r\n",
        "# This line prints the four plots without overlap\r\n",
        "plt.tight_layout()"
      ],
      "execution_count": 36,
      "outputs": [
        {
          "output_type": "display_data",
          "data": {
            "image/png": "[encoded data removed]",
            "text/plain": [
              "<Figure size 720x288 with 4 Axes>"
            ]
          },
          "metadata": {
            "tags": [],
            "needs_background": "light"
          }
        }
      ]
    },
    {
      "cell_type": "code",
      "metadata": {
        "colab": {
          "base_uri": "https://localhost:8080/",
          "height": 283
        },
        "id": "L1PIDIQinC-o",
        "outputId": "b2f0e493-53ca-4f38-d9d8-97a9b3e20c0b"
      },
      "source": [
        "mens_heights.plot(kind='box')"
      ],
      "execution_count": 37,
      "outputs": [
        {
          "output_type": "execute_result",
          "data": {
            "text/plain": [
              "<matplotlib.axes._subplots.AxesSubplot at 0x7f6d5e62a7d0>"
            ]
          },
          "metadata": {
            "tags": []
          },
          "execution_count": 37
        },
        {
          "output_type": "display_data",
          "data": {
            "image/png": "[encoded data removed]",
            "text/plain": [
              "<Figure size 432x288 with 1 Axes>"
            ]
          },
          "metadata": {
            "tags": [],
            "needs_background": "light"
          }
        }
      ]
    },
    {
      "cell_type": "code",
      "metadata": {
        "colab": {
          "base_uri": "https://localhost:8080/",
          "height": 283
        },
        "id": "lLgUjxHJo0s4",
        "outputId": "54e76120-fb3c-436e-f366-c9458bf5c656"
      },
      "source": [
        "games['size'].plot(kind='box')"
      ],
      "execution_count": 38,
      "outputs": [
        {
          "output_type": "execute_result",
          "data": {
            "text/plain": [
              "<matplotlib.axes._subplots.AxesSubplot at 0x7f6d55da9390>"
            ]
          },
          "metadata": {
            "tags": []
          },
          "execution_count": 38
        },
        {
          "output_type": "display_data",
          "data": {
            "image/png": "[encoded data removed]",
            "text/plain": [
              "<Figure size 432x288 with 1 Axes>"
            ]
          },
          "metadata": {
            "tags": [],
            "needs_background": "light"
          }
        }
      ]
    },
    {
      "cell_type": "code",
      "metadata": {
        "colab": {
          "base_uri": "https://localhost:8080/"
        },
        "id": "Z475gmpUpFA-",
        "outputId": "0e31eda2-846d-47ca-f7db-fb01ff11f473"
      },
      "source": [
        "games['age_rating'].value_counts()"
      ],
      "execution_count": 39,
      "outputs": [
        {
          "output_type": "execute_result",
          "data": {
            "text/plain": [
              "4+     2287\n",
              "9+      948\n",
              "12+     925\n",
              "17+     151\n",
              "Name: age_rating, dtype: int64"
            ]
          },
          "metadata": {
            "tags": []
          },
          "execution_count": 39
        }
      ]
    },
    {
      "cell_type": "code",
      "metadata": {
        "colab": {
          "base_uri": "https://localhost:8080/",
          "height": 294
        },
        "id": "7vJEmELtpSO5",
        "outputId": "7f6314f3-0dac-44cd-ec6b-b0f582d9e8c9"
      },
      "source": [
        "games['age_rating'].value_counts().plot(kind = 'bar')"
      ],
      "execution_count": 40,
      "outputs": [
        {
          "output_type": "execute_result",
          "data": {
            "text/plain": [
              "<matplotlib.axes._subplots.AxesSubplot at 0x7f6d5ecf9350>"
            ]
          },
          "metadata": {
            "tags": []
          },
          "execution_count": 40
        },
        {
          "output_type": "display_data",
          "data": {
            "image/png": "[encoded data removed]",
            "text/plain": [
              "<Figure size 432x288 with 1 Axes>"
            ]
          },
          "metadata": {
            "tags": [],
            "needs_background": "light"
          }
        }
      ]
    },
    {
      "cell_type": "code",
      "metadata": {
        "colab": {
          "base_uri": "https://localhost:8080/",
          "height": 294
        },
        "id": "LHqP3gDppW6W",
        "outputId": "7d35aedf-2d8c-4499-8a6a-782d29f3d807"
      },
      "source": [
        "games['age_rating'].value_counts(normalize=True).plot(kind='bar')"
      ],
      "execution_count": 41,
      "outputs": [
        {
          "output_type": "execute_result",
          "data": {
            "text/plain": [
              "<matplotlib.axes._subplots.AxesSubplot at 0x7f6d5e69b6d0>"
            ]
          },
          "metadata": {
            "tags": []
          },
          "execution_count": 41
        },
        {
          "output_type": "display_data",
          "data": {
            "image/png": "[encoded data removed]",
            "text/plain": [
              "<Figure size 432x288 with 1 Axes>"
            ]
          },
          "metadata": {
            "tags": [],
            "needs_background": "light"
          }
        }
      ]
    },
    {
      "cell_type": "code",
      "metadata": {
        "colab": {
          "base_uri": "https://localhost:8080/",
          "height": 266
        },
        "id": "E61AwdE0phxn",
        "outputId": "2eb58625-ad62-4f93-845c-29f90075144a"
      },
      "source": [
        "games['age_rating'].value_counts().plot(kind = 'pie')"
      ],
      "execution_count": 42,
      "outputs": [
        {
          "output_type": "execute_result",
          "data": {
            "text/plain": [
              "<matplotlib.axes._subplots.AxesSubplot at 0x7f6d5e86eb10>"
            ]
          },
          "metadata": {
            "tags": []
          },
          "execution_count": 42
        },
        {
          "output_type": "display_data",
          "data": {
            "image/png": "[encoded data removed]",
            "text/plain": [
              "<Figure size 432x288 with 1 Axes>"
            ]
          },
          "metadata": {
            "tags": []
          }
        }
      ]
    },
    {
      "cell_type": "code",
      "metadata": {
        "colab": {
          "base_uri": "https://localhost:8080/"
        },
        "id": "F89VSw4_puVw",
        "outputId": "880e71bf-2986-41a3-83cd-37c192dfa885"
      },
      "source": [
        "percentages = 100*games['age_rating'].value_counts(normalize=True)\r\n",
        "for k, x in percentages.items():\r\n",
        "    print(f'{k}: {x:0.1f}%')"
      ],
      "execution_count": 43,
      "outputs": [
        {
          "output_type": "stream",
          "text": [
            "4+: 53.1%\n",
            "9+: 22.0%\n",
            "12+: 21.5%\n",
            "17+: 3.5%\n"
          ],
          "name": "stdout"
        }
      ]
    },
    {
      "cell_type": "code",
      "metadata": {
        "colab": {
          "base_uri": "https://localhost:8080/",
          "height": 297
        },
        "id": "xMHYY6KBp48w",
        "outputId": "8020d242-8dac-4ebc-df9b-3669e0243ba8"
      },
      "source": [
        "sns.scatterplot(x='size', y='average_user_rating',\\\r\n",
        "                data=games, \\\r\n",
        "                # this is for controlling the size of the points\r\n",
        "                s=20)"
      ],
      "execution_count": 44,
      "outputs": [
        {
          "output_type": "execute_result",
          "data": {
            "text/plain": [
              "<matplotlib.axes._subplots.AxesSubplot at 0x7f6d55ac69d0>"
            ]
          },
          "metadata": {
            "tags": []
          },
          "execution_count": 44
        },
        {
          "output_type": "display_data",
          "data": {
            "image/png": "[encoded data removed]",
            "text/plain": [
              "<Figure size 432x288 with 1 Axes>"
            ]
          },
          "metadata": {
            "tags": [],
            "needs_background": "light"
          }
        }
      ]
    },
    {
      "cell_type": "code",
      "metadata": {
        "id": "1bKkAXCsp_Ol"
      },
      "source": [
        "ratings_mapping = {1.5: '1_poor', 2.: '1_poor',\\\r\n",
        "                   2.5: '1_poor', 3: '1_poor',\\\r\n",
        "                   3.5: '2_fair', 4. : '2_fair',\\\r\n",
        "                   4.5: '3_good',5. : '4_excellent'}\r\n",
        "games['cat_rating'] = games['average_user_rating']\\\r\n",
        "                      .map(ratings_mapping)"
      ],
      "execution_count": 45,
      "outputs": []
    },
    {
      "cell_type": "code",
      "metadata": {
        "colab": {
          "base_uri": "https://localhost:8080/",
          "height": 299
        },
        "id": "usqhJmI1sVZS",
        "outputId": "daa20fa4-b498-4194-bf58-b1b50d6d892b"
      },
      "source": [
        "sns.boxplot(x='cat_rating', y='size', \\\r\n",
        "            data=games[games['size'] <= 600], \\\r\n",
        "            order=['1_poor', '2_fair', '3_good', '4_excellent'])"
      ],
      "execution_count": 46,
      "outputs": [
        {
          "output_type": "execute_result",
          "data": {
            "text/plain": [
              "<matplotlib.axes._subplots.AxesSubplot at 0x7f6d5e7f5f10>"
            ]
          },
          "metadata": {
            "tags": []
          },
          "execution_count": 46
        },
        {
          "output_type": "display_data",
          "data": {
            "image/png": "[encoded data removed]",
            "text/plain": [
              "<Figure size 432x288 with 1 Axes>"
            ]
          },
          "metadata": {
            "tags": [],
            "needs_background": "light"
          }
        }
      ]
    },
    {
      "cell_type": "code",
      "metadata": {
        "colab": {
          "base_uri": "https://localhost:8080/",
          "height": 201
        },
        "id": "aiV3RyPlscMl",
        "outputId": "75f74fd6-069f-4ab4-940b-b0736ecc0429"
      },
      "source": [
        "pd.crosstab(games['age_rating'], games['cat_rating'])"
      ],
      "execution_count": 47,
      "outputs": [
        {
          "output_type": "execute_result",
          "data": {
            "text/html": [
              "<div>\n",
              "<style scoped>\n",
              "    .dataframe tbody tr th:only-of-type {\n",
              "        vertical-align: middle;\n",
              "    }\n",
              "\n",
              "    .dataframe tbody tr th {\n",
              "        vertical-align: top;\n",
              "    }\n",
              "\n",
              "    .dataframe thead th {\n",
              "        text-align: right;\n",
              "    }\n",
              "</style>\n",
              "<table border=\"1\" class=\"dataframe\">\n",
              "  <thead>\n",
              "    <tr style=\"text-align: right;\">\n",
              "      <th>cat_rating</th>\n",
              "      <th>1_poor</th>\n",
              "      <th>2_fair</th>\n",
              "      <th>3_good</th>\n",
              "      <th>4_excellent</th>\n",
              "    </tr>\n",
              "    <tr>\n",
              "      <th>age_rating</th>\n",
              "      <th></th>\n",
              "      <th></th>\n",
              "      <th></th>\n",
              "      <th></th>\n",
              "    </tr>\n",
              "  </thead>\n",
              "  <tbody>\n",
              "    <tr>\n",
              "      <th>12+</th>\n",
              "      <td>57</td>\n",
              "      <td>327</td>\n",
              "      <td>466</td>\n",
              "      <td>75</td>\n",
              "    </tr>\n",
              "    <tr>\n",
              "      <th>17+</th>\n",
              "      <td>11</td>\n",
              "      <td>59</td>\n",
              "      <td>68</td>\n",
              "      <td>13</td>\n",
              "    </tr>\n",
              "    <tr>\n",
              "      <th>4+</th>\n",
              "      <td>238</td>\n",
              "      <td>821</td>\n",
              "      <td>1029</td>\n",
              "      <td>199</td>\n",
              "    </tr>\n",
              "    <tr>\n",
              "      <th>9+</th>\n",
              "      <td>57</td>\n",
              "      <td>309</td>\n",
              "      <td>499</td>\n",
              "      <td>83</td>\n",
              "    </tr>\n",
              "  </tbody>\n",
              "</table>\n",
              "</div>"
            ],
            "text/plain": [
              "cat_rating  1_poor  2_fair  3_good  4_excellent\n",
              "age_rating                                     \n",
              "12+             57     327     466           75\n",
              "17+             11      59      68           13\n",
              "4+             238     821    1029          199\n",
              "9+              57     309     499           83"
            ]
          },
          "metadata": {
            "tags": []
          },
          "execution_count": 47
        }
      ]
    },
    {
      "cell_type": "code",
      "metadata": {
        "colab": {
          "base_uri": "https://localhost:8080/",
          "height": 201
        },
        "id": "PyeNwXqgtYV9",
        "outputId": "bbd52f4f-16e9-4952-e924-fb2fa71de0df"
      },
      "source": [
        "100*pd.crosstab(games['age_rating'],\\\r\n",
        "                games['cat_rating'], \\\r\n",
        "                normalize='index')"
      ],
      "execution_count": 48,
      "outputs": [
        {
          "output_type": "execute_result",
          "data": {
            "text/html": [
              "<div>\n",
              "<style scoped>\n",
              "    .dataframe tbody tr th:only-of-type {\n",
              "        vertical-align: middle;\n",
              "    }\n",
              "\n",
              "    .dataframe tbody tr th {\n",
              "        vertical-align: top;\n",
              "    }\n",
              "\n",
              "    .dataframe thead th {\n",
              "        text-align: right;\n",
              "    }\n",
              "</style>\n",
              "<table border=\"1\" class=\"dataframe\">\n",
              "  <thead>\n",
              "    <tr style=\"text-align: right;\">\n",
              "      <th>cat_rating</th>\n",
              "      <th>1_poor</th>\n",
              "      <th>2_fair</th>\n",
              "      <th>3_good</th>\n",
              "      <th>4_excellent</th>\n",
              "    </tr>\n",
              "    <tr>\n",
              "      <th>age_rating</th>\n",
              "      <th></th>\n",
              "      <th></th>\n",
              "      <th></th>\n",
              "      <th></th>\n",
              "    </tr>\n",
              "  </thead>\n",
              "  <tbody>\n",
              "    <tr>\n",
              "      <th>12+</th>\n",
              "      <td>6.162162</td>\n",
              "      <td>35.351351</td>\n",
              "      <td>50.378378</td>\n",
              "      <td>8.108108</td>\n",
              "    </tr>\n",
              "    <tr>\n",
              "      <th>17+</th>\n",
              "      <td>7.284768</td>\n",
              "      <td>39.072848</td>\n",
              "      <td>45.033113</td>\n",
              "      <td>8.609272</td>\n",
              "    </tr>\n",
              "    <tr>\n",
              "      <th>4+</th>\n",
              "      <td>10.406646</td>\n",
              "      <td>35.898557</td>\n",
              "      <td>44.993441</td>\n",
              "      <td>8.701355</td>\n",
              "    </tr>\n",
              "    <tr>\n",
              "      <th>9+</th>\n",
              "      <td>6.012658</td>\n",
              "      <td>32.594937</td>\n",
              "      <td>52.637131</td>\n",
              "      <td>8.755274</td>\n",
              "    </tr>\n",
              "  </tbody>\n",
              "</table>\n",
              "</div>"
            ],
            "text/plain": [
              "cat_rating     1_poor     2_fair     3_good  4_excellent\n",
              "age_rating                                              \n",
              "12+          6.162162  35.351351  50.378378     8.108108\n",
              "17+          7.284768  39.072848  45.033113     8.609272\n",
              "4+          10.406646  35.898557  44.993441     8.701355\n",
              "9+           6.012658  32.594937  52.637131     8.755274"
            ]
          },
          "metadata": {
            "tags": []
          },
          "execution_count": 48
        }
      ]
    },
    {
      "cell_type": "code",
      "metadata": {
        "colab": {
          "base_uri": "https://localhost:8080/"
        },
        "id": "wz2f805AtzCs",
        "outputId": "03bb3315-14ed-4df1-a7ab-29d7b236f9ac"
      },
      "source": [
        "games['price'].unique()"
      ],
      "execution_count": 49,
      "outputs": [
        {
          "output_type": "execute_result",
          "data": {
            "text/plain": [
              "array([  2.99,   1.99,   0.  ,   0.99,   5.99,   7.99,   4.99,   3.99,\n",
              "         9.99,  19.99,   6.99,  11.99,   8.99, 139.99,  14.99,  59.99])"
            ]
          },
          "metadata": {
            "tags": []
          },
          "execution_count": 49
        }
      ]
    },
    {
      "cell_type": "code",
      "metadata": {
        "id": "nCTiMevSuzAm"
      },
      "source": [
        "games['price'] = games['price'].round()"
      ],
      "execution_count": 50,
      "outputs": []
    },
    {
      "cell_type": "code",
      "metadata": {
        "colab": {
          "base_uri": "https://localhost:8080/",
          "height": 303
        },
        "id": "6U0m13eSu13F",
        "outputId": "9ae1f405-7300-4b62-e834-c9dff5c68ac1"
      },
      "source": [
        "games['price'].value_counts().sort_index().plot(kind='bar')"
      ],
      "execution_count": 51,
      "outputs": [
        {
          "output_type": "execute_result",
          "data": {
            "text/plain": [
              "<matplotlib.axes._subplots.AxesSubplot at 0x7f6d55a4edd0>"
            ]
          },
          "metadata": {
            "tags": []
          },
          "execution_count": 51
        },
        {
          "output_type": "display_data",
          "data": {
            "image/png": "[encoded data removed]",
            "text/plain": [
              "<Figure size 432x288 with 1 Axes>"
            ]
          },
          "metadata": {
            "tags": [],
            "needs_background": "light"
          }
        }
      ]
    },
    {
      "cell_type": "code",
      "metadata": {
        "id": "19FE-h7Wu45H"
      },
      "source": [
        "games['cat_price'] = (games['price'] == 0).astype(int)\\\r\n",
        "                      .map({0:'paid', 1:'free'})"
      ],
      "execution_count": 52,
      "outputs": []
    },
    {
      "cell_type": "code",
      "metadata": {
        "colab": {
          "base_uri": "https://localhost:8080/",
          "height": 298
        },
        "id": "qkKNaq0vvD8M",
        "outputId": "a19d0745-2be9-4b70-faf3-cfe7bf62a072"
      },
      "source": [
        "sns.boxplot(x='cat_price', y='average_user_rating', \\\r\n",
        "            data=games)"
      ],
      "execution_count": 53,
      "outputs": [
        {
          "output_type": "execute_result",
          "data": {
            "text/plain": [
              "<matplotlib.axes._subplots.AxesSubplot at 0x7f6d55935fd0>"
            ]
          },
          "metadata": {
            "tags": []
          },
          "execution_count": 53
        },
        {
          "output_type": "display_data",
          "data": {
            "image/png": "[encoded data removed]",
            "text/plain": [
              "<Figure size 432x288 with 1 Axes>"
            ]
          },
          "metadata": {
            "tags": [],
            "needs_background": "light"
          }
        }
      ]
    },
    {
      "cell_type": "code",
      "metadata": {
        "id": "OPt8E48vx-jL"
      },
      "source": [
        "games['languages'] = games['languages'].fillna('EN')"
      ],
      "execution_count": 63,
      "outputs": []
    },
    {
      "cell_type": "code",
      "metadata": {
        "id": "thERWElJvG6d"
      },
      "source": [
        "number_of_languages = games['languages'].str.split(',').apply(lambda x: len(x))\r\n",
        "games['multilingual'] = number_of_languages == 1\r\n",
        "games['multilingual'] = games['multilingual'].astype(int).map({0:'multilingual', 1:'monolingual'})"
      ],
      "execution_count": 64,
      "outputs": []
    },
    {
      "cell_type": "code",
      "metadata": {
        "id": "PR8MarvLyRp3"
      },
      "source": [
        "games['free_game'] = (games['price'] == 0).astype(int).map({0:'paid', 1:'free'})"
      ],
      "execution_count": 66,
      "outputs": []
    },
    {
      "cell_type": "code",
      "metadata": {
        "id": "Gn-KaChDv5m1"
      },
      "source": [
        "games['price_language'] = games['free_game'] + '-' + games['multilingual']"
      ],
      "execution_count": 67,
      "outputs": []
    },
    {
      "cell_type": "code",
      "metadata": {
        "colab": {
          "base_uri": "https://localhost:8080/"
        },
        "id": "2y5E0QJ-wtKp",
        "outputId": "42981da4-a531-43b9-9489-5988f6d4d794"
      },
      "source": [
        "games['price_language'].value_counts()"
      ],
      "execution_count": 68,
      "outputs": [
        {
          "output_type": "execute_result",
          "data": {
            "text/plain": [
              "free-monolingual     2105\n",
              "free-multilingual    1439\n",
              "paid-monolingual      467\n",
              "paid-multilingual     300\n",
              "Name: price_language, dtype: int64"
            ]
          },
          "metadata": {
            "tags": []
          },
          "execution_count": 68
        }
      ]
    },
    {
      "cell_type": "code",
      "metadata": {
        "colab": {
          "base_uri": "https://localhost:8080/",
          "height": 201
        },
        "id": "RE7EuJC-yYC8",
        "outputId": "e67aa850-b09f-456b-c5d4-320215150b70"
      },
      "source": [
        "games.groupby('price_language')['average_user_rating'].describe()"
      ],
      "execution_count": 69,
      "outputs": [
        {
          "output_type": "execute_result",
          "data": {
            "text/html": [
              "<div>\n",
              "<style scoped>\n",
              "    .dataframe tbody tr th:only-of-type {\n",
              "        vertical-align: middle;\n",
              "    }\n",
              "\n",
              "    .dataframe tbody tr th {\n",
              "        vertical-align: top;\n",
              "    }\n",
              "\n",
              "    .dataframe thead th {\n",
              "        text-align: right;\n",
              "    }\n",
              "</style>\n",
              "<table border=\"1\" class=\"dataframe\">\n",
              "  <thead>\n",
              "    <tr style=\"text-align: right;\">\n",
              "      <th></th>\n",
              "      <th>count</th>\n",
              "      <th>mean</th>\n",
              "      <th>std</th>\n",
              "      <th>min</th>\n",
              "      <th>25%</th>\n",
              "      <th>50%</th>\n",
              "      <th>75%</th>\n",
              "      <th>max</th>\n",
              "    </tr>\n",
              "    <tr>\n",
              "      <th>price_language</th>\n",
              "      <th></th>\n",
              "      <th></th>\n",
              "      <th></th>\n",
              "      <th></th>\n",
              "      <th></th>\n",
              "      <th></th>\n",
              "      <th></th>\n",
              "      <th></th>\n",
              "    </tr>\n",
              "  </thead>\n",
              "  <tbody>\n",
              "    <tr>\n",
              "      <th>free-monolingual</th>\n",
              "      <td>2105.0</td>\n",
              "      <td>4.129216</td>\n",
              "      <td>0.634426</td>\n",
              "      <td>1.5</td>\n",
              "      <td>4.0</td>\n",
              "      <td>4.5</td>\n",
              "      <td>4.5</td>\n",
              "      <td>5.0</td>\n",
              "    </tr>\n",
              "    <tr>\n",
              "      <th>free-multilingual</th>\n",
              "      <td>1439.0</td>\n",
              "      <td>4.227589</td>\n",
              "      <td>0.525904</td>\n",
              "      <td>1.5</td>\n",
              "      <td>4.0</td>\n",
              "      <td>4.5</td>\n",
              "      <td>4.5</td>\n",
              "      <td>5.0</td>\n",
              "    </tr>\n",
              "    <tr>\n",
              "      <th>paid-monolingual</th>\n",
              "      <td>467.0</td>\n",
              "      <td>4.064240</td>\n",
              "      <td>0.657693</td>\n",
              "      <td>1.5</td>\n",
              "      <td>3.5</td>\n",
              "      <td>4.0</td>\n",
              "      <td>4.5</td>\n",
              "      <td>5.0</td>\n",
              "    </tr>\n",
              "    <tr>\n",
              "      <th>paid-multilingual</th>\n",
              "      <td>300.0</td>\n",
              "      <td>4.251667</td>\n",
              "      <td>0.486435</td>\n",
              "      <td>2.5</td>\n",
              "      <td>4.0</td>\n",
              "      <td>4.5</td>\n",
              "      <td>4.5</td>\n",
              "      <td>5.0</td>\n",
              "    </tr>\n",
              "  </tbody>\n",
              "</table>\n",
              "</div>"
            ],
            "text/plain": [
              "                    count      mean       std  min  25%  50%  75%  max\n",
              "price_language                                                        \n",
              "free-monolingual   2105.0  4.129216  0.634426  1.5  4.0  4.5  4.5  5.0\n",
              "free-multilingual  1439.0  4.227589  0.525904  1.5  4.0  4.5  4.5  5.0\n",
              "paid-monolingual    467.0  4.064240  0.657693  1.5  3.5  4.0  4.5  5.0\n",
              "paid-multilingual   300.0  4.251667  0.486435  2.5  4.0  4.5  4.5  5.0"
            ]
          },
          "metadata": {
            "tags": []
          },
          "execution_count": 69
        }
      ]
    }
  ]
}