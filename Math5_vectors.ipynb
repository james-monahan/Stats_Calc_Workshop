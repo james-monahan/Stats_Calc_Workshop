{
  "nbformat": 4,
  "nbformat_minor": 0,
  "metadata": {
    "colab": {
      "name": "Math5_vectors.ipynb",
      "provenance": [],
      "collapsed_sections": [],
      "authorship_tag": "ABX9TyPJGFuxU0esJHdNzuM+CbY6",
      "include_colab_link": true
    },
    "kernelspec": {
      "name": "python3",
      "display_name": "Python 3"
    }
  },
  "cells": [
    {
      "cell_type": "markdown",
      "metadata": {
        "id": "view-in-github",
        "colab_type": "text"
      },
      "source": [
        "<a href=\"https://colab.research.google.com/github/james-monahan/Stats_Calc_Workshop/blob/main/Math5_vectors.ipynb\" target=\"_parent\"><img src=\"https://colab.research.google.com/assets/colab-badge.svg\" alt=\"Open In Colab\"/></a>"
      ]
    },
    {
      "cell_type": "code",
      "metadata": {
        "id": "SdbyRmicTk1U"
      },
      "source": [
        "import pandas as pd\r\n",
        "import numpy as np\r\n",
        "import matplotlib.pyplot as plt\r\n",
        "import seaborn as sns\r\n",
        "from math import acos, asin, atan, cos, pi"
      ],
      "execution_count": 1,
      "outputs": []
    },
    {
      "cell_type": "markdown",
      "metadata": {
        "id": "bubFQBdk6R4j"
      },
      "source": [
        "#Vectors"
      ]
    },
    {
      "cell_type": "code",
      "metadata": {
        "id": "-ioslS3J2XqK"
      },
      "source": [
        "A = np.array([1,2,3]) # create vector A\r\n",
        "B = np.array([4,5,6]) # create vector B"
      ],
      "execution_count": 2,
      "outputs": []
    },
    {
      "cell_type": "code",
      "metadata": {
        "colab": {
          "base_uri": "https://localhost:8080/"
        },
        "id": "A1k2fUYTMDdU",
        "outputId": "01ec2fda-2d82-4eac-c08c-28450ed04e05"
      },
      "source": [
        "A + B"
      ],
      "execution_count": 3,
      "outputs": [
        {
          "output_type": "execute_result",
          "data": {
            "text/plain": [
              "array([5, 7, 9])"
            ]
          },
          "metadata": {
            "tags": []
          },
          "execution_count": 3
        }
      ]
    },
    {
      "cell_type": "code",
      "metadata": {
        "colab": {
          "base_uri": "https://localhost:8080/"
        },
        "id": "u0O3JESgMJ7D",
        "outputId": "1910d5ce-19ba-43c5-bc52-fda899849c18"
      },
      "source": [
        "#element-wise product\r\n",
        "A*B"
      ],
      "execution_count": 4,
      "outputs": [
        {
          "output_type": "execute_result",
          "data": {
            "text/plain": [
              "array([ 4, 10, 18])"
            ]
          },
          "metadata": {
            "tags": []
          },
          "execution_count": 4
        }
      ]
    },
    {
      "cell_type": "code",
      "metadata": {
        "colab": {
          "base_uri": "https://localhost:8080/"
        },
        "id": "zrIF1zyRMO5e",
        "outputId": "68fc793a-ff3b-441a-caa1-6716e4ba7634"
      },
      "source": [
        "#dot product\r\n",
        "A@B"
      ],
      "execution_count": 5,
      "outputs": [
        {
          "output_type": "execute_result",
          "data": {
            "text/plain": [
              "32"
            ]
          },
          "metadata": {
            "tags": []
          },
          "execution_count": 5
        }
      ]
    },
    {
      "cell_type": "code",
      "metadata": {
        "colab": {
          "base_uri": "https://localhost:8080/"
        },
        "id": "3vhQyx0vMYtU",
        "outputId": "27fb8f28-411d-4e8e-ddef-217e456c0f48"
      },
      "source": [
        "#cross product (not commutative)\r\n",
        "print(np.cross(A,B))\r\n",
        "print(np.cross(B,A))"
      ],
      "execution_count": 6,
      "outputs": [
        {
          "output_type": "stream",
          "text": [
            "[-3  6 -3]\n",
            "[ 3 -6  3]\n"
          ],
          "name": "stdout"
        }
      ]
    },
    {
      "cell_type": "code",
      "metadata": {
        "id": "tWkdvQpyMiz8"
      },
      "source": [
        "# A.B = |A| |B| cos(θ)\r\n",
        "\r\n",
        "A = np.array([2,10,0])\r\n",
        "B = np.array([9,1,-1])\r\n",
        "\r\n",
        "#find norm(magnitude)\r\n",
        "Amagn = np.sqrt(A.dot(A)) #np.linalg.norm(A)\r\n",
        "Bmagn = np.sqrt(B.dot(B))"
      ],
      "execution_count": 7,
      "outputs": []
    },
    {
      "cell_type": "code",
      "metadata": {
        "colab": {
          "base_uri": "https://localhost:8080/"
        },
        "id": "VEoGMvhhOe1G",
        "outputId": "383b7170-6627-4180-81ab-ae6acec5cef5"
      },
      "source": [
        "#θ is the angle between A and B\r\n",
        "#θ = arccos(A.B / |A||B|)\r\n",
        "theta = acos(A.dot(B) / (Amagn * Bmagn))\r\n",
        "print(theta)"
      ],
      "execution_count": 8,
      "outputs": [
        {
          "output_type": "stream",
          "text": [
            "1.2646655256233297\n"
          ],
          "name": "stdout"
        }
      ]
    },
    {
      "cell_type": "markdown",
      "metadata": {
        "id": "YbROkucCcNg8"
      },
      "source": [
        "#Plot Vectors"
      ]
    },
    {
      "cell_type": "code",
      "metadata": {
        "id": "OCvVL5u9Oj96"
      },
      "source": [
        "def plot_vectors(vec1, vec2, isSum = False):\r\n",
        "    \r\n",
        "    label1 = \"A\"; label2 = \"B\"; label3 = \"A+B\"\r\n",
        "    orig = [0.0, 0.0]  # position of origin of axes\r\n",
        "\r\n",
        "    ax = plt.axes()\r\n",
        "    ax.annotate(label1, [vec1[0]+0.5,vec1[1]+0.5] )   \r\n",
        "    # shift position of label for better visibility\r\n",
        "    ax.annotate(label2, [vec2[0]+0.5,vec2[1]+0.5] )\r\n",
        "    if isSum: \r\n",
        "        vec3 = [vec1[0]+vec2[0], vec1[1]+vec2[1]]     \r\n",
        "        # if isSum=True calculate the sum of the two vectors\r\n",
        "        ax.annotate(label3, [vec3[0]+0.5,vec3[1]+0.5] )\r\n",
        "    \r\n",
        "    ax.arrow(*orig, *vec1, head_width=0.4, head_length=0.65)\r\n",
        "    ax.arrow(*orig, *vec2, head_width=0.4, head_length=0.65, \\\r\n",
        "             ec='blue')\r\n",
        "    if isSum:\r\n",
        "        ax.arrow(*orig, *vec3, head_width=0.2, \\\r\n",
        "                 head_length=0.25, ec='yellow')\r\n",
        "        # plot the vector sum as well\r\n",
        "        \r\n",
        "    plt.grid()\r\n",
        "    e=3 \r\n",
        "    # shift limits by e for better visibility\r\n",
        "    plt.xlim(min(vec1[0],vec2[0],0)-e, max(vec1[0],\\\r\n",
        "                 vec2[0],0)+e) \r\n",
        "    # set plot limits to the min/max of coordinates\r\n",
        "    plt.ylim(min(vec1[1],vec2[1],0)-e, max(vec1[1],\\\r\n",
        "                 vec2[1],0)+e) \r\n",
        "    # so that all vectors are inside the plot area\r\n",
        "\r\n",
        "    plt.title('Vector sum',fontsize=14)\r\n",
        "    plt.show()\r\n",
        "    plt.close()"
      ],
      "execution_count": 10,
      "outputs": []
    },
    {
      "cell_type": "code",
      "metadata": {
        "id": "N3yxF8h9cAfs"
      },
      "source": [
        "def find_angle(vec1, vec2, isRadians = True, isSum = False):\r\n",
        "    vec1 = np.array(vec1)\r\n",
        "    vec2 = np.array(vec2)\r\n",
        "    \r\n",
        "    product12 = np.dot(vec1,vec2)\r\n",
        "    cos_theta = product12/(np.dot(vec1,vec1)**0.5 * \\\r\n",
        "                           np.dot(vec2,vec2)**0.5 )\r\n",
        "    cos_theta = round(cos_theta, 12)\r\n",
        "    theta = np.arccos(cos_theta)\r\n",
        "    \r\n",
        "    plot_vectors(vec1, vec2, isSum=isSum)\r\n",
        "    if isRadians:\r\n",
        "        return theta\r\n",
        "    else:\r\n",
        "        return 180*theta/np.pi"
      ],
      "execution_count": 12,
      "outputs": []
    },
    {
      "cell_type": "code",
      "metadata": {
        "colab": {
          "base_uri": "https://localhost:8080/",
          "height": 300
        },
        "id": "j2a_tbUbcAcf",
        "outputId": "bb65e99f-2d11-4f60-917d-b61239cf81b2"
      },
      "source": [
        "ve1 = [1,5]\r\n",
        "ve2 = [5,-1]\r\n",
        "find_angle(ve1, ve2, isRadians = False, isSum = True)"
      ],
      "execution_count": 13,
      "outputs": [
        {
          "output_type": "display_data",
          "data": {
            "image/png": "[encoded data removed]",
            "text/plain": [
              "<Figure size 432x288 with 1 Axes>"
            ]
          },
          "metadata": {
            "tags": [],
            "needs_background": "light"
          }
        },
        {
          "output_type": "execute_result",
          "data": {
            "text/plain": [
              "90.0"
            ]
          },
          "metadata": {
            "tags": []
          },
          "execution_count": 13
        }
      ]
    },
    {
      "cell_type": "code",
      "metadata": {
        "colab": {
          "base_uri": "https://localhost:8080/",
          "height": 300
        },
        "id": "mAgoXvbwcAZa",
        "outputId": "64fb8935-bd64-4781-bac9-8a6f6f50b43c"
      },
      "source": [
        "ve1 = [1,5]\r\n",
        "ve2 = [0.5,2.5]\r\n",
        "find_angle(ve1, ve2, isRadians = False, isSum = True)"
      ],
      "execution_count": 14,
      "outputs": [
        {
          "output_type": "display_data",
          "data": {
            "image/png": "[encoded data removed]",
            "text/plain": [
              "<Figure size 432x288 with 1 Axes>"
            ]
          },
          "metadata": {
            "tags": [],
            "needs_background": "light"
          }
        },
        {
          "output_type": "execute_result",
          "data": {
            "text/plain": [
              "0.0"
            ]
          },
          "metadata": {
            "tags": []
          },
          "execution_count": 14
        }
      ]
    },
    {
      "cell_type": "code",
      "metadata": {
        "colab": {
          "base_uri": "https://localhost:8080/",
          "height": 300
        },
        "id": "JYWWpudejjk5",
        "outputId": "6914cb4f-bffe-4f23-8ec0-17609bc055c2"
      },
      "source": [
        "ve1 = [1,5]\r\n",
        "ve2 = [-3,-5]\r\n",
        "find_angle(ve1, ve2, isRadians = False, isSum = True)"
      ],
      "execution_count": 15,
      "outputs": [
        {
          "output_type": "display_data",
          "data": {
            "image/png": "[encoded data removed]",
            "text/plain": [
              "<Figure size 432x288 with 1 Axes>"
            ]
          },
          "metadata": {
            "tags": [],
            "needs_background": "light"
          }
        },
        {
          "output_type": "execute_result",
          "data": {
            "text/plain": [
              "160.3461759419744"
            ]
          },
          "metadata": {
            "tags": []
          },
          "execution_count": 15
        }
      ]
    }
  ]
}