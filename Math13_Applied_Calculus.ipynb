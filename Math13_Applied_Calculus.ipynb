{
  "nbformat": 4,
  "nbformat_minor": 0,
  "metadata": {
    "colab": {
      "name": "Math13_Applied_Calculus.ipynb",
      "provenance": [],
      "collapsed_sections": [],
      "authorship_tag": "ABX9TyOX3W1FJ7Yto8CZYscKiPhP",
      "include_colab_link": true
    },
    "kernelspec": {
      "name": "python3",
      "display_name": "Python 3"
    }
  },
  "cells": [
    {
      "cell_type": "markdown",
      "metadata": {
        "id": "view-in-github",
        "colab_type": "text"
      },
      "source": [
        "<a href=\"https://colab.research.google.com/github/james-monahan/Stats_Calc_Workshop/blob/main/Math13_Applied_Calculus.ipynb\" target=\"_parent\"><img src=\"https://colab.research.google.com/assets/colab-badge.svg\" alt=\"Open In Colab\"/></a>"
      ]
    },
    {
      "cell_type": "code",
      "metadata": {
        "id": "SdbyRmicTk1U"
      },
      "source": [
        "import pandas as pd\n",
        "import numpy as np\n",
        "import matplotlib.pyplot as plt\n",
        "import seaborn as sns"
      ],
      "execution_count": 1,
      "outputs": []
    },
    {
      "cell_type": "markdown",
      "metadata": {
        "id": "MKf8zb3NLEwf"
      },
      "source": [
        "#Using Derivatives\n",
        "---\n",
        "\n"
      ]
    },
    {
      "cell_type": "code",
      "metadata": {
        "id": "ajdZt-RifMdC"
      },
      "source": [
        "def derivative(f,x):\n",
        "    \"\"\"\n",
        "    Returns the value of the derivative of\n",
        "    the function at a given x-value.\n",
        "    \"\"\"\n",
        "    delta_x = 1/1000000\n",
        "    return (f(x+delta_x) - f(x))/delta_x"
      ],
      "execution_count": 2,
      "outputs": []
    },
    {
      "cell_type": "code",
      "metadata": {
        "id": "UCQo6EyHd94B"
      },
      "source": [
        "def f(x):\n",
        "    return x**3-2.8*x**2+1.2*x+0.85"
      ],
      "execution_count": 3,
      "outputs": []
    },
    {
      "cell_type": "code",
      "metadata": {
        "id": "iyrm7LkpfVvW"
      },
      "source": [
        "def find_max_mins(f,start,stop,step=0.001):\n",
        "    x = start\n",
        "    deriv = derivative(f,x)\n",
        "    while x < stop:\n",
        "        x += step\n",
        "        #take derivative at new x:\n",
        "        newderiv = derivative(f,x)\n",
        "        #if derivative changes sign\n",
        "        if newderiv == 0 or deriv*newderiv < 0:\n",
        "            print(\"Max/Min at x=\",x,\"y=\",f(x))\n",
        "            #change deriv to newderiv\n",
        "            deriv = newderiv"
      ],
      "execution_count": 4,
      "outputs": []
    },
    {
      "cell_type": "code",
      "metadata": {
        "colab": {
          "base_uri": "https://localhost:8080/"
        },
        "id": "HDZ9E9YRfoKq",
        "outputId": "8ba2d9fd-5981-4992-8ad2-e0a3d5d2b0aa"
      },
      "source": [
        "find_max_mins(f,-100,100)"
      ],
      "execution_count": 5,
      "outputs": [
        {
          "output_type": "stream",
          "text": [
            "Max/Min at x= 0.247000000113438 y= 0.9906440229999803\n",
            "Max/Min at x= 1.6200000001133703 y= -0.3027919999998646\n"
          ],
          "name": "stdout"
        }
      ]
    },
    {
      "cell_type": "markdown",
      "metadata": {
        "id": "SSkNQg-tp6qC"
      },
      "source": [
        "#Find Quickest Route  \n",
        "####A lighthouse is located 6 kilometers offshore, and a cabin on the straight shoreline is 9 kilometers from the point on the shore nearest the lighthouse. If you row at a rate of 3 km/hr and walk at a rate of 5 km/hr, where should you land your boat in order to get from the lighthouse to the cabin as quickly as possible?"
      ]
    },
    {
      "cell_type": "code",
      "metadata": {
        "id": "cMwIWnZcionF",
        "colab": {
          "base_uri": "https://localhost:8080/"
        },
        "outputId": "7d0cfd28-ac9f-4f42-d613-7bb6270c2350"
      },
      "source": [
        "from math import sqrt\n",
        "def t(x):\n",
        "    #hypotenuse over rate, total distance - hypo covered, divide by rate for distance\n",
        "    return sqrt(x**2+36)/3 + (9-x)/5\n",
        "    \n",
        "find_max_mins(t,0,9)"
      ],
      "execution_count": 6,
      "outputs": [
        {
          "output_type": "stream",
          "text": [
            "Max/Min at x= 4.4999999999998375 y= 3.4000000000000004\n"
          ],
          "name": "stdout"
        }
      ]
    },
    {
      "cell_type": "markdown",
      "metadata": {
        "id": "KydVz-GiroBh"
      },
      "source": [
        "#Box Problem  \n",
        "####Find the size of the square to cut out in order to maximize the volume of the resulting box.  \n",
        "The piece of material is 10 inches by 12 inches"
      ]
    },
    {
      "cell_type": "code",
      "metadata": {
        "id": "XyPcv0ujiolM"
      },
      "source": [
        "def v(x):\n",
        "    return x*(10-2*x)*(12-2*x)"
      ],
      "execution_count": 9,
      "outputs": []
    },
    {
      "cell_type": "code",
      "metadata": {
        "colab": {
          "base_uri": "https://localhost:8080/"
        },
        "id": "v76yZI9br2d4",
        "outputId": "caed40b2-d4fe-4551-d44e-7288931c72a6"
      },
      "source": [
        "find_max_mins(v,0,5)"
      ],
      "execution_count": 15,
      "outputs": [
        {
          "output_type": "stream",
          "text": [
            "Max/Min at x= 1.8109999999999113 y= 96.77057492400002\n"
          ],
          "name": "stdout"
        }
      ]
    },
    {
      "cell_type": "code",
      "metadata": {
        "colab": {
          "base_uri": "https://localhost:8080/",
          "height": 284
        },
        "id": "3x4OQNk8xVak",
        "outputId": "283b30ab-2ec8-4094-aaef-321d3d5bf4bf"
      },
      "source": [
        "l = [val/10 for val in range(0,50)]\n",
        "vol = [v(val) for val in l]\n",
        "plt.plot(l, vol)"
      ],
      "execution_count": 36,
      "outputs": [
        {
          "output_type": "execute_result",
          "data": {
            "text/plain": [
              "[<matplotlib.lines.Line2D at 0x7f2bdb4d3610>]"
            ]
          },
          "metadata": {
            "tags": []
          },
          "execution_count": 36
        },
        {
          "output_type": "display_data",
          "data": {
            "image/png": "[encoded data removed]",
            "text/plain": [
              "<Figure size 432x288 with 1 Axes>"
            ]
          },
          "metadata": {
            "tags": [],
            "needs_background": "light"
          }
        }
      ]
    },
    {
      "cell_type": "markdown",
      "metadata": {
        "id": "LVgwbnZmzWU7"
      },
      "source": [
        "#Optimal Can     \n",
        "####A cylindrical can hold 355 cm3 of soda. What dimensions (radius and height) will minimize the cost of metal to construct the can?"
      ]
    },
    {
      "cell_type": "code",
      "metadata": {
        "colab": {
          "base_uri": "https://localhost:8080/"
        },
        "id": "NIcG325nyOls",
        "outputId": "6aa3bbfd-9e34-4024-d02e-31b1c3bb25b0"
      },
      "source": [
        "from math import pi\n",
        "def surf_area(r):\n",
        "    return pi*r**2 + 710/r\n",
        "\n",
        "    \n",
        "find_max_mins(surf_area,0.1,10)"
      ],
      "execution_count": 37,
      "outputs": [
        {
          "output_type": "stream",
          "text": [
            "Max/Min at x= 4.834999999999949 y= 220.28763352297025\n"
          ],
          "name": "stdout"
        }
      ]
    },
    {
      "cell_type": "markdown",
      "metadata": {
        "id": "vIrs7S8E1WW7"
      },
      "source": [
        "#Calculating the Distance between Two Moving Ships  \n",
        "####At noon, ship A is 20 km north of ship B. If ship A sails south at 6 km/hr and ship B sails east at 8 km/hr, find the time at which the distance between the two ships is smallest."
      ]
    },
    {
      "cell_type": "code",
      "metadata": {
        "id": "9PfZ8UpyywpS"
      },
      "source": [
        "from math import sqrt\n",
        "def d(t):\n",
        "    return sqrt((20-6*t)**2+(8*t)**2)"
      ],
      "execution_count": 38,
      "outputs": []
    },
    {
      "cell_type": "code",
      "metadata": {
        "colab": {
          "base_uri": "https://localhost:8080/"
        },
        "id": "ZgOZt_hC2vCy",
        "outputId": "ba6c5142-767e-4d78-e8c6-875c078dfa62"
      },
      "source": [
        "find_max_mins(d,0,4)"
      ],
      "execution_count": 41,
      "outputs": [
        {
          "output_type": "stream",
          "text": [
            "Max/Min at x= 1.1999999999999786 y= 16.0\n"
          ],
          "name": "stdout"
        }
      ]
    },
    {
      "cell_type": "code",
      "metadata": {
        "colab": {
          "base_uri": "https://localhost:8080/",
          "height": 283
        },
        "id": "9ttcNOJo22cv",
        "outputId": "6d46e5b2-ef24-4128-daad-f5afe2548489"
      },
      "source": [
        "time = [val/10 for val in range(0,50)]\n",
        "dist = [d(val) for val in time]\n",
        "plt.plot(time, dist)"
      ],
      "execution_count": 44,
      "outputs": [
        {
          "output_type": "execute_result",
          "data": {
            "text/plain": [
              "[<matplotlib.lines.Line2D at 0x7f2bdb38e9d0>]"
            ]
          },
          "metadata": {
            "tags": []
          },
          "execution_count": 44
        },
        {
          "output_type": "display_data",
          "data": {
            "image/png": "[encoded data removed]",
            "text/plain": [
              "<Figure size 432x288 with 1 Axes>"
            ]
          },
          "metadata": {
            "tags": [],
            "needs_background": "light"
          }
        }
      ]
    },
    {
      "cell_type": "markdown",
      "metadata": {
        "id": "HIXxnxh37KAY"
      },
      "source": [
        "#Maximum Circle-to-Cone Volume  \n",
        "####You start with a circle and cut out a sector of θ degrees. Then you attach points A and B in the following figure to make a cone. Find the angle to cut out which maximizes the volume of the cone"
      ]
    },
    {
      "cell_type": "code",
      "metadata": {
        "id": "RYHUay0g3MzH"
      },
      "source": [
        "from math import pi,sqrt,degrees\n",
        "def v(theta):\n",
        "    r = (2*pi - theta)/(2*pi) \n",
        "    h = sqrt(1-r**2)\n",
        "    return (1/3)*pi*r**2*h"
      ],
      "execution_count": 46,
      "outputs": []
    },
    {
      "cell_type": "code",
      "metadata": {
        "colab": {
          "base_uri": "https://localhost:8080/"
        },
        "id": "Wagxl-Qx8BQG",
        "outputId": "8068ee2c-0541-4504-870e-240eb9cafc6a"
      },
      "source": [
        "find_max_mins(v,0,6.28)"
      ],
      "execution_count": 47,
      "outputs": [
        {
          "output_type": "stream",
          "text": [
            "Max/Min at x= 1.1529999999999838 y= 0.40306652536733706\n"
          ],
          "name": "stdout"
        }
      ]
    }
  ]
}