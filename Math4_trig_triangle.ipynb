{
  "nbformat": 4,
  "nbformat_minor": 0,
  "metadata": {
    "colab": {
      "name": "Math4_trig_triangle.ipynb",
      "provenance": [],
      "collapsed_sections": [
        "bubFQBdk6R4j",
        "uRM-mPGC_g11",
        "mW3ASiJ1RT9W",
        "xqrhmaqSMjK6"
      ],
      "authorship_tag": "ABX9TyNvIl+eeANqSLttCi/OQGOE",
      "include_colab_link": true
    },
    "kernelspec": {
      "name": "python3",
      "display_name": "Python 3"
    }
  },
  "cells": [
    {
      "cell_type": "markdown",
      "metadata": {
        "id": "view-in-github",
        "colab_type": "text"
      },
      "source": [
        "<a href=\"https://colab.research.google.com/github/james-monahan/Stats_Calc_Workshop/blob/main/Math4_trig_triangle.ipynb\" target=\"_parent\"><img src=\"https://colab.research.google.com/assets/colab-badge.svg\" alt=\"Open In Colab\"/></a>"
      ]
    },
    {
      "cell_type": "code",
      "metadata": {
        "id": "SdbyRmicTk1U"
      },
      "source": [
        "import pandas as pd\r\n",
        "import numpy as np\r\n",
        "import matplotlib.pyplot as plt\r\n",
        "import seaborn as sns\r\n",
        "from math import acos, asin, atan, cos, pi\r\n"
      ],
      "execution_count": 14,
      "outputs": []
    },
    {
      "cell_type": "markdown",
      "metadata": {
        "id": "bubFQBdk6R4j"
      },
      "source": [
        "##R-angle Triangle"
      ]
    },
    {
      "cell_type": "code",
      "metadata": {
        "id": "-ioslS3J2XqK"
      },
      "source": [
        "def find_hypotenuse(p1, p2):\r\n",
        "    p3 = round( (p1**2 + p2**2)**0.5, 8)\r\n",
        "    return p3"
      ],
      "execution_count": 2,
      "outputs": []
    },
    {
      "cell_type": "code",
      "metadata": {
        "id": "Ks9GMcUw27UQ"
      },
      "source": [
        "def find_trig(adjacent, opposite, hypotenuse):\r\n",
        "  #sin, cos, tan\r\n",
        "  return opposite/hypotenuse, adjacent/hypotenuse, opposite/adjacent"
      ],
      "execution_count": 3,
      "outputs": []
    },
    {
      "cell_type": "code",
      "metadata": {
        "id": "K4CYkHHg27to"
      },
      "source": [
        "def plot_triangle(p1, p2, lw=5):\r\n",
        "    x = [0, p1, 0]\r\n",
        "    y = [0, 0, p2]\r\n",
        "    n = ['0', 'p1', 'p2']\r\n",
        "    fig, ax = plt.subplots(figsize=(p1,p2))\r\n",
        "    # plot points\r\n",
        "    ax.scatter(x, y, s=400, c=\"#8C4799\", alpha=0.4)\r\n",
        "    ax.annotate(find_hypotenuse(p1,p2),(p1/2,p2/2))\r\n",
        "    \r\n",
        "    # plot edges\r\n",
        "    ax.plot([0, p1], [0, 0], lw=lw, color='r')\r\n",
        "    ax.plot([0, 0], [0, p2], lw=lw, color='b')\r\n",
        "    ax.plot([0, p1], [p2, 0], lw=lw, color='y')\r\n",
        "    for i, txt in enumerate(n):\r\n",
        "        ax.annotate(txt, (x[i], y[i]), va='center')"
      ],
      "execution_count": 4,
      "outputs": []
    },
    {
      "cell_type": "code",
      "metadata": {
        "colab": {
          "base_uri": "https://localhost:8080/",
          "height": 283
        },
        "id": "GkmEUu_mnnYH",
        "outputId": "bc6a692c-3811-41e7-b822-71574db57af7"
      },
      "source": [
        "p01 = 4\r\n",
        "p02 = 4\r\n",
        "print(find_trig(p01,p02,find_hypotenuse(p01,p02)))\r\n",
        "plot_triangle(p01,p02)"
      ],
      "execution_count": 5,
      "outputs": [
        {
          "output_type": "stream",
          "text": [
            "(0.707106781123095, 0.707106781123095, 1.0)\n"
          ],
          "name": "stdout"
        },
        {
          "output_type": "display_data",
          "data": {
            "image/png": "[encoded data removed]",
            "text/plain": [
              "<Figure size 288x288 with 1 Axes>"
            ]
          },
          "metadata": {
            "tags": [],
            "needs_background": "light"
          }
        }
      ]
    },
    {
      "cell_type": "code",
      "metadata": {
        "colab": {
          "base_uri": "https://localhost:8080/",
          "height": 265
        },
        "id": "wPO-xlm0z_-R",
        "outputId": "02d6f974-a271-42b8-9ed2-286cd3cf39c0"
      },
      "source": [
        "x = np.linspace(0, 10, 200)\r\n",
        "sin = np.sin(x)\r\n",
        "cos = np.cos(x)\r\n",
        "plt.xticks([0, np.pi/2, np.pi, 3*np.pi/2, 2*np.pi, \\\r\n",
        "            5*np.pi/2, 3*np.pi], \\\r\n",
        "           ['0','','\\u03C0','','2\\u03C0','','3\\u03C0'])\r\n",
        "plt.plot(x, sin, marker='o', label='sin')\r\n",
        "plt.plot(x, cos, marker='x', label='cos')\r\n",
        "plt.legend(loc=\"upper left\")\r\n",
        "plt.ylim(-1.1, 1.6)\r\n",
        "plt.show()"
      ],
      "execution_count": 6,
      "outputs": [
        {
          "output_type": "display_data",
          "data": {
            "image/png": "[encoded data removed]",
            "text/plain": [
              "<Figure size 432x288 with 1 Axes>"
            ]
          },
          "metadata": {
            "tags": [],
            "needs_background": "light"
          }
        }
      ]
    },
    {
      "cell_type": "markdown",
      "metadata": {
        "id": "uRM-mPGC_g11"
      },
      "source": [
        "##Inverse Trig functions"
      ]
    },
    {
      "cell_type": "code",
      "metadata": {
        "id": "y1GKRTEs3SVT",
        "colab": {
          "base_uri": "https://localhost:8080/"
        },
        "outputId": "a4d7e7e8-61fc-4427-96b7-0ffaf04db966"
      },
      "source": [
        "#trig takes angles and outputs ratio\r\n",
        "#Inv trig takes ratios and outputs angle(degree) / radians(*180/pi)\r\n",
        "x = 0.5\r\n",
        "print(acos(x))\r\n",
        "print(asin(x))\r\n",
        "print(atan(x))"
      ],
      "execution_count": 11,
      "outputs": [
        {
          "output_type": "stream",
          "text": [
            "1.0471975511965979\n",
            "0.5235987755982989\n",
            "0.4636476090008061\n"
          ],
          "name": "stdout"
        }
      ]
    },
    {
      "cell_type": "code",
      "metadata": {
        "colab": {
          "base_uri": "https://localhost:8080/"
        },
        "id": "Q64oPLBIBGRN",
        "outputId": "85a76acb-9e25-406b-d2ea-088241b865ed"
      },
      "source": [
        "print(acos(cos(0.2)))"
      ],
      "execution_count": 12,
      "outputs": [
        {
          "output_type": "stream",
          "text": [
            "0.2\n"
          ],
          "name": "stdout"
        }
      ]
    },
    {
      "cell_type": "markdown",
      "metadata": {
        "id": "mW3ASiJ1RT9W"
      },
      "source": [
        "#Find shortest path"
      ]
    },
    {
      "cell_type": "code",
      "metadata": {
        "id": "WkethwkpApHm",
        "colab": {
          "base_uri": "https://localhost:8080/"
        },
        "outputId": "bb714f3e-b8c0-4a66-df0b-cae584358133"
      },
      "source": [
        "# you have to navigate 20 km south then 33 km west \r\n",
        "# so that you arrive at the treasure.\r\n",
        "# AB = TBD shortest path\r\n",
        "AC = 33\r\n",
        "BC = 20\r\n",
        "tan_th = BC/AC\r\n",
        "print(tan_th)"
      ],
      "execution_count": 15,
      "outputs": [
        {
          "output_type": "stream",
          "text": [
            "0.6060606060606061\n"
          ],
          "name": "stdout"
        }
      ]
    },
    {
      "cell_type": "code",
      "metadata": {
        "colab": {
          "base_uri": "https://localhost:8080/"
        },
        "id": "qgFBzIj1BLzE",
        "outputId": "33b908ed-0368-4a95-aede-0dc5022de67a"
      },
      "source": [
        "# find angle and take degrees\r\n",
        "theta = atan(tan_th)\r\n",
        "theta_degrees = theta*180/pi\r\n",
        "print(theta_degrees)"
      ],
      "execution_count": 17,
      "outputs": [
        {
          "output_type": "stream",
          "text": [
            "31.218402764346372\n"
          ],
          "name": "stdout"
        }
      ]
    },
    {
      "cell_type": "code",
      "metadata": {
        "colab": {
          "base_uri": "https://localhost:8080/"
        },
        "id": "mvUxaV_LBthX",
        "outputId": "db8181e3-add5-43fc-bee6-2015f68431bd"
      },
      "source": [
        "#distance to travel\r\n",
        "AB = (AC**2 + BC**2)**0.5\r\n",
        "print(AB)"
      ],
      "execution_count": 18,
      "outputs": [
        {
          "output_type": "stream",
          "text": [
            "38.58756276314948\n"
          ],
          "name": "stdout"
        }
      ]
    },
    {
      "cell_type": "markdown",
      "metadata": {
        "id": "tCgJYwi3G3FW"
      },
      "source": [
        "#Optimal distance"
      ]
    },
    {
      "cell_type": "code",
      "metadata": {
        "colab": {
          "base_uri": "https://localhost:8080/",
          "height": 265
        },
        "id": "KCvqeSCiDQks",
        "outputId": "2fa5e55e-38c0-4e07-caa3-f3658873d73b"
      },
      "source": [
        "# tan(θ1) = opposite/adjacent = 3/x\r\n",
        "# tan(θ) = tan(θ1+θ2) = opposite/adjacent = (7+3)/x \r\n",
        "# identity for the tangent of a sum of two angles to derive function\r\n",
        "x = np.linspace(0.1, 50, 2000)\r\n",
        "y = np.arctan(7*x / (30+x**2) )\r\n",
        "plt.plot(x,y)\r\n",
        "plt.show()"
      ],
      "execution_count": 19,
      "outputs": [
        {
          "output_type": "display_data",
          "data": {
            "image/png": "[encoded data removed]",
            "text/plain": [
              "<Figure size 432x288 with 1 Axes>"
            ]
          },
          "metadata": {
            "tags": [],
            "needs_background": "light"
          }
        }
      ]
    },
    {
      "cell_type": "code",
      "metadata": {
        "colab": {
          "base_uri": "https://localhost:8080/"
        },
        "id": "VjhuuigsHh8i",
        "outputId": "d41b9e3d-073e-467e-ad3c-ee6316b665fe"
      },
      "source": [
        "ymax = max(y)\r\n",
        "xmax = x[list(y).index(ymax)]\r\n",
        "print(round(xmax,2), round(ymax,2))"
      ],
      "execution_count": 20,
      "outputs": [
        {
          "output_type": "stream",
          "text": [
            "5.47 0.57\n"
          ],
          "name": "stdout"
        }
      ]
    },
    {
      "cell_type": "code",
      "metadata": {
        "colab": {
          "base_uri": "https://localhost:8080/"
        },
        "id": "2sQVes_3JvEP",
        "outputId": "42c0918c-b982-4c27-b619-4b6364fee26f"
      },
      "source": [
        "#max viewing angle when standing 5.47 away\r\n",
        "ymax_degrees = round(ymax * 180 / np.pi, 2)\r\n",
        "print(ymax_degrees)"
      ],
      "execution_count": 21,
      "outputs": [
        {
          "output_type": "stream",
          "text": [
            "32.58\n"
          ],
          "name": "stdout"
        }
      ]
    },
    {
      "cell_type": "code",
      "metadata": {
        "id": "aCZBAJ_QJ6-A"
      },
      "source": [
        ""
      ],
      "execution_count": null,
      "outputs": []
    }
  ]
}