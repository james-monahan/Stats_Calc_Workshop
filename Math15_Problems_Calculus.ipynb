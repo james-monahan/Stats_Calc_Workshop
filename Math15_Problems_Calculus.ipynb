{
  "nbformat": 4,
  "nbformat_minor": 0,
  "metadata": {
    "colab": {
      "name": "Math15_Problems_Calculus.ipynb",
      "provenance": [],
      "collapsed_sections": [],
      "authorship_tag": "ABX9TyOCS0WsYkwngY4XMedkiN4M",
      "include_colab_link": true
    },
    "kernelspec": {
      "name": "python3",
      "display_name": "Python 3"
    }
  },
  "cells": [
    {
      "cell_type": "markdown",
      "metadata": {
        "id": "view-in-github",
        "colab_type": "text"
      },
      "source": [
        "<a href=\"https://colab.research.google.com/github/james-monahan/Stats_Calc_Workshop/blob/main/Math15_Problems_Calculus.ipynb\" target=\"_parent\"><img src=\"https://colab.research.google.com/assets/colab-badge.svg\" alt=\"Open In Colab\"/></a>"
      ]
    },
    {
      "cell_type": "code",
      "metadata": {
        "id": "SdbyRmicTk1U"
      },
      "source": [
        "import pandas as pd\n",
        "import numpy as np\n",
        "import matplotlib.pyplot as plt\n",
        "import seaborn as sns\n",
        "from math import sqrt"
      ],
      "execution_count": 1,
      "outputs": []
    },
    {
      "cell_type": "markdown",
      "metadata": {
        "id": "-D74QmPZFITz"
      },
      "source": [
        "#Calculating Interest"
      ]
    },
    {
      "cell_type": "code",
      "metadata": {
        "id": "ajdZt-RifMdC"
      },
      "source": [
        "def amount(p0,rate,t):\n",
        "    \"\"\"Returns the amount after t\n",
        "    years starting at p0 and growing\n",
        "    at the given rate per year\"\"\"\n",
        "    return p0*rate*t"
      ],
      "execution_count": 2,
      "outputs": []
    },
    {
      "cell_type": "code",
      "metadata": {
        "colab": {
          "base_uri": "https://localhost:8080/"
        },
        "id": "vYnUdusHCeUU",
        "outputId": "e1401f8f-0242-470d-b578-b1632ea8e9e8"
      },
      "source": [
        "for i in range(1,6):\n",
        "    print(i,amount(3500,0.02,i))"
      ],
      "execution_count": 3,
      "outputs": [
        {
          "output_type": "stream",
          "text": [
            "1 70.0\n",
            "2 140.0\n",
            "3 210.0\n",
            "4 280.0\n",
            "5 350.0\n"
          ],
          "name": "stdout"
        }
      ]
    },
    {
      "cell_type": "code",
      "metadata": {
        "id": "_fmbFCKwIAk3"
      },
      "source": [
        "def amount(p0,rate,t,comps):\n",
        "    \"\"\"Returns the amount after t\n",
        "    years starting at p0 and growing\n",
        "    at the given rate per year\n",
        "    compounded comps times per year\"\"\"\n",
        "    for i in range(int(t*comps)):\n",
        "        p0 += p0*rate/comps\n",
        "    return p0"
      ],
      "execution_count": 4,
      "outputs": []
    },
    {
      "cell_type": "code",
      "metadata": {
        "colab": {
          "base_uri": "https://localhost:8080/"
        },
        "id": "8KQ68KgbIWrS",
        "outputId": "0685687a-8d0e-4a23-b028-fb278bb88471"
      },
      "source": [
        "for i in range(1,6):\n",
        "    print(i,amount(3500,0.02,i,1))"
      ],
      "execution_count": 5,
      "outputs": [
        {
          "output_type": "stream",
          "text": [
            "1 3570.0\n",
            "2 3641.4\n",
            "3 3714.228\n",
            "4 3788.51256\n",
            "5 3864.2828112\n"
          ],
          "name": "stdout"
        }
      ]
    },
    {
      "cell_type": "markdown",
      "metadata": {
        "id": "bLYBd6uzI_Vk"
      },
      "source": [
        "\\$2,000 is invested in a savings account that earns 5.5% annual interest, compounded monthly. How long will it take for the amount to grow to $8,000?"
      ]
    },
    {
      "cell_type": "code",
      "metadata": {
        "colab": {
          "base_uri": "https://localhost:8080/"
        },
        "id": "7ciiuyKfIiNO",
        "outputId": "04a182f5-2c61-42d7-fc0d-914684434069"
      },
      "source": [
        "for i in range(1,6):\n",
        "    print(i,amount(2000,0.055,i,12))"
      ],
      "execution_count": 6,
      "outputs": [
        {
          "output_type": "stream",
          "text": [
            "1 2112.815720771071\n",
            "2 2231.9951349686903\n",
            "3 2357.8972049231984\n",
            "4 2490.9011412619493\n",
            "5 2631.4075450724245\n"
          ],
          "name": "stdout"
        }
      ]
    },
    {
      "cell_type": "code",
      "metadata": {
        "colab": {
          "base_uri": "https://localhost:8080/"
        },
        "id": "m_tMsV3wJO2N",
        "outputId": "1a2d8a3d-0e34-467c-ece6-963b72a3b06b"
      },
      "source": [
        "for i in [5,10,15,20,25,30]:\n",
        "    print(i,amount(2000,0.055,i,12))"
      ],
      "execution_count": 7,
      "outputs": [
        {
          "output_type": "stream",
          "text": [
            "5 2631.4075450724245\n",
            "10 3462.1528341320413\n",
            "15 4555.167544964467\n",
            "20 5993.251123444263\n",
            "25 7885.343112872511\n",
            "30 10374.775681348801\n"
          ],
          "name": "stdout"
        }
      ]
    },
    {
      "cell_type": "code",
      "metadata": {
        "colab": {
          "base_uri": "https://localhost:8080/"
        },
        "id": "23968atFKDsT",
        "outputId": "9703a6ef-b33b-4692-9a36-4df16ab8e151"
      },
      "source": [
        "def average(a,b):\n",
        "    return (a+b)/2\n",
        "print(amount(2000,0.055,average(25,27.5),12))"
      ],
      "execution_count": 8,
      "outputs": [
        {
          "output_type": "stream",
          "text": [
            "8445.203624219383\n"
          ],
          "name": "stdout"
        }
      ]
    },
    {
      "cell_type": "code",
      "metadata": {
        "id": "ps3-UVoSJXNs"
      },
      "source": [
        "def bin_search(f,lower,upper,target):\n",
        "    for i in range(20):\n",
        "        avg = average(lower,upper)\n",
        "        guess = f(2000,0.055,avg,12)\n",
        "        if guess == target:\n",
        "            return guess\n",
        "        if guess > target:\n",
        "            upper = avg\n",
        "        else:\n",
        "            lower = avg\n",
        "    return avg"
      ],
      "execution_count": 9,
      "outputs": []
    },
    {
      "cell_type": "code",
      "metadata": {
        "colab": {
          "base_uri": "https://localhost:8080/"
        },
        "id": "G_0TcfWUKj4_",
        "outputId": "9df8c015-d27a-42c9-c195-5bc5cceb7be3"
      },
      "source": [
        "bin_search(amount,25,30,8000)"
      ],
      "execution_count": 10,
      "outputs": [
        {
          "output_type": "execute_result",
          "data": {
            "text/plain": [
              "25.333333015441895"
            ]
          },
          "metadata": {
            "tags": []
          },
          "execution_count": 10
        }
      ]
    },
    {
      "cell_type": "code",
      "metadata": {
        "colab": {
          "base_uri": "https://localhost:8080/"
        },
        "id": "AsLy8mmDKkc6",
        "outputId": "234095ac-7e1c-47a5-831d-0c71ae8928b3"
      },
      "source": [
        "#1 at 100% continuous compound\n",
        "#base of natural log\n",
        "print(amount(1,1,1,365*24*60*60))"
      ],
      "execution_count": 11,
      "outputs": [
        {
          "output_type": "stream",
          "text": [
            "2.7182817853606362\n"
          ],
          "name": "stdout"
        }
      ]
    },
    {
      "cell_type": "code",
      "metadata": {
        "id": "Vn6IrSZzK4lB"
      },
      "source": [
        "from math import e\n",
        "#initial amount, growth rate, time\n",
        "def pert(P,r,t):\n",
        "    return P*e**(r*t)"
      ],
      "execution_count": 12,
      "outputs": []
    },
    {
      "cell_type": "code",
      "metadata": {
        "colab": {
          "base_uri": "https://localhost:8080/"
        },
        "id": "F35rWJdILkI3",
        "outputId": "90e19174-ffc3-483d-b303-627f3560f5b9"
      },
      "source": [
        "print(\"Continuous:\",pert(5000,0.18,1))\n",
        "amount(5000,0.18,1,12)"
      ],
      "execution_count": 13,
      "outputs": [
        {
          "output_type": "stream",
          "text": [
            "Continuous: 5986.086815609051\n"
          ],
          "name": "stdout"
        },
        {
          "output_type": "execute_result",
          "data": {
            "text/plain": [
              "5978.090857307678"
            ]
          },
          "metadata": {
            "tags": []
          },
          "execution_count": 13
        }
      ]
    },
    {
      "cell_type": "markdown",
      "metadata": {
        "id": "4eibsjRYNhyc"
      },
      "source": [
        "How long would it take to become a millionaire if you invested $1,000 at 8% annual interest compounded daily? "
      ]
    },
    {
      "cell_type": "code",
      "metadata": {
        "id": "oKLA1G8UL6oa"
      },
      "source": [
        "def bin_search(f,lower,upper,target):\n",
        "    for i in range(20):\n",
        "        avg = average(lower,upper)\n",
        "        #Be sure to change this line\n",
        "        #if the principal, rate or\n",
        "        #compounding changes:\n",
        "        guess = f(1000,0.08,avg,365)\n",
        "        if guess == target:\n",
        "            return guess\n",
        "        if guess > target:\n",
        "            upper = avg\n",
        "        else:\n",
        "            lower = avg\n",
        "    return avg"
      ],
      "execution_count": 14,
      "outputs": []
    },
    {
      "cell_type": "code",
      "metadata": {
        "colab": {
          "base_uri": "https://localhost:8080/"
        },
        "id": "q6Wazsj3MVm1",
        "outputId": "24fba5b2-83ca-461e-f707-7840a806c34d"
      },
      "source": [
        "for i in [10,20,30,40,50]:\n",
        "    print(i,amount(1000,0.08,i,365))"
      ],
      "execution_count": 15,
      "outputs": [
        {
          "output_type": "stream",
          "text": [
            "10 2225.34584963113\n",
            "20 4952.164150470476\n",
            "30 11020.277938941583\n",
            "40 24523.929773205105\n",
            "50 54574.22533744746\n"
          ],
          "name": "stdout"
        }
      ]
    },
    {
      "cell_type": "code",
      "metadata": {
        "colab": {
          "base_uri": "https://localhost:8080/"
        },
        "id": "UpkJLSfcNRJj",
        "outputId": "dde06527-e66e-4703-8984-5896205a953a"
      },
      "source": [
        "amount(1000,0.08,100,365)"
      ],
      "execution_count": 16,
      "outputs": [
        {
          "output_type": "execute_result",
          "data": {
            "text/plain": [
              "2978346.0711824815"
            ]
          },
          "metadata": {
            "tags": []
          },
          "execution_count": 16
        }
      ]
    },
    {
      "cell_type": "code",
      "metadata": {
        "colab": {
          "base_uri": "https://localhost:8080/"
        },
        "id": "by2iE1tVNdIw",
        "outputId": "011675fa-ac82-4376-b266-1564c0b66b9e"
      },
      "source": [
        "print(bin_search(amount,50,100,1000000))"
      ],
      "execution_count": 17,
      "outputs": [
        {
          "output_type": "stream",
          "text": [
            "86.3588809967041\n"
          ],
          "name": "stdout"
        }
      ]
    },
    {
      "cell_type": "markdown",
      "metadata": {
        "id": "cCqJM2DUTuiu"
      },
      "source": [
        "#Population Growth  \n",
        "In the 1980s, the annual population growth rate in Kenya was 4%. At that rate, how long would it take for the population to double?"
      ]
    },
    {
      "cell_type": "code",
      "metadata": {
        "id": "VPhU9hS9S6Lw"
      },
      "source": [
        "def bin_search(f,lower,upper,target):\n",
        "    for i in range(40):\n",
        "        avg = average(lower,upper)\n",
        "        guess = f(1,0.04,avg)\n",
        "        if guess == target:\n",
        "            return guess\n",
        "        if guess > target:\n",
        "            upper = avg\n",
        "        else:\n",
        "            lower = avg\n",
        "    return avg"
      ],
      "execution_count": 18,
      "outputs": []
    },
    {
      "cell_type": "code",
      "metadata": {
        "id": "mwoKlMb0TWVp",
        "colab": {
          "base_uri": "https://localhost:8080/"
        },
        "outputId": "cf22068c-714d-4015-f9ea-7ce405ade20d"
      },
      "source": [
        "print(bin_search(pert,1,100,2))"
      ],
      "execution_count": 19,
      "outputs": [
        {
          "output_type": "stream",
          "text": [
            "17.32867951408025\n"
          ],
          "name": "stdout"
        }
      ]
    },
    {
      "cell_type": "markdown",
      "metadata": {
        "id": "f8iGo0JNIBGp"
      },
      "source": [
        "In 2010, the population of Kenya was 42.0 million. In 2019, it was 52.5 million. What is the population growth rate per year for that range?"
      ]
    },
    {
      "cell_type": "code",
      "metadata": {
        "colab": {
          "base_uri": "https://localhost:8080/"
        },
        "id": "UEhqFrvkHQH9",
        "outputId": "dbc122c6-c8d4-4d34-ea31-736c1965e13f"
      },
      "source": [
        "def bin_search(f,lower,upper,target):\n",
        "    for i in range(40):\n",
        "        avg = average(lower,upper)\n",
        "        guess = f(1,avg,9)\n",
        "        if guess == target:\n",
        "            return guess\n",
        "        if guess > target:\n",
        "            upper = avg\n",
        "        else:\n",
        "            lower = avg\n",
        "    return avg\n",
        "\n",
        "print(bin_search(pert,0,2,52.5/42))"
      ],
      "execution_count": 20,
      "outputs": [
        {
          "output_type": "stream",
          "text": [
            "0.024793727925498388\n"
          ],
          "name": "stdout"
        }
      ]
    },
    {
      "cell_type": "markdown",
      "metadata": {
        "id": "muCi9CBbKBRm"
      },
      "source": [
        "#Measuring Radioactive Decay  \n",
        "We're looking for the growth rate, r, that cuts our population in half in 1,600 years."
      ]
    },
    {
      "cell_type": "code",
      "metadata": {
        "colab": {
          "base_uri": "https://localhost:8080/"
        },
        "id": "lR2RV6QLIvap",
        "outputId": "b22da0e2-8cfa-4eb2-840b-e51b662ea18d"
      },
      "source": [
        "def bin_search(f,lower,upper,target):\n",
        "    for i in range(40):\n",
        "        avg = average(lower,upper)\n",
        "        guess = f(1,avg,1600)\n",
        "        if guess == target:\n",
        "            return guess\n",
        "        if guess > target:\n",
        "            upper = avg\n",
        "        else:\n",
        "            lower = avg\n",
        "    return avg\n",
        "\n",
        "print(bin_search(pert,-2,0,.5))"
      ],
      "execution_count": 21,
      "outputs": [
        {
          "output_type": "stream",
          "text": [
            "-0.0004332169864937896\n"
          ],
          "name": "stdout"
        }
      ]
    },
    {
      "cell_type": "code",
      "metadata": {
        "colab": {
          "base_uri": "https://localhost:8080/"
        },
        "id": "XbYP817CI8qH",
        "outputId": "d783de73-38d3-4f54-9429-4bd1c8ae7cfd"
      },
      "source": [
        "pert(1,-0.0004332,800)"
      ],
      "execution_count": 22,
      "outputs": [
        {
          "output_type": "execute_result",
          "data": {
            "text/plain": [
              "0.7071163910309745"
            ]
          },
          "metadata": {
            "tags": []
          },
          "execution_count": 22
        }
      ]
    },
    {
      "cell_type": "markdown",
      "metadata": {
        "id": "Jkucf8dCLaD7"
      },
      "source": [
        "#Measuring the Age of a Historical Artifact  \n",
        "A sample of cloth is radiocarbon-tested for age. This means the scientists measure how much Carbon-14 (half-life 5,730 years) has decayed into a more stable isotope. They find the amount of Carbon-14 remaining is 10 times that of Carbon-13. How old is the cloth?"
      ]
    },
    {
      "cell_type": "code",
      "metadata": {
        "colab": {
          "base_uri": "https://localhost:8080/"
        },
        "id": "gBhJV5QaLOuJ",
        "outputId": "7402e2f0-554d-48d0-8715-15fa28145b11"
      },
      "source": [
        "def bin_search(f,lower,upper,target):\n",
        "    for i in range(40):\n",
        "        avg = average(lower,upper)\n",
        "        guess = f(1,avg,5730)\n",
        "        if guess == target:\n",
        "            return guess\n",
        "        if guess > target:\n",
        "            upper = avg\n",
        "        else:\n",
        "            lower = avg\n",
        "    return avg\n",
        "\n",
        "print(bin_search(pert,-2,0,.5))"
      ],
      "execution_count": 23,
      "outputs": [
        {
          "output_type": "stream",
          "text": [
            "-0.00012096809405193198\n"
          ],
          "name": "stdout"
        }
      ]
    },
    {
      "cell_type": "code",
      "metadata": {
        "colab": {
          "base_uri": "https://localhost:8080/"
        },
        "id": "QNSAFNAEYgKh",
        "outputId": "3d93c5a1-4ab3-44b7-c8d1-6f617ea5fbbf"
      },
      "source": [
        "def bin_search(f,lower,upper,target):\n",
        "    for i in range(40):\n",
        "        avg = average(lower,upper)\n",
        "        guess = f(1,-0.000120968,avg)\n",
        "        if guess == target:\n",
        "            return guess\n",
        "        if guess < target:\n",
        "            upper = avg\n",
        "        else:\n",
        "            lower = avg\n",
        "    return avg\n",
        "\n",
        "print(bin_search(pert,1,100000,0.91))\n",
        "print(pert(1,-0.000120968,5730))"
      ],
      "execution_count": 24,
      "outputs": [
        {
          "output_type": "stream",
          "text": [
            "779.633287019019\n",
            "0.5000002702800457\n"
          ],
          "name": "stdout"
        }
      ]
    },
    {
      "cell_type": "markdown",
      "metadata": {
        "id": "0PnRs0WpHFxh"
      },
      "source": [
        "#Calculating the Time of Death  \n",
        "An investigator arrives at the scene of the crime and measures the temperature of the environment and the body. If the environment is 65° and the body is 80°, the investigator notes the time and waits an hour. The difference between the temperatures of the body and the environment is 15. An hour later, the environment is still 65° and the body has further cooled to 75°. The difference in temperatures is now 10°. When did the victim die?"
      ]
    },
    {
      "cell_type": "code",
      "metadata": {
        "id": "YVsIbTvtY8aF",
        "colab": {
          "base_uri": "https://localhost:8080/"
        },
        "outputId": "1fec727a-40b3-414c-e1f2-b5b7e94750a8"
      },
      "source": [
        "def bin_search(f,lower,upper,target):\n",
        "    for i in range(40):\n",
        "        avg = average(lower,upper)\n",
        "        guess = f(15,avg,1)\n",
        "        if guess == target:\n",
        "            return guess\n",
        "        if guess > target:\n",
        "            upper = avg\n",
        "        else:\n",
        "            lower = avg\n",
        "    return avg\n",
        "print(bin_search(pert,-2,0,10))"
      ],
      "execution_count": 25,
      "outputs": [
        {
          "output_type": "stream",
          "text": [
            "-0.4054651081078191\n"
          ],
          "name": "stdout"
        }
      ]
    },
    {
      "cell_type": "code",
      "metadata": {
        "colab": {
          "base_uri": "https://localhost:8080/"
        },
        "id": "JfB3j3ggHdl0",
        "outputId": "f9b5417c-9933-43be-ba94-3646d4df9b84"
      },
      "source": [
        "def bin_search(f,lower,upper,target):\n",
        "    for i in range(40):\n",
        "        avg = average(lower,upper)\n",
        "        guess = f(33.6,-.4055,avg)\n",
        "        if guess == target:\n",
        "            return guess\n",
        "        if guess > target:\n",
        "            upper = avg\n",
        "        else:\n",
        "            lower = avg\n",
        "    return avg\n",
        "print(bin_search(pert,5,0,10))"
      ],
      "execution_count": 27,
      "outputs": [
        {
          "output_type": "stream",
          "text": [
            "2.9887570258370033\n"
          ],
          "name": "stdout"
        }
      ]
    },
    {
      "cell_type": "code",
      "metadata": {
        "colab": {
          "base_uri": "https://localhost:8080/"
        },
        "id": "T2O12N_4Huui",
        "outputId": "120deaa8-d6cc-48cf-c822-fe208f9ad3fe"
      },
      "source": [
        "pert(33.6,-0.4055,3)"
      ],
      "execution_count": 28,
      "outputs": [
        {
          "output_type": "execute_result",
          "data": {
            "text/plain": [
              "9.954513505592326"
            ]
          },
          "metadata": {
            "tags": []
          },
          "execution_count": 28
        }
      ]
    },
    {
      "cell_type": "markdown",
      "metadata": {
        "id": "wn8r6NLRJ-DJ"
      },
      "source": [
        "#Euler's Method"
      ]
    },
    {
      "cell_type": "code",
      "metadata": {
        "id": "41W0zjlPH1iW"
      },
      "source": [
        "def euler(x0,y0,target_x,stepsize):\n",
        "    x,y = x0,y0\n",
        "    while x<target_x:\n",
        "        slope = y #from diff eq\n",
        "        x += stepsize\n",
        "        y += stepsize*slope\n",
        "        # print(x,y)\n",
        "    return y"
      ],
      "execution_count": 31,
      "outputs": []
    },
    {
      "cell_type": "code",
      "metadata": {
        "colab": {
          "base_uri": "https://localhost:8080/"
        },
        "id": "mQ3WzAnHKLzp",
        "outputId": "c7930160-2c15-4298-cfd4-bb912b60c598"
      },
      "source": [
        "print(euler(0,1,2,0.5))"
      ],
      "execution_count": 30,
      "outputs": [
        {
          "output_type": "stream",
          "text": [
            "0.5 1.5\n",
            "1.0 2.25\n",
            "1.5 3.375\n",
            "2.0 5.0625\n",
            "5.0625\n"
          ],
          "name": "stdout"
        }
      ]
    },
    {
      "cell_type": "code",
      "metadata": {
        "colab": {
          "base_uri": "https://localhost:8080/"
        },
        "id": "7Up3K3yKKPzy",
        "outputId": "4f84958c-d2b4-4d24-d7ae-c8b2203265d0"
      },
      "source": [
        "for n in [0.5**i for i in range(10)]:\n",
        "    print(n,euler(0,1,2,n))"
      ],
      "execution_count": 32,
      "outputs": [
        {
          "output_type": "stream",
          "text": [
            "1.0 4.0\n",
            "0.5 5.0625\n",
            "0.25 5.9604644775390625\n",
            "0.125 6.583250172027423\n",
            "0.0625 6.958666757218805\n",
            "0.03125 7.166276152788222\n",
            "0.015625 7.275669793128417\n",
            "0.0078125 7.3318505987410365\n",
            "0.00390625 7.3603235532692795\n",
            "0.001953125 7.374657160341845\n"
          ],
          "name": "stdout"
        }
      ]
    },
    {
      "cell_type": "code",
      "metadata": {
        "colab": {
          "base_uri": "https://localhost:8080/"
        },
        "id": "cp8Dnr7WKxn_",
        "outputId": "59707903-2003-4036-aecd-e31498851808"
      },
      "source": [
        "def euler(x0,y0,target_x,stepsize):\n",
        "    x,y = x0,y0\n",
        "    while x<target_x:\n",
        "        slope = x+y**2 #from diff eq\n",
        "        x += stepsize\n",
        "        y += stepsize*slope\n",
        "    return y\n",
        "\n",
        "print(euler(0,1,0.3,0.001))"
      ],
      "execution_count": 34,
      "outputs": [
        {
          "output_type": "stream",
          "text": [
            "1.48695561935322\n"
          ],
          "name": "stdout"
        }
      ]
    },
    {
      "cell_type": "markdown",
      "metadata": {
        "id": "p9JWZmuPMP9F"
      },
      "source": [
        "#Runge-Kutta Method"
      ]
    },
    {
      "cell_type": "code",
      "metadata": {
        "id": "L44EwFviLLpL"
      },
      "source": [
        "def deriv(x,y):\n",
        "    return x**2 + y**2"
      ],
      "execution_count": 35,
      "outputs": []
    },
    {
      "cell_type": "code",
      "metadata": {
        "id": "fOvDCYhzMV5K"
      },
      "source": [
        "def rk4(x0,y0,target_x,h):\n",
        "    while x0 <= target_x:\n",
        "        print(x0,y0)\n",
        "        k1 = h*deriv(x0,y0)\n",
        "        k2 = h*deriv(x0 + h/2, y0 + k1/2)\n",
        "        k3 = h*deriv(x0 + h/2, y0 + k2/2)\n",
        "        k4 = h*deriv(x0 + h, y0 + k3)\n",
        "        #These are the values that are fed back into the function:\n",
        "        y0 = y0 + (1/6)*(k1 + 2*k2 + 2*k3 + k4)\n",
        "        x0 = x0 + h"
      ],
      "execution_count": 36,
      "outputs": []
    },
    {
      "cell_type": "code",
      "metadata": {
        "colab": {
          "base_uri": "https://localhost:8080/"
        },
        "id": "FcRvy3g-M2ny",
        "outputId": "552d8e72-353f-464b-d051-2b0b63db3a40"
      },
      "source": [
        "rk4(0,0,1,0.2)"
      ],
      "execution_count": 37,
      "outputs": [
        {
          "output_type": "stream",
          "text": [
            "0 0\n",
            "0.2 0.0026668666933346665\n",
            "0.4 0.021360090381533078\n",
            "0.6000000000000001 0.0724512003541295\n",
            "0.8 0.17409018097333867\n",
            "1.0 0.35025754914481283\n"
          ],
          "name": "stdout"
        }
      ]
    },
    {
      "cell_type": "markdown",
      "metadata": {
        "id": "VS3-R6KCN3wh"
      },
      "source": [
        "#Pursuit curves  \n",
        "A rabbit starts at (0,0) and runs in the positive y-direction at 1 unit per second. A fox starts at (20,0) and pursues the rabbit, running 1.5 times as fast as the rabbit. At what y-value does the fox catch the rabbit?"
      ]
    },
    {
      "cell_type": "code",
      "metadata": {
        "id": "SmCp2-5oNAfs"
      },
      "source": [
        "from math import sqrt, atan2,sin,cos"
      ],
      "execution_count": 38,
      "outputs": []
    },
    {
      "cell_type": "code",
      "metadata": {
        "id": "SI3bfpPqN9eG"
      },
      "source": [
        "def dist(x1,y1,x2,y2):\n",
        "    \"\"\"Returns distance from (x1,y1) to (x2,y2)\"\"\"\n",
        "    return sqrt((x1-x2)**2 + (y1-y2)**2)"
      ],
      "execution_count": 39,
      "outputs": []
    },
    {
      "cell_type": "code",
      "metadata": {
        "id": "5n5SvLDNN-92"
      },
      "source": [
        "def towards(x1,y1,x2,y2):\n",
        "    \"\"\"Returns unit vector in [x,y] format from point\n",
        "    1 to point 2\"\"\"\n",
        "    dx,dy = x2-x1,y2-y1\n",
        "    angle = atan2(dy,dx)\n",
        "    return [cos(angle),sin(angle)]"
      ],
      "execution_count": 40,
      "outputs": []
    },
    {
      "cell_type": "code",
      "metadata": {
        "id": "eo5X51_BOxkS"
      },
      "source": [
        "def chase():\n",
        "    predator_x,predator_y = 20,0\n",
        "    predator_v = 1.5 #prey is 1\n",
        "    prey_x,prey_y = 0,0\n",
        "    inc = 0.001\n",
        "    while dist(predator_x,predator_y,prey_x,prey_y) > 0.001:\n",
        "        prey_y += 1*inc\n",
        "        p_vec = towards(predator_x,predator_y,\\\n",
        "                        prey_x,prey_y)\n",
        "        predator_x += predator_v*p_vec[0]*inc\n",
        "        predator_y += predator_v*p_vec[1]*inc\n",
        "        #print(dist(predator_x,predator_y,prey_x,prey_y))\n",
        "    return predator_y"
      ],
      "execution_count": 41,
      "outputs": []
    },
    {
      "cell_type": "code",
      "metadata": {
        "colab": {
          "base_uri": "https://localhost:8080/"
        },
        "id": "PJFFFQ1KPGaA",
        "outputId": "90603633-beaf-4684-bfce-310556987a5c"
      },
      "source": [
        "y = chase()\n",
        "print(\"Y:\",y)\n",
        "print(\"dist:\",dist(1,1,4,5))\n",
        "print(\"towards:\",towards(1,1,2,2.732))"
      ],
      "execution_count": 42,
      "outputs": [
        {
          "output_type": "stream",
          "text": [
            "Y: 23.997299988652507\n",
            "dist: 5.0\n",
            "towards: [0.5000110003630132, 0.8660190526287391]\n"
          ],
          "name": "stdout"
        }
      ]
    },
    {
      "cell_type": "markdown",
      "metadata": {
        "id": "e46AHl6ZPmsG"
      },
      "source": [
        "#Visualize Pursuit Curves"
      ]
    },
    {
      "cell_type": "code",
      "metadata": {
        "id": "BlSU-hwePLk-"
      },
      "source": [
        "from turtle import *"
      ],
      "execution_count": 50,
      "outputs": []
    },
    {
      "cell_type": "code",
      "metadata": {
        "id": "qgoXoK67QjLV"
      },
      "source": [
        "# setworldcoordinates(-30,-30,40,40)\n",
        "# #set up predator\n",
        "# predator = Turtle()\n",
        "# predator.color(\"red\")\n",
        "# predator.penup()\n",
        "# predator.setpos(20,0)\n",
        "# predator.pendown()\n",
        "# predator.speed(0)\n",
        "# #set up prey\n",
        "# prey = Turtle()\n",
        "# prey.color(\"green\")\n",
        "# prey.shape(\"turtle\")\n",
        "# prey.setheading(90)\n",
        "# prey.speed(0)\n",
        "\n",
        "# def pursue():\n",
        "#     inc = 0.05\n",
        "#     while predator.distance(prey)>0.05:\n",
        "#         predator.setheading(predator.towards(prey))\n",
        "#         prey.forward(inc)\n",
        "#         predator.forward (1.5*inc)\n",
        "#     print(\"y:\",predator.ycor())\n",
        "\n",
        "# pursue()\n",
        "# done()"
      ],
      "execution_count": 51,
      "outputs": []
    },
    {
      "cell_type": "code",
      "metadata": {
        "id": "YGi0gWHJPrnv"
      },
      "source": [
        ""
      ],
      "execution_count": null,
      "outputs": []
    }
  ]
}