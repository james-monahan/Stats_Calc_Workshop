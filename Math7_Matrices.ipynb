{
  "nbformat": 4,
  "nbformat_minor": 0,
  "metadata": {
    "colab": {
      "name": "Math7_Matrices.ipynb",
      "provenance": [],
      "collapsed_sections": [
        "bubFQBdk6R4j",
        "-R5xPLPeu0C1",
        "xKXnLSeQD9RC"
      ],
      "authorship_tag": "ABX9TyOkaJdbEaV4OAnGwHaVfChe",
      "include_colab_link": true
    },
    "kernelspec": {
      "name": "python3",
      "display_name": "Python 3"
    }
  },
  "cells": [
    {
      "cell_type": "markdown",
      "metadata": {
        "id": "view-in-github",
        "colab_type": "text"
      },
      "source": [
        "<a href=\"https://colab.research.google.com/github/james-monahan/Stats_Calc_Workshop/blob/main/Math7_Matrices.ipynb\" target=\"_parent\"><img src=\"https://colab.research.google.com/assets/colab-badge.svg\" alt=\"Open In Colab\"/></a>"
      ]
    },
    {
      "cell_type": "code",
      "metadata": {
        "id": "SdbyRmicTk1U"
      },
      "source": [
        "import pandas as pd\r\n",
        "import numpy as np\r\n",
        "import matplotlib.pyplot as plt\r\n",
        "import seaborn as sns\r\n",
        "import math"
      ],
      "execution_count": 1,
      "outputs": []
    },
    {
      "cell_type": "markdown",
      "metadata": {
        "id": "bubFQBdk6R4j"
      },
      "source": [
        "#Basic Calculation\r\n",
        "\r\n",
        "-calculate the time it takes for sunlight to reach the Earth each day of the year"
      ]
    },
    {
      "cell_type": "code",
      "metadata": {
        "id": "ecmy8W50oCvb"
      },
      "source": [
        "def earth_sun_distance():\r\n",
        "    # Semi-major axis between earth and sun\r\n",
        "    A = 149600000\r\n",
        "    # Eccentricity of earth\r\n",
        "    E = 0.0167\r\n",
        "    l = []\r\n",
        "    for i in range(365):\r\n",
        "        theta = (2 * math.pi * i) / 365.25\r\n",
        "        r = A*(1 - E**2)/ (1 - (E * math.cos(theta)))\r\n",
        "        l.append(r)\r\n",
        "    \r\n",
        "    return l"
      ],
      "execution_count": 2,
      "outputs": []
    },
    {
      "cell_type": "code",
      "metadata": {
        "colab": {
          "base_uri": "https://localhost:8080/"
        },
        "id": "ghST-o8eob0q",
        "outputId": "4d2bac39-0ad1-442e-aa77-c2d549cd1291"
      },
      "source": [
        "l = earth_sun_distance()\r\n",
        "\r\n",
        "# Calculating the time taken\r\n",
        "S = 299792 #speed of light\r\n",
        "t = np.divide(l, S) #time = distance/speed\r\n",
        "\r\n",
        "sunny = np.asarray(list(zip(l, t)))\r\n",
        "print(\"Earth sun distance: \\n\", sunny[:5])"
      ],
      "execution_count": 3,
      "outputs": [
        {
          "output_type": "stream",
          "text": [
            "Earth sun distance: \n",
            " [[1.52098320e+08 5.07346160e+02]\n",
            " [1.52097938e+08 5.07344885e+02]\n",
            " [1.52096791e+08 5.07341061e+02]\n",
            " [1.52094881e+08 5.07334688e+02]\n",
            " [1.52092207e+08 5.07325770e+02]]\n"
          ],
          "name": "stdout"
        }
      ]
    },
    {
      "cell_type": "markdown",
      "metadata": {
        "id": "-R5xPLPeu0C1"
      },
      "source": [
        "#Additional Operations"
      ]
    },
    {
      "cell_type": "code",
      "metadata": {
        "colab": {
          "base_uri": "https://localhost:8080/"
        },
        "id": "lrsuXGjDeyBp",
        "outputId": "a1319bca-5e7d-4a9e-d6f2-debe89cdf8e0"
      },
      "source": [
        "z = np.array([[1, 2],\\\r\n",
        "              [3, 4]])\r\n",
        "print(type(z))"
      ],
      "execution_count": 4,
      "outputs": [
        {
          "output_type": "stream",
          "text": [
            "<class 'numpy.ndarray'>\n"
          ],
          "name": "stdout"
        }
      ]
    },
    {
      "cell_type": "code",
      "metadata": {
        "colab": {
          "base_uri": "https://localhost:8080/"
        },
        "id": "pQIznLS8u6W0",
        "outputId": "5bb11592-9b8b-42fd-9da1-2a8933fc5f48"
      },
      "source": [
        "print(\"matrix z: \")\r\n",
        "print(z)\r\n",
        "# Transpose matrix\r\n",
        "# Method 1\r\n",
        "print(\"new matrix: \")\r\n",
        "print(np.transpose(z))\r\n",
        "# Method 2\r\n",
        "print(z.transpose())\r\n",
        "# Method 3\r\n",
        "t = z.transpose()\r\n",
        "print(t)"
      ],
      "execution_count": 5,
      "outputs": [
        {
          "output_type": "stream",
          "text": [
            "matrix z: \n",
            "[[1 2]\n",
            " [3 4]]\n",
            "new matrix: \n",
            "[[1 3]\n",
            " [2 4]]\n",
            "[[1 3]\n",
            " [2 4]]\n",
            "[[1 3]\n",
            " [2 4]]\n"
          ],
          "name": "stdout"
        }
      ]
    },
    {
      "cell_type": "code",
      "metadata": {
        "colab": {
          "base_uri": "https://localhost:8080/"
        },
        "id": "DL5SdTi2u7t1",
        "outputId": "44bf154c-afa3-45fc-cbc6-786f421c6c27"
      },
      "source": [
        "y = z.ravel()\r\n",
        "print(y)"
      ],
      "execution_count": 6,
      "outputs": [
        {
          "output_type": "stream",
          "text": [
            "[1 2 3 4]\n"
          ],
          "name": "stdout"
        }
      ]
    },
    {
      "cell_type": "code",
      "metadata": {
        "colab": {
          "base_uri": "https://localhost:8080/"
        },
        "id": "VExbb5OCvFzt",
        "outputId": "225f7d94-dc57-4a67-f228-b989c5d7d3fa"
      },
      "source": [
        "j = np.linspace(0,10)\r\n",
        "j = j.reshape(5,5,2)\r\n",
        "j"
      ],
      "execution_count": 7,
      "outputs": [
        {
          "output_type": "execute_result",
          "data": {
            "text/plain": [
              "array([[[ 0.        ,  0.20408163],\n",
              "        [ 0.40816327,  0.6122449 ],\n",
              "        [ 0.81632653,  1.02040816],\n",
              "        [ 1.2244898 ,  1.42857143],\n",
              "        [ 1.63265306,  1.83673469]],\n",
              "\n",
              "       [[ 2.04081633,  2.24489796],\n",
              "        [ 2.44897959,  2.65306122],\n",
              "        [ 2.85714286,  3.06122449],\n",
              "        [ 3.26530612,  3.46938776],\n",
              "        [ 3.67346939,  3.87755102]],\n",
              "\n",
              "       [[ 4.08163265,  4.28571429],\n",
              "        [ 4.48979592,  4.69387755],\n",
              "        [ 4.89795918,  5.10204082],\n",
              "        [ 5.30612245,  5.51020408],\n",
              "        [ 5.71428571,  5.91836735]],\n",
              "\n",
              "       [[ 6.12244898,  6.32653061],\n",
              "        [ 6.53061224,  6.73469388],\n",
              "        [ 6.93877551,  7.14285714],\n",
              "        [ 7.34693878,  7.55102041],\n",
              "        [ 7.75510204,  7.95918367]],\n",
              "\n",
              "       [[ 8.16326531,  8.36734694],\n",
              "        [ 8.57142857,  8.7755102 ],\n",
              "        [ 8.97959184,  9.18367347],\n",
              "        [ 9.3877551 ,  9.59183673],\n",
              "        [ 9.79591837, 10.        ]]])"
            ]
          },
          "metadata": {
            "tags": []
          },
          "execution_count": 7
        }
      ]
    },
    {
      "cell_type": "code",
      "metadata": {
        "colab": {
          "base_uri": "https://localhost:8080/"
        },
        "id": "sq6KYC1LvPTh",
        "outputId": "d42f01db-fc6f-4f66-b7aa-c3c4b746a0d6"
      },
      "source": [
        "j.ravel().shape"
      ],
      "execution_count": 8,
      "outputs": [
        {
          "output_type": "execute_result",
          "data": {
            "text/plain": [
              "(50,)"
            ]
          },
          "metadata": {
            "tags": []
          },
          "execution_count": 8
        }
      ]
    },
    {
      "cell_type": "code",
      "metadata": {
        "colab": {
          "base_uri": "https://localhost:8080/"
        },
        "id": "mrhfDtIyB1ZX",
        "outputId": "cb80feb4-87df-4c70-ff69-cd818205b817"
      },
      "source": [
        "resize = np.resize(z,(3,3))\r\n",
        "resize"
      ],
      "execution_count": 9,
      "outputs": [
        {
          "output_type": "execute_result",
          "data": {
            "text/plain": [
              "array([[1, 2, 3],\n",
              "       [4, 1, 2],\n",
              "       [3, 4, 1]])"
            ]
          },
          "metadata": {
            "tags": []
          },
          "execution_count": 9
        }
      ]
    },
    {
      "cell_type": "code",
      "metadata": {
        "colab": {
          "base_uri": "https://localhost:8080/"
        },
        "id": "0UzelqM7CKOM",
        "outputId": "b21aceba-55bd-4fa2-98ad-b62a6b507cf8"
      },
      "source": [
        "#operations on axes in an array\r\n",
        "z = np.array([[1, 5, 9, 4],\\\r\n",
        "              [8, 3, 7, 6]])\r\n",
        "print(z.max(axis = 0))\r\n",
        "print(z.max(axis = 1))\r\n",
        "print(z.sum(axis = 1))\r\n",
        "print(np.concatenate((z[1], z[0]), axis=0))"
      ],
      "execution_count": 10,
      "outputs": [
        {
          "output_type": "stream",
          "text": [
            "[8 5 9 6]\n",
            "[9 8]\n",
            "[19 24]\n",
            "[8 3 7 6 1 5 9 4]\n"
          ],
          "name": "stdout"
        }
      ]
    },
    {
      "cell_type": "code",
      "metadata": {
        "colab": {
          "base_uri": "https://localhost:8080/"
        },
        "id": "noARYsAXDf1L",
        "outputId": "cc36244a-8e96-41a2-d6ec-bccf43bb94ab"
      },
      "source": [
        "z[1]"
      ],
      "execution_count": 11,
      "outputs": [
        {
          "output_type": "execute_result",
          "data": {
            "text/plain": [
              "array([8, 3, 7, 6])"
            ]
          },
          "metadata": {
            "tags": []
          },
          "execution_count": 11
        }
      ]
    },
    {
      "cell_type": "markdown",
      "metadata": {
        "id": "xKXnLSeQD9RC"
      },
      "source": [
        "#Matrix Search"
      ]
    },
    {
      "cell_type": "code",
      "metadata": {
        "id": "a1eQ1hS9Dsg9"
      },
      "source": [
        "matrix = [[7, 10, 15, 18],\\\r\n",
        "          [25, 29, 35, 47],\\\r\n",
        "           [56, 78, 85, 104]]"
      ],
      "execution_count": 12,
      "outputs": []
    },
    {
      "cell_type": "code",
      "metadata": {
        "colab": {
          "base_uri": "https://localhost:8080/"
        },
        "id": "4NEKc0jWEBQH",
        "outputId": "1aafffeb-cf14-40c9-d819-51540578e6e2"
      },
      "source": [
        "def matrixsearch(matrix, value):\r\n",
        "    # Check for edge cases\r\n",
        "    if value is None or not matrix:\r\n",
        "         return False\r\n",
        "\r\n",
        "    # Initialize the variables\r\n",
        "    row = len(matrix)\r\n",
        "    col = len(matrix[0])\r\n",
        "    start = 0\r\n",
        "    end   = row * col - 1\r\n",
        "\r\n",
        "    while start <= end:\r\n",
        "        mid = int((start + end) / 2)\r\n",
        "\r\n",
        "        pointer = matrix[int(mid/col)][int(mid%col)]\r\n",
        "        print(int(mid/col), int(mid%col))\r\n",
        "        if pointer == value:\r\n",
        "            return True\r\n",
        "        elif pointer < value:\r\n",
        "            start = mid + 1\r\n",
        "        else:\r\n",
        "            end = mid - 1\r\n",
        "    return False\r\n",
        "sol = matrixsearch(matrix, 78)\r\n",
        "print(sol)"
      ],
      "execution_count": 13,
      "outputs": [
        {
          "output_type": "stream",
          "text": [
            "1 1\n",
            "2 0\n",
            "2 2\n",
            "2 1\n",
            "True\n"
          ],
          "name": "stdout"
        }
      ]
    },
    {
      "cell_type": "markdown",
      "metadata": {
        "id": "MVnpRzlEKFba"
      },
      "source": [
        "#Multiple Matrices"
      ]
    },
    {
      "cell_type": "code",
      "metadata": {
        "colab": {
          "base_uri": "https://localhost:8080/"
        },
        "id": "TBF8Z8oCHpYy",
        "outputId": "2470895d-20eb-45df-c055-90a05fb3f268"
      },
      "source": [
        "import numpy as np\r\n",
        "z = np.array([[1, 2],\\\r\n",
        "              [3, 4]])\r\n",
        "x = np.array([[4, 5],\\\r\n",
        "              [7, 8]])\r\n",
        "print(np.multiply(x,z))\r\n",
        "print(np.multiply(z,x))"
      ],
      "execution_count": 14,
      "outputs": [
        {
          "output_type": "stream",
          "text": [
            "[[ 4 10]\n",
            " [21 32]]\n",
            "[[ 4 10]\n",
            " [21 32]]\n"
          ],
          "name": "stdout"
        }
      ]
    },
    {
      "cell_type": "code",
      "metadata": {
        "colab": {
          "base_uri": "https://localhost:8080/"
        },
        "id": "-IBkeOGzJaYN",
        "outputId": "b9102b8d-bc67-43f2-8fc6-80a55b7b366e"
      },
      "source": [
        "# not interpreted as a matrix\r\n",
        "z = np.array([[1,2],[3]])\r\n",
        "x = np.array([[4,5]])\r\n",
        "print(np.multiply(x,z))"
      ],
      "execution_count": 15,
      "outputs": [
        {
          "output_type": "stream",
          "text": [
            "[[list([1, 2, 1, 2, 1, 2, 1, 2]) list([3, 3, 3, 3, 3])]]\n"
          ],
          "name": "stdout"
        },
        {
          "output_type": "stream",
          "text": [
            "/usr/local/lib/python3.7/dist-packages/ipykernel_launcher.py:2: VisibleDeprecationWarning: Creating an ndarray from ragged nested sequences (which is a list-or-tuple of lists-or-tuples-or ndarrays with different lengths or shapes) is deprecated. If you meant to do this, you must specify 'dtype=object' when creating the ndarray\n",
            "  \n"
          ],
          "name": "stderr"
        }
      ]
    },
    {
      "cell_type": "markdown",
      "metadata": {
        "id": "RQ9SptO3hVrw"
      },
      "source": [
        "#Multiple Matrices Operations"
      ]
    },
    {
      "cell_type": "code",
      "metadata": {
        "id": "jqtxkSw8SJ0E"
      },
      "source": [
        "from numpy.linalg import inv"
      ],
      "execution_count": 16,
      "outputs": []
    },
    {
      "cell_type": "code",
      "metadata": {
        "id": "PWPAKKrIhmn2"
      },
      "source": [
        "def identity():\r\n",
        "    print(np.identity(3))\r\n",
        "\r\n",
        "#offset identity using k\r\n",
        "def eye(size, k):\r\n",
        "    print(np.eye(size, k = k))"
      ],
      "execution_count": 17,
      "outputs": []
    },
    {
      "cell_type": "code",
      "metadata": {
        "colab": {
          "base_uri": "https://localhost:8080/"
        },
        "id": "ZCegIhfkh0ps",
        "outputId": "2eadbf74-dfcb-4d9e-f45e-d4dfb02ca7f0"
      },
      "source": [
        "eye(4,0)"
      ],
      "execution_count": 18,
      "outputs": [
        {
          "output_type": "stream",
          "text": [
            "[[1. 0. 0. 0.]\n",
            " [0. 1. 0. 0.]\n",
            " [0. 0. 1. 0.]\n",
            " [0. 0. 0. 1.]]\n"
          ],
          "name": "stdout"
        }
      ]
    },
    {
      "cell_type": "code",
      "metadata": {
        "colab": {
          "base_uri": "https://localhost:8080/"
        },
        "id": "AFhPGeLuh687",
        "outputId": "4a3dd2bc-9753-448c-e3a4-32980726026f"
      },
      "source": [
        "#inverse: produces an identity matrix when you multiply it by the original matrix\r\n",
        "z = np.array([[1,2],[3,4]])\r\n",
        "\r\n",
        "def inverse(z):\r\n",
        "    z_inv = inv(z)\r\n",
        "    product = np.dot(z, z_inv)\r\n",
        "    print(z_inv)\r\n",
        "    print(product)\r\n",
        "\r\n",
        "inverse(z)"
      ],
      "execution_count": 19,
      "outputs": [
        {
          "output_type": "stream",
          "text": [
            "[[-2.   1. ]\n",
            " [ 1.5 -0.5]]\n",
            "[[1.0000000e+00 0.0000000e+00]\n",
            " [8.8817842e-16 1.0000000e+00]]\n"
          ],
          "name": "stdout"
        }
      ]
    },
    {
      "cell_type": "code",
      "metadata": {
        "colab": {
          "base_uri": "https://localhost:8080/"
        },
        "id": "hHPJw3sHivr-",
        "outputId": "86ba3a89-7baf-4e61-b83e-94540755ed47"
      },
      "source": [
        "def and_op():\r\n",
        "    m1 = [True, False, False]\r\n",
        "    m2 = [True, False, True]\r\n",
        "    print(np.logical_and(m1, m2))\r\n",
        "and_op()"
      ],
      "execution_count": 20,
      "outputs": [
        {
          "output_type": "stream",
          "text": [
            "[ True False False]\n"
          ],
          "name": "stdout"
        }
      ]
    },
    {
      "cell_type": "code",
      "metadata": {
        "colab": {
          "base_uri": "https://localhost:8080/"
        },
        "id": "mcwHGggxjPE3",
        "outputId": "1687c818-a892-446f-c045-c8c40796f907"
      },
      "source": [
        "#np.outer for crossproduct\r\n",
        "def vector():\r\n",
        "    horizontal = np.array([[1,3,2]])\r\n",
        "    vertical = np.array([[2],\\\r\n",
        "                         [0],\\\r\n",
        "                         [1]])\r\n",
        "    print(\"Output for dimension 1 x 1: \")\r\n",
        "    print(horizontal.dot(vertical))\r\n",
        "    print(\"Output for dimension 3 x 3: \")\r\n",
        "    print(vertical.dot(horizontal))\r\n",
        "    print(\"Output using outer for getting cross product: \")\r\n",
        "    print(np.outer(vertical.ravel(), horizontal.ravel()))\r\n",
        "    print(np.outer(horizontal.ravel(), vertical.ravel()))\r\n",
        "\r\n",
        "vector()"
      ],
      "execution_count": 22,
      "outputs": [
        {
          "output_type": "stream",
          "text": [
            "Output for dimension 1 x 1: \n",
            "[[4]]\n",
            "Output for dimension 3 x 3: \n",
            "[[2 6 4]\n",
            " [0 0 0]\n",
            " [1 3 2]]\n",
            "Output using outer for getting cross product: \n",
            "[[2 6 4]\n",
            " [0 0 0]\n",
            " [1 3 2]]\n",
            "[[2 0 1]\n",
            " [6 0 3]\n",
            " [4 0 2]]\n"
          ],
          "name": "stdout"
        }
      ]
    },
    {
      "cell_type": "markdown",
      "metadata": {
        "id": "mhLxwl_43OsP"
      },
      "source": [
        "#Solving Linear Equations"
      ]
    },
    {
      "cell_type": "code",
      "metadata": {
        "id": "WbMZ_4zN2325"
      },
      "source": [
        "#z is coeff, r is sum#\r\n",
        "z = np.array([[37, 20, 12],\\\r\n",
        "              [15, 32, 4],\\\r\n",
        "              [5,  40, 2]])\r\n",
        "\r\n",
        "r = np.array([[435],[178],[70]])"
      ],
      "execution_count": 41,
      "outputs": []
    },
    {
      "cell_type": "code",
      "metadata": {
        "colab": {
          "base_uri": "https://localhost:8080/"
        },
        "id": "24kOT-Iw38J_",
        "outputId": "f8c76669-eda7-42b3-9b85-e9a4eb237e5a"
      },
      "source": [
        "print(np.linalg.inv(z))"
      ],
      "execution_count": 42,
      "outputs": [
        {
          "output_type": "stream",
          "text": [
            "[[-0.06282723  0.28795812 -0.19895288]\n",
            " [-0.0065445   0.0091623   0.02094241]\n",
            " [ 0.28795812 -0.90314136  0.57853403]]\n"
          ],
          "name": "stdout"
        }
      ]
    },
    {
      "cell_type": "code",
      "metadata": {
        "colab": {
          "base_uri": "https://localhost:8080/"
        },
        "id": "cNRYD_k64P_N",
        "outputId": "d6758291-e788-45a9-fe45-848ea11f65ec"
      },
      "source": [
        "X = np.linalg.inv(z).dot(r)\r\n",
        "print(X)"
      ],
      "execution_count": 43,
      "outputs": [
        {
          "output_type": "stream",
          "text": [
            "[[10.  ]\n",
            " [ 0.25]\n",
            " [ 5.  ]]\n"
          ],
          "name": "stdout"
        }
      ]
    },
    {
      "cell_type": "code",
      "metadata": {
        "colab": {
          "base_uri": "https://localhost:8080/"
        },
        "id": "Q7uwOSGi4kwY",
        "outputId": "bf306683-daa8-4e3b-8c63-22c51770c37e"
      },
      "source": [
        "y = np.linalg.solve(z,r)\r\n",
        "print(y)"
      ],
      "execution_count": 44,
      "outputs": [
        {
          "output_type": "stream",
          "text": [
            "[[10.  ]\n",
            " [ 0.25]\n",
            " [ 5.  ]]\n"
          ],
          "name": "stdout"
        }
      ]
    }
  ]
}