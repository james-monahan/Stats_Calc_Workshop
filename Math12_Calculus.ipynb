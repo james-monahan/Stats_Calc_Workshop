{
  "nbformat": 4,
  "nbformat_minor": 0,
  "metadata": {
    "colab": {
      "name": "Math12_Calculus.ipynb",
      "provenance": [],
      "collapsed_sections": [],
      "authorship_tag": "ABX9TyM3e3q0g3RS3qwqUfdVOI+s",
      "include_colab_link": true
    },
    "kernelspec": {
      "name": "python3",
      "display_name": "Python 3"
    }
  },
  "cells": [
    {
      "cell_type": "markdown",
      "metadata": {
        "id": "view-in-github",
        "colab_type": "text"
      },
      "source": [
        "<a href=\"https://colab.research.google.com/github/james-monahan/Stats_Calc_Workshop/blob/main/Math12_Calculus.ipynb\" target=\"_parent\"><img src=\"https://colab.research.google.com/assets/colab-badge.svg\" alt=\"Open In Colab\"/></a>"
      ]
    },
    {
      "cell_type": "code",
      "metadata": {
        "id": "SdbyRmicTk1U"
      },
      "source": [
        "import pandas as pd\n",
        "import numpy as np\n",
        "import matplotlib.pyplot as plt\n",
        "import seaborn as sns"
      ],
      "execution_count": 1,
      "outputs": []
    },
    {
      "cell_type": "markdown",
      "metadata": {
        "id": "MKf8zb3NLEwf"
      },
      "source": [
        "#Derivative Funciton\n",
        "---\n",
        "\n"
      ]
    },
    {
      "cell_type": "code",
      "metadata": {
        "id": "9mcXuAZMrFLq"
      },
      "source": [
        "def f(x):\n",
        "    return x**2\n",
        "def derivative(f,x):\n",
        "    \"\"\"\n",
        "    Returns the value of the derivative of\n",
        "    the function at a given x-value.\n",
        "    \"\"\"\n",
        "    delta_x = 1/1000000\n",
        "    return (f(x+delta_x) - f(x))/delta_x"
      ],
      "execution_count": 2,
      "outputs": []
    },
    {
      "cell_type": "code",
      "metadata": {
        "colab": {
          "base_uri": "https://localhost:8080/"
        },
        "id": "d2rtjCA-rFJi",
        "outputId": "9c151829-f938-4997-f66d-acdaffcc3b6a"
      },
      "source": [
        "for i in range(-3,4):\n",
        "    print(i,derivative(f,i))"
      ],
      "execution_count": 3,
      "outputs": [
        {
          "output_type": "stream",
          "text": [
            "-3 -5.999999000749767\n",
            "-2 -3.999998999582033\n",
            "-1 -1.999999000079633\n",
            "0 1e-06\n",
            "1 2.0000009999243673\n",
            "2 4.0000010006480125\n",
            "3 6.000001000927568\n"
          ],
          "name": "stdout"
        }
      ]
    },
    {
      "cell_type": "code",
      "metadata": {
        "id": "ZV8omxpSr5L6"
      },
      "source": [
        "from math import sqrt"
      ],
      "execution_count": 4,
      "outputs": []
    },
    {
      "cell_type": "code",
      "metadata": {
        "id": "_6PLBNg5sszV"
      },
      "source": [
        "def f(x):\n",
        "    return 6*x**3\n",
        "def g(x):\n",
        "    return sqrt(2*x + 5)\n",
        "def h(x):\n",
        "    return 1/(x-3)**3"
      ],
      "execution_count": 5,
      "outputs": []
    },
    {
      "cell_type": "code",
      "metadata": {
        "colab": {
          "base_uri": "https://localhost:8080/"
        },
        "id": "0Fu-9X2msygw",
        "outputId": "9ae53c65-c3cc-4f26-c1fd-3c42a64e17ca"
      },
      "source": [
        "print(derivative(f,-2),derivative(g,3),derivative(h,5))"
      ],
      "execution_count": 6,
      "outputs": [
        {
          "output_type": "stream",
          "text": [
            "71.99996399265274 0.30151133101341543 -0.18749981253729509\n"
          ],
          "name": "stdout"
        }
      ]
    },
    {
      "cell_type": "markdown",
      "metadata": {
        "id": "8V01_l7auRL3"
      },
      "source": [
        "#Finding the Equation of the Tangent Line\n"
      ]
    },
    {
      "cell_type": "code",
      "metadata": {
        "id": "r2PK1m8iuGd6"
      },
      "source": [
        "def f(x):\n",
        "    return x**3 - 2*x**2 + 1"
      ],
      "execution_count": 7,
      "outputs": []
    },
    {
      "cell_type": "code",
      "metadata": {
        "id": "P1arK51qvEF0"
      },
      "source": [
        "def point_slope(m,x,y):\n",
        "    \"\"\"Finds the y-intercept of a line\n",
        "    given its slope m and a point (x,y)\"\"\"\n",
        "    return y-m*x"
      ],
      "execution_count": 8,
      "outputs": []
    },
    {
      "cell_type": "code",
      "metadata": {
        "colab": {
          "base_uri": "https://localhost:8080/"
        },
        "id": "rX4Ec7psvHbn",
        "outputId": "cca46fde-3e96-46b0-c0c7-c92d8b8f6edd"
      },
      "source": [
        "def tangent_line(f,x):\n",
        "    \"\"\"Finds the equation of the line \n",
        "    tangent to f at x.\"\"\"\n",
        "    m = derivative(f,x)\n",
        "    y0 = f(x)\n",
        "    b = point_slope(m,x,y0)\n",
        "    print(\"y = \",round(m,2),\"x + \",round(b,2))\n",
        "\n",
        "for x in [-0.48,0.67]:\n",
        "    tangent_line(f,x)"
      ],
      "execution_count": 9,
      "outputs": [
        {
          "output_type": "stream",
          "text": [
            "y =  2.61 x +  1.68\n",
            "y =  -1.33 x +  1.3\n"
          ],
          "name": "stdout"
        }
      ]
    },
    {
      "cell_type": "markdown",
      "metadata": {
        "id": "LYbtpY5-xd7n"
      },
      "source": [
        "#Calculating Integrals"
      ]
    },
    {
      "cell_type": "code",
      "metadata": {
        "colab": {
          "base_uri": "https://localhost:8080/"
        },
        "id": "4yrAbViVvuaM",
        "outputId": "4b911bb1-c0a8-445f-f52f-ac1bfa6d1a47"
      },
      "source": [
        "def f(x):\n",
        "    return x**2\n",
        "    \n",
        "number_of_rectangles = 20\n",
        "\n",
        "def integral(f,a,b,num):\n",
        "    \"\"\"Returns the sum of num rectangles\n",
        "    under f between a and b\"\"\"\n",
        "    width = (b-a)/num\n",
        "    area = sum([width*f(a+width*n) for n in range(num)])\n",
        "    return area\n",
        "\n",
        "for i in range(1,21):\n",
        "    print(i,integral(f,0,1,i))"
      ],
      "execution_count": 10,
      "outputs": [
        {
          "output_type": "stream",
          "text": [
            "1 0.0\n",
            "2 0.125\n",
            "3 0.18518518518518517\n",
            "4 0.21875\n",
            "5 0.24000000000000005\n",
            "6 0.2546296296296296\n",
            "7 0.26530612244897955\n",
            "8 0.2734375\n",
            "9 0.279835390946502\n",
            "10 0.2850000000000001\n",
            "11 0.2892561983471075\n",
            "12 0.292824074074074\n",
            "13 0.2958579881656805\n",
            "14 0.29846938775510196\n",
            "15 0.30074074074074075\n",
            "16 0.302734375\n",
            "17 0.3044982698961938\n",
            "18 0.3060699588477366\n",
            "19 0.3074792243767312\n",
            "20 0.3087500000000001\n"
          ],
          "name": "stdout"
        }
      ]
    },
    {
      "cell_type": "code",
      "metadata": {
        "colab": {
          "base_uri": "https://localhost:8080/"
        },
        "id": "-xKTjWJJyG7F",
        "outputId": "c95cdc9d-bc03-40b1-8b48-b5f0668e5a1a"
      },
      "source": [
        "print(100,integral(f,0,1,100))"
      ],
      "execution_count": 11,
      "outputs": [
        {
          "output_type": "stream",
          "text": [
            "100 0.32835000000000014\n"
          ],
          "name": "stdout"
        }
      ]
    },
    {
      "cell_type": "code",
      "metadata": {
        "colab": {
          "base_uri": "https://localhost:8080/"
        },
        "id": "_Qs5KJRW1u2o",
        "outputId": "19b18051-4bbf-4931-a4f3-a6280e8f690b"
      },
      "source": [
        "print(1000,integral(f,0,1,1000))"
      ],
      "execution_count": 12,
      "outputs": [
        {
          "output_type": "stream",
          "text": [
            "1000 0.33283350000000034\n"
          ],
          "name": "stdout"
        }
      ]
    },
    {
      "cell_type": "markdown",
      "metadata": {
        "id": "yKwm482zSc6e"
      },
      "source": [
        "#Using Trapezoids"
      ]
    },
    {
      "cell_type": "code",
      "metadata": {
        "id": "A20IFikqSgwl"
      },
      "source": [
        "def trap_integral(f,a,b,num):\n",
        "    \"\"\"Returns the sum of num trapezoids\n",
        "    under f between a and b\"\"\"\n",
        "    width = (b-a)/num\n",
        "    area = 0.5*width*(f(a) + f(b) + 2*sum([f(a+width*n) for n in range(1,num)]))\n",
        "    return area"
      ],
      "execution_count": 14,
      "outputs": []
    },
    {
      "cell_type": "code",
      "metadata": {
        "colab": {
          "base_uri": "https://localhost:8080/"
        },
        "id": "cHIIyBMASgtG",
        "outputId": "ab010b89-9fdb-4ac5-cd85-fe5c9ee30078"
      },
      "source": [
        "print(trap_integral(f,0,1,5))"
      ],
      "execution_count": 15,
      "outputs": [
        {
          "output_type": "stream",
          "text": [
            "0.3400000000000001\n"
          ],
          "name": "stdout"
        }
      ]
    },
    {
      "cell_type": "code",
      "metadata": {
        "id": "9U86XeqASgjT"
      },
      "source": [
        "from math import cos,pi,sqrt\n",
        "def f(x):\n",
        "    return x**3 + 3\n",
        "def g(x):\n",
        "    return 3*cos(x)\n",
        "def h(x):\n",
        "    return ((x**2 - 1)*(x**2+1))/x**2"
      ],
      "execution_count": 18,
      "outputs": []
    },
    {
      "cell_type": "code",
      "metadata": {
        "colab": {
          "base_uri": "https://localhost:8080/"
        },
        "id": "D6DHqiCGSghZ",
        "outputId": "bbd349a9-3789-431f-db3b-533be655c733"
      },
      "source": [
        "print(trap_integral(f,3,4,100))\n",
        "print(trap_integral(g,0,pi/4,100))\n",
        "print(trap_integral(h,2,4,100))"
      ],
      "execution_count": 17,
      "outputs": [
        {
          "output_type": "stream",
          "text": [
            "46.75017499999999\n",
            "2.1213094390731206\n",
            "18.416792708494786\n"
          ],
          "name": "stdout"
        }
      ]
    },
    {
      "cell_type": "markdown",
      "metadata": {
        "id": "tZUQ4XPJUuSX"
      },
      "source": [
        "#Using Integrals"
      ]
    },
    {
      "cell_type": "code",
      "metadata": {
        "id": "_IQkOsutUttn"
      },
      "source": [
        "def f(x):\n",
        "    return sqrt(x)"
      ],
      "execution_count": 19,
      "outputs": []
    },
    {
      "cell_type": "code",
      "metadata": {
        "colab": {
          "base_uri": "https://localhost:8080/"
        },
        "id": "FGwn86AVUAY3",
        "outputId": "168bd7b3-bfb8-4bcf-9c61-b0fbfc838cfd"
      },
      "source": [
        "def vol_solid(f,a,b):\n",
        "    volume = 0\n",
        "    num = 1000\n",
        "\n",
        "    width = (b-a)/num\n",
        "\n",
        "    for i in range(num):\n",
        "    #     volume of cylindrical disk\n",
        "        vol = pi*(f(a+i*width))**2*width\n",
        "        volume += vol    \n",
        "    return volume\n",
        "\n",
        "print(vol_solid(f,0,1))"
      ],
      "execution_count": 20,
      "outputs": [
        {
          "output_type": "stream",
          "text": [
            "1.5692255304681022\n"
          ],
          "name": "stdout"
        }
      ]
    },
    {
      "cell_type": "markdown",
      "metadata": {
        "id": "lwIL-mXYaZu0"
      },
      "source": [
        "#Additional Excercise"
      ]
    },
    {
      "cell_type": "code",
      "metadata": {
        "id": "AU5mjbt1WElu"
      },
      "source": [
        "def f(x):\n",
        "    return 4 -4*x**2\n",
        "def g(x):\n",
        "    return 1-x**2\n",
        "def h(x):\n",
        "    return f(x)**2-g(x)**2"
      ],
      "execution_count": 21,
      "outputs": []
    },
    {
      "cell_type": "code",
      "metadata": {
        "id": "7rMWlt79auwh"
      },
      "source": [
        "def vol_solid(f,a,b):\n",
        "    volume = 0\n",
        "    num = 10000\n",
        "    width = (b-a)/num\n",
        "    for i in range(num):\n",
        "        vol = pi*(f(a+i*width))*width\n",
        "        volume += vol    \n",
        "    return volume"
      ],
      "execution_count": 23,
      "outputs": []
    },
    {
      "cell_type": "code",
      "metadata": {
        "colab": {
          "base_uri": "https://localhost:8080/"
        },
        "id": "Q0KUupV5a0IU",
        "outputId": "18d6ef96-d510-4742-e8be-695fc1cc6cd5"
      },
      "source": [
        "print(vol_solid(h,-1,1))"
      ],
      "execution_count": 24,
      "outputs": [
        {
          "output_type": "stream",
          "text": [
            "50.26548245743666\n"
          ],
          "name": "stdout"
        }
      ]
    }
  ]
}