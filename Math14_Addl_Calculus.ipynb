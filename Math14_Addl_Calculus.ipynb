{
  "nbformat": 4,
  "nbformat_minor": 0,
  "metadata": {
    "colab": {
      "name": "Math14_Addl_Calculus.ipynb",
      "provenance": [],
      "collapsed_sections": [],
      "authorship_tag": "ABX9TyNU0E8HehJJA5qhWidq0UGH",
      "include_colab_link": true
    },
    "kernelspec": {
      "name": "python3",
      "display_name": "Python 3"
    }
  },
  "cells": [
    {
      "cell_type": "markdown",
      "metadata": {
        "id": "view-in-github",
        "colab_type": "text"
      },
      "source": [
        "<a href=\"https://colab.research.google.com/github/james-monahan/Stats_Calc_Workshop/blob/main/Math14_Addl_Calculus.ipynb\" target=\"_parent\"><img src=\"https://colab.research.google.com/assets/colab-badge.svg\" alt=\"Open In Colab\"/></a>"
      ]
    },
    {
      "cell_type": "code",
      "metadata": {
        "id": "SdbyRmicTk1U"
      },
      "source": [
        "import pandas as pd\n",
        "import numpy as np\n",
        "import matplotlib.pyplot as plt\n",
        "import seaborn as sns\n",
        "from math import sqrt"
      ],
      "execution_count": null,
      "outputs": []
    },
    {
      "cell_type": "code",
      "metadata": {
        "id": "ajdZt-RifMdC"
      },
      "source": [
        "def derivative(f,x):\n",
        "    \"\"\"\n",
        "    Returns the value of the derivative of\n",
        "    the function at a given x-value.\n",
        "    \"\"\"\n",
        "    delta_x = 1/1000000\n",
        "    return (f(x+delta_x) - f(x))/delta_x\n",
        "\n",
        "def find_max_mins(f,start,stop,step=0.001):\n",
        "    x = start\n",
        "    deriv = derivative(f,x)\n",
        "    while x < stop:\n",
        "        x += step\n",
        "        #take derivative at new x:\n",
        "        newderiv = derivative(f,x)\n",
        "        #if derivative changes sign\n",
        "        if newderiv == 0 or deriv*newderiv < 0:\n",
        "            print(\"Max/Min at x=\",x,\"y=\",f(x))\n",
        "            #change deriv to newderiv\n",
        "            deriv = newderiv\n",
        "\n",
        "def integral(f,a,b,num):\n",
        "    \"\"\"Returns the sum of num rectangles\n",
        "    under f between a and b\"\"\"\n",
        "    width = (b-a)/num\n",
        "    area = sum([width*f(a+width*n) for n in range(num)])\n",
        "    return area\n",
        "\n",
        "def trap_integral(f,a,b,num):\n",
        "    \"\"\"Returns the sum of num trapezoids\n",
        "    under f between a and b\"\"\"\n",
        "    width = (b-a)/num\n",
        "    area = 0.5*width*(f(a) + f(b) + 2*sum([f(a+width*n) for n in range(1,num)]))\n",
        "    return area\n",
        "\n"
      ],
      "execution_count": null,
      "outputs": []
    },
    {
      "cell_type": "markdown",
      "metadata": {
        "id": "MKf8zb3NLEwf"
      },
      "source": [
        "#Length of a Curve\n",
        "---\n",
        "\n"
      ]
    },
    {
      "cell_type": "code",
      "metadata": {
        "id": "dE9gab1k3tAc"
      },
      "source": [
        "def curve_length(f,a,b,num):\n",
        "    def g(x):\n",
        "        return sqrt(1+(derivative(f,x)**2))\n",
        "    return trap_integral(g,a,b,num)"
      ],
      "execution_count": null,
      "outputs": []
    },
    {
      "cell_type": "code",
      "metadata": {
        "colab": {
          "base_uri": "https://localhost:8080/"
        },
        "id": "TOC1nwdN6GnO",
        "outputId": "8a2fef31-e714-4b27-ff33-b7069c669d89"
      },
      "source": [
        "def f(x):\n",
        "    return 2*x\n",
        "print(curve_length(f,0,2,1000))"
      ],
      "execution_count": null,
      "outputs": [
        {
          "output_type": "stream",
          "text": [
            "4.472135954866848\n"
          ],
          "name": "stdout"
        }
      ]
    },
    {
      "cell_type": "code",
      "metadata": {
        "id": "Rugi4Vx27cC3"
      },
      "source": [
        "#infinite derivative / domain error\n",
        "# def f(x):\n",
        "#     return sqrt(1-x**2)\n",
        "# print(curve_length(f,-1,1,100))"
      ],
      "execution_count": null,
      "outputs": []
    },
    {
      "cell_type": "code",
      "metadata": {
        "colab": {
          "base_uri": "https://localhost:8080/"
        },
        "id": "o8RvoYSq7cW_",
        "outputId": "a85f2c95-b75f-4637-a7b2-59b246f2bcb8"
      },
      "source": [
        "def f(x):\n",
        "    return 0.7*x**5 + 1.6*x**4-2.05*x**3 -3*x**2+2.95*x+2.9\n",
        "print(curve_length(f,-2,1,1000))"
      ],
      "execution_count": null,
      "outputs": [
        {
          "output_type": "stream",
          "text": [
            "9.61412877050145\n"
          ],
          "name": "stdout"
        }
      ]
    },
    {
      "cell_type": "code",
      "metadata": {
        "id": "nOXYKN0X8NFH"
      },
      "source": [
        "def f(x):\n",
        "    return 0.7*x**5 + 1.6*x**4-2.05*x**3 -3*x**2+2.95*x+2.9\n",
        "def curve_length2(f,a,b,num=1000):\n",
        "    \"\"\"Returns the length of f between\\\n",
        "    a and b using num slices\"\"\"\n",
        "    output = 0\n",
        "    width = (b-a)/num\n",
        "    for i in range(num):\n",
        "        output += sqrt((f(a+(i+1)*width)-f(a+i*width))**2 + width**2)\n",
        "    return output"
      ],
      "execution_count": null,
      "outputs": []
    },
    {
      "cell_type": "code",
      "metadata": {
        "colab": {
          "base_uri": "https://localhost:8080/"
        },
        "id": "lvLSbcK5-0Jo",
        "outputId": "27f5526a-1b77-44df-d2a2-aa671e6bac98"
      },
      "source": [
        "print(curve_length2(f,-2,1))"
      ],
      "execution_count": null,
      "outputs": [
        {
          "output_type": "stream",
          "text": [
            "9.614118659973549\n"
          ],
          "name": "stdout"
        }
      ]
    },
    {
      "cell_type": "code",
      "metadata": {
        "id": "vzMkuDkI-31Y"
      },
      "source": [
        "def circle(x):\n",
        "    return sqrt(1-x**2)"
      ],
      "execution_count": null,
      "outputs": []
    },
    {
      "cell_type": "code",
      "metadata": {
        "colab": {
          "base_uri": "https://localhost:8080/"
        },
        "id": "GZmBYCoBCqmF",
        "outputId": "6679ae9e-225c-4316-9ec3-30955299a2b0"
      },
      "source": [
        "print(curve_length2 (circle,-1,1))\n"
      ],
      "execution_count": null,
      "outputs": [
        {
          "output_type": "stream",
          "text": [
            "3.1415663562164773\n"
          ],
          "name": "stdout"
        }
      ]
    },
    {
      "cell_type": "markdown",
      "metadata": {
        "id": "O_Eahj-YC5HB"
      },
      "source": [
        "#Finding the Length of a Sine Wave"
      ]
    },
    {
      "cell_type": "code",
      "metadata": {
        "id": "oG6C19v-CskO"
      },
      "source": [
        "from math import sin, pi"
      ],
      "execution_count": null,
      "outputs": []
    },
    {
      "cell_type": "code",
      "metadata": {
        "colab": {
          "base_uri": "https://localhost:8080/"
        },
        "id": "sAFjTgcXDC-e",
        "outputId": "0006edf3-5e6a-4283-bc94-b7cbbdc42d96"
      },
      "source": [
        "print(curve_length2(sin,0,2*pi))"
      ],
      "execution_count": null,
      "outputs": [
        {
          "output_type": "stream",
          "text": [
            "7.640391636335924\n"
          ],
          "name": "stdout"
        }
      ]
    },
    {
      "cell_type": "markdown",
      "metadata": {
        "id": "5XLuBNZ2Eymi"
      },
      "source": [
        "#Area of a Surface"
      ]
    },
    {
      "cell_type": "code",
      "metadata": {
        "id": "kRNPobzHDE1F"
      },
      "source": [
        "def partial_d(f,u,v,w,num=10000):\n",
        "    \"\"\"returns the partial derivative of f\n",
        "    with respect to u at (v,w)\"\"\"\n",
        "    delta_u = 1/num\n",
        "    try:\n",
        "        if u == 'x':\n",
        "            return (f(v+delta_u,w) - f(v,w))/delta_u\n",
        "        else:\n",
        "            return (f(v,w+delta_u) - f(v,w))/delta_u\n",
        "    except ValueError:\n",
        "        pass"
      ],
      "execution_count": null,
      "outputs": []
    },
    {
      "cell_type": "code",
      "metadata": {
        "id": "M73bTqBWIaGF"
      },
      "source": [
        "def cross(u,v):\n",
        "    \"\"\"Returns the cross product of 2 3D vectors\n",
        "    [[i,j,k],\\\n",
        "    [1,0,dz/dx],\\\n",
        "    [0,1,dz,dy]]\n",
        "    cross([1,-1,2],[2,3,-5])\n",
        "    >>> [-1, -9, 5]\n",
        "    \"\"\"\n",
        "    return [u[1]*v[2]-v[1]*u[2],\\\n",
        "            -u[0]*v[2]+v[0]*u[2],\\\n",
        "            u[0]*v[1]-v[0]*u[1]]"
      ],
      "execution_count": null,
      "outputs": []
    },
    {
      "cell_type": "code",
      "metadata": {
        "colab": {
          "base_uri": "https://localhost:8080/"
        },
        "id": "-DqhCm_NJf0t",
        "outputId": "99487ea4-9bf2-4e48-9d4e-7fa4663c9ac0"
      },
      "source": [
        "print(cross([2,3,4],[5,6,7]))"
      ],
      "execution_count": null,
      "outputs": [
        {
          "output_type": "stream",
          "text": [
            "[-3, 6, -3]\n"
          ],
          "name": "stdout"
        }
      ]
    },
    {
      "cell_type": "code",
      "metadata": {
        "colab": {
          "base_uri": "https://localhost:8080/"
        },
        "id": "UCFTXhZAM_h5",
        "outputId": "4b78b0fa-b052-4b0e-a599-f7e7bea9874c"
      },
      "source": [
        "a = np.array([2,3,4])\n",
        "b = np.array([5,6,7])\n",
        "np.cross(a,b)"
      ],
      "execution_count": null,
      "outputs": [
        {
          "output_type": "execute_result",
          "data": {
            "text/plain": [
              "array([-3,  6, -3])"
            ]
          },
          "metadata": {
            "tags": []
          },
          "execution_count": 33
        }
      ]
    },
    {
      "cell_type": "code",
      "metadata": {
        "id": "dnAZyPJZJjFF"
      },
      "source": [
        "def mag(vec):\n",
        "    \"\"\"Returns the magnitude of a 3D vector\"\"\"\n",
        "    return sqrt(vec[0]**2+vec[1]**2+vec[2]**2)"
      ],
      "execution_count": null,
      "outputs": []
    },
    {
      "cell_type": "code",
      "metadata": {
        "id": "lh2j5XJgKCWA"
      },
      "source": [
        "from math import sqrt\n",
        "def sphere(x,y):\n",
        "    \"\"\"Sphere of radius 1\"\"\"\n",
        "    return sqrt(1-x**2-y**2) \n",
        "def area(f,ax,bx,ay,by,num=1000):\n",
        "    \"\"\"Returns area of parallelogram formed by\n",
        "    vectors with given partial derives\"\"\"\n",
        "    running_sum = 0\n",
        "    dx = (bx-ax)/num\n",
        "    dy = (by-ay)/num\n",
        "    for i in range(num):\n",
        "        for j in range(num):\n",
        "            x = ax+i*dx\n",
        "            y = ay+j*dy\n",
        "            dz_dx=partial_d(f,'x',x,y)\n",
        "            dz_dy=partial_d(f,'y',x,y)\n",
        "            try:\n",
        "                running_sum += mag(cross([1,0,dz_dx],[0,1,dz_dy]))*dx*dy\n",
        "            except:\n",
        "                pass\n",
        "    return running_sum"
      ],
      "execution_count": null,
      "outputs": []
    },
    {
      "cell_type": "code",
      "metadata": {
        "colab": {
          "base_uri": "https://localhost:8080/"
        },
        "id": "sagXgqkRKSRY",
        "outputId": "039869c6-e6c1-41e7-c883-6d90235290ec"
      },
      "source": [
        "print(\"Area of hemisphere:\",area(sphere,-1,1,-1,1))\n"
      ],
      "execution_count": null,
      "outputs": [
        {
          "output_type": "stream",
          "text": [
            "Area of hemisphere: 6.210356913122\n"
          ],
          "name": "stdout"
        }
      ]
    },
    {
      "cell_type": "code",
      "metadata": {
        "colab": {
          "base_uri": "https://localhost:8080/"
        },
        "id": "cPT3NESJKhgM",
        "outputId": "f60bd3df-e917-4a10-a49d-8661c326528a"
      },
      "source": [
        "print(\"Area of hemisphere:\",area(sphere,-1,1,-1,1))"
      ],
      "execution_count": null,
      "outputs": [
        {
          "output_type": "stream",
          "text": [
            "Area of hemisphere: 6.210356913122\n"
          ],
          "name": "stdout"
        }
      ]
    },
    {
      "cell_type": "markdown",
      "metadata": {
        "id": "HIg6qx-WLNO9"
      },
      "source": [
        "#3D Surface Area"
      ]
    },
    {
      "cell_type": "code",
      "metadata": {
        "colab": {
          "base_uri": "https://localhost:8080/"
        },
        "id": "1ekmEvSQLLG9",
        "outputId": "8afa0623-ae81-4a22-a254-ab4d58c4ab7a"
      },
      "source": [
        "from math import sin, cos, sqrt\n",
        "def surface(x,y):\n",
        "    return 10*sin(sqrt(x**2+y**2))\n",
        "print(\"Area of wave surface:\",area(surface,-5,5,-5,5))"
      ],
      "execution_count": null,
      "outputs": [
        {
          "output_type": "stream",
          "text": [
            "Area of wave surface: 608.2831853183909\n"
          ],
          "name": "stdout"
        }
      ]
    },
    {
      "cell_type": "code",
      "metadata": {
        "colab": {
          "base_uri": "https://localhost:8080/"
        },
        "id": "rH63aD8dLXyO",
        "outputId": "49624a93-ce46-42ff-baf7-2b29e4b8364f"
      },
      "source": [
        "def surface(x,y):\n",
        "    return 3*cos(x)+2*cos(x)*cos(y) \n",
        "print(\"Area of surface:\",area(surface,0,6.28,0,6.28))"
      ],
      "execution_count": null,
      "outputs": [
        {
          "output_type": "stream",
          "text": [
            "Area of surface: 99.80676808274416\n"
          ],
          "name": "stdout"
        }
      ]
    },
    {
      "cell_type": "code",
      "metadata": {
        "colab": {
          "base_uri": "https://localhost:8080/"
        },
        "id": "Sf82H7jbLeiE",
        "outputId": "024dd95b-a130-4af5-a601-0f1d0ad801ff"
      },
      "source": [
        "def surface(x,y):\n",
        "    return sqrt(1+sin(x)*cos(y))\n",
        "print(\"Area of surface:\",area(surface,0,6.28,0,6.28))"
      ],
      "execution_count": null,
      "outputs": [
        {
          "output_type": "stream",
          "text": [
            "Area of surface: 42.80527534411261\n"
          ],
          "name": "stdout"
        }
      ]
    },
    {
      "cell_type": "code",
      "metadata": {
        "id": "Ik_rIRBvLqlP"
      },
      "source": [
        ""
      ],
      "execution_count": null,
      "outputs": []
    }
  ]
}