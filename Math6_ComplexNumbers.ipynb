{
  "nbformat": 4,
  "nbformat_minor": 0,
  "metadata": {
    "colab": {
      "name": "Math6_ComplexNumbers.ipynb",
      "provenance": [],
      "collapsed_sections": [],
      "authorship_tag": "ABX9TyN/oWSz0iBRvS/AWA0PbNzi",
      "include_colab_link": true
    },
    "kernelspec": {
      "name": "python3",
      "display_name": "Python 3"
    }
  },
  "cells": [
    {
      "cell_type": "markdown",
      "metadata": {
        "id": "view-in-github",
        "colab_type": "text"
      },
      "source": [
        "<a href=\"https://colab.research.google.com/github/james-monahan/Stats_Calc_Workshop/blob/main/Math6_ComplexNumbers.ipynb\" target=\"_parent\"><img src=\"https://colab.research.google.com/assets/colab-badge.svg\" alt=\"Open In Colab\"/></a>"
      ]
    },
    {
      "cell_type": "code",
      "metadata": {
        "id": "SdbyRmicTk1U"
      },
      "source": [
        "import pandas as pd\r\n",
        "import numpy as np\r\n",
        "import matplotlib.pyplot as plt\r\n",
        "import seaborn as sns\r\n",
        "import cmath\r\n",
        "import warnings\r\n",
        "warnings.filterwarnings(\"ignore\")\r\n"
      ],
      "execution_count": 14,
      "outputs": []
    },
    {
      "cell_type": "markdown",
      "metadata": {
        "id": "bubFQBdk6R4j"
      },
      "source": [
        "#Complex Numbers"
      ]
    },
    {
      "cell_type": "code",
      "metadata": {
        "id": "-ioslS3J2XqK"
      },
      "source": [
        "#natural numbers\r\n",
        "#rational numbers (ratios)\r\n",
        "#real numbers express distance along a line\r\n",
        "#irrational numbers (sqrt, no representation as ratio)\r\n",
        "#complex numbers real + i"
      ],
      "execution_count": 3,
      "outputs": []
    },
    {
      "cell_type": "code",
      "metadata": {
        "colab": {
          "base_uri": "https://localhost:8080/"
        },
        "id": "A1k2fUYTMDdU",
        "outputId": "08dc4202-77ea-4c3d-f311-5921b3122b64"
      },
      "source": [
        "#j symbolizes imaginary\r\n",
        "a = 1\r\n",
        "b = -3\r\n",
        "z = complex(a, b)\r\n",
        "print(z)"
      ],
      "execution_count": 4,
      "outputs": [
        {
          "output_type": "stream",
          "text": [
            "(1-3j)\n"
          ],
          "name": "stdout"
        }
      ]
    },
    {
      "cell_type": "code",
      "metadata": {
        "colab": {
          "base_uri": "https://localhost:8080/"
        },
        "id": "pdrwhp2QnwqC",
        "outputId": "aa3287c9-bdc0-479e-d7fa-ac200298825b"
      },
      "source": [
        "print(z.real)\r\n",
        "print(z.imag)"
      ],
      "execution_count": 5,
      "outputs": [
        {
          "output_type": "stream",
          "text": [
            "1.0\n",
            "-3.0\n"
          ],
          "name": "stdout"
        }
      ]
    },
    {
      "cell_type": "code",
      "metadata": {
        "colab": {
          "base_uri": "https://localhost:8080/"
        },
        "id": "P3PkV0zWoHkB",
        "outputId": "9d5484eb-8e83-4362-9dff-463de6fdac61"
      },
      "source": [
        "def find_polar(z):\r\n",
        "    from math import asin\r\n",
        "    x = z.real\r\n",
        "    y = z.imag\r\n",
        "    r = (x**2 + y**2)**0.5\r\n",
        "    phi = asin(y/r)\r\n",
        "    return r, phi\r\n",
        "find_polar(1-3j)"
      ],
      "execution_count": 6,
      "outputs": [
        {
          "output_type": "execute_result",
          "data": {
            "text/plain": [
              "(3.1622776601683795, -1.2490457723982544)"
            ]
          },
          "metadata": {
            "tags": []
          },
          "execution_count": 6
        }
      ]
    },
    {
      "cell_type": "code",
      "metadata": {
        "colab": {
          "base_uri": "https://localhost:8080/"
        },
        "id": "BG-Rtug6uJTO",
        "outputId": "e1842668-05a3-4e75-f9a2-ffda4d792ff8"
      },
      "source": [
        "z = 1-3j\r\n",
        "cmath.polar(z)"
      ],
      "execution_count": 7,
      "outputs": [
        {
          "output_type": "execute_result",
          "data": {
            "text/plain": [
              "(3.1622776601683795, -1.2490457723982544)"
            ]
          },
          "metadata": {
            "tags": []
          },
          "execution_count": 7
        }
      ]
    },
    {
      "cell_type": "code",
      "metadata": {
        "id": "v5yvvdVkutqw"
      },
      "source": [
        "def complex_operations2(c1, c2):\r\n",
        "    print('Addition =', c1 + c2)\r\n",
        "    print('Subtraction =', c1 - c2)\r\n",
        "    print('Multiplication =', c1 * c2)\r\n",
        "    print('Division =', c1 / c2)"
      ],
      "execution_count": 8,
      "outputs": []
    },
    {
      "cell_type": "code",
      "metadata": {
        "colab": {
          "base_uri": "https://localhost:8080/"
        },
        "id": "eqHfVToNvoA4",
        "outputId": "b234ba6e-10a2-4e16-cd1c-e6d57f17d44a"
      },
      "source": [
        "complex_operations2(10+2j/3, 2.9+1j/3)"
      ],
      "execution_count": 9,
      "outputs": [
        {
          "output_type": "stream",
          "text": [
            "Addition = (12.9+1j)\n",
            "Subtraction = (7.1+0.3333333333333333j)\n",
            "Multiplication = (28.77777777777778+5.266666666666666j)\n",
            "Division = (3.429391054896336-0.16429782240187768j)\n"
          ],
          "name": "stdout"
        }
      ]
    },
    {
      "cell_type": "code",
      "metadata": {
        "colab": {
          "base_uri": "https://localhost:8080/"
        },
        "id": "QsmOqpNrvpvc",
        "outputId": "30662815-bdb7-43d9-e9f9-6630ba2e5f7e"
      },
      "source": [
        "complex_operations2(1, 1j)"
      ],
      "execution_count": 10,
      "outputs": [
        {
          "output_type": "stream",
          "text": [
            "Addition = (1+1j)\n",
            "Subtraction = (1-1j)\n",
            "Multiplication = 1j\n",
            "Division = -1j\n"
          ],
          "name": "stdout"
        }
      ]
    },
    {
      "cell_type": "code",
      "metadata": {
        "colab": {
          "base_uri": "https://localhost:8080/"
        },
        "id": "Gg0o53p7vyvQ",
        "outputId": "750ba8e7-d8ca-49c6-aa31-c9ef13d75127"
      },
      "source": [
        "def complex_operations1(c):\r\n",
        "    modulus = abs(c)\r\n",
        "    phase = cmath.phase(c)\r\n",
        "    polar = cmath.polar(c)\r\n",
        "    print('Modulus =', modulus)\r\n",
        "    print('Phase =', phase)\r\n",
        "    print('Polar Coordinates =', polar)\r\n",
        "    print('Conjugate =',c.conjugate())\r\n",
        "    print('Rectangular Coordinates =', \\\r\n",
        "           cmath.rect(modulus, phase))\r\n",
        "complex_operations1(3+4j)"
      ],
      "execution_count": 11,
      "outputs": [
        {
          "output_type": "stream",
          "text": [
            "Modulus = 5.0\n",
            "Phase = 0.9272952180016122\n",
            "Polar Coordinates = (5.0, 0.9272952180016122)\n",
            "Conjugate = (3-4j)\n",
            "Rectangular Coordinates = (3.0000000000000004+3.9999999999999996j)\n"
          ],
          "name": "stdout"
        }
      ]
    },
    {
      "cell_type": "markdown",
      "metadata": {
        "id": "l7CmxD32Lpp7"
      },
      "source": [
        "#Conditional Multiplication"
      ]
    },
    {
      "cell_type": "code",
      "metadata": {
        "id": "7Xz5OlMLwGcl"
      },
      "source": [
        "def plot_complex(c, color='b', label=None):\r\n",
        "    \r\n",
        "    ax = plt.axes()\r\n",
        "    ax.arrow(0, 0, c.real, c.imag, head_width=0.2, \\\r\n",
        "             head_length=0.3, color=color)\r\n",
        "    ax.annotate(label, xy=(0.6*c.real, 1.15*c.imag))\r\n",
        "    plt.xlim(-3,3)\r\n",
        "    plt.ylim(-3,3)\r\n",
        "    plt.grid(b=True, which='major') #<-- plot grid lines"
      ],
      "execution_count": 15,
      "outputs": []
    },
    {
      "cell_type": "code",
      "metadata": {
        "id": "iSSTouhLMEi6"
      },
      "source": [
        "#if phase condition, plot result of new angle (mult or sqrt)\r\n",
        "def mult_complex(c, label1='old', label2='new'):\r\n",
        "    \r\n",
        "    phase = cmath.phase(c)\r\n",
        "    plot_complex(c, label=label1)\r\n",
        "    \r\n",
        "    if phase == 0:\r\n",
        "        result = -1\r\n",
        "    elif phase < 0:\r\n",
        "        print('old phase:', phase)\r\n",
        "        result = cmath.sqrt(c)\r\n",
        "        print('new phase:', cmath.phase(result))\r\n",
        "        plot_complex(result, 'red', label=label2)\r\n",
        "    elif phase > 0:\r\n",
        "        print('old phase:', phase)\r\n",
        "        result = c*c\r\n",
        "        print('new phase:', cmath.phase(result))\r\n",
        "        plot_complex(result, 'red', label=label2)\r\n",
        "    return result"
      ],
      "execution_count": 16,
      "outputs": []
    },
    {
      "cell_type": "code",
      "metadata": {
        "colab": {
          "base_uri": "https://localhost:8080/",
          "height": 323
        },
        "id": "l63Io_6QNvrU",
        "outputId": "28212392-78d0-4398-e269-9bbeadf94c42"
      },
      "source": [
        "mult_complex(1 + 1.2j)"
      ],
      "execution_count": 22,
      "outputs": [
        {
          "output_type": "stream",
          "text": [
            "old phase: 0.8760580505981934\n",
            "new phase: 1.7521161011963868\n"
          ],
          "name": "stdout"
        },
        {
          "output_type": "execute_result",
          "data": {
            "text/plain": [
              "(-0.43999999999999995+2.4j)"
            ]
          },
          "metadata": {
            "tags": []
          },
          "execution_count": 22
        },
        {
          "output_type": "display_data",
          "data": {
            "image/png": "[encoded data removed]",
            "text/plain": [
              "<Figure size 432x288 with 1 Axes>"
            ]
          },
          "metadata": {
            "tags": [],
            "needs_background": "light"
          }
        }
      ]
    },
    {
      "cell_type": "code",
      "metadata": {
        "colab": {
          "base_uri": "https://localhost:8080/",
          "height": 323
        },
        "id": "iuA__EAANxpp",
        "outputId": "365bcdde-cba1-492d-c1dd-5c2b19749dcf"
      },
      "source": [
        "mult_complex(1-1.2j)"
      ],
      "execution_count": 23,
      "outputs": [
        {
          "output_type": "stream",
          "text": [
            "old phase: -0.8760580505981934\n",
            "new phase: -0.43802902529909676\n"
          ],
          "name": "stdout"
        },
        {
          "output_type": "execute_result",
          "data": {
            "text/plain": [
              "(1.1318237352126281-0.5301178808441246j)"
            ]
          },
          "metadata": {
            "tags": []
          },
          "execution_count": 23
        },
        {
          "output_type": "display_data",
          "data": {
            "image/png": "[encoded data removed]",
            "text/plain": [
              "<Figure size 432x288 with 1 Axes>"
            ]
          },
          "metadata": {
            "tags": [],
            "needs_background": "light"
          }
        }
      ]
    },
    {
      "cell_type": "code",
      "metadata": {
        "colab": {
          "base_uri": "https://localhost:8080/",
          "height": 488
        },
        "id": "PdFjNHXfOj4G",
        "outputId": "974d0981-92a7-4e69-a731-ee1d9ddb4960"
      },
      "source": [
        "c0 = 1+1.2j\r\n",
        "n = 0\r\n",
        "while n < 6:\r\n",
        "    c0 = mult_complex(c0, None, str(n))\r\n",
        "    n+=1"
      ],
      "execution_count": 24,
      "outputs": [
        {
          "output_type": "stream",
          "text": [
            "old phase: 0.8760580505981934\n",
            "new phase: 1.7521161011963868\n",
            "old phase: 1.7521161011963868\n",
            "new phase: -2.778953104786813\n",
            "old phase: -2.778953104786813\n",
            "new phase: -1.3894765523934065\n",
            "old phase: -1.3894765523934065\n",
            "new phase: -0.6947382761967033\n",
            "old phase: -0.6947382761967033\n",
            "new phase: -0.3473691380983516\n",
            "old phase: -0.3473691380983516\n",
            "new phase: -0.1736845690491758\n"
          ],
          "name": "stdout"
        },
        {
          "output_type": "display_data",
          "data": {
            "image/png": "[encoded data removed]",
            "text/plain": [
              "<Figure size 432x288 with 1 Axes>"
            ]
          },
          "metadata": {
            "tags": [],
            "needs_background": "light"
          }
        }
      ]
    },
    {
      "cell_type": "markdown",
      "metadata": {
        "id": "WhGYO9kLPmgu"
      },
      "source": [
        "#Calculating Retirement Plan"
      ]
    },
    {
      "cell_type": "code",
      "metadata": {
        "id": "BtwQmS1wO4o7"
      },
      "source": [
        "def retirement_n(current_balance, annual_salary, \\\r\n",
        "                 annual_cap, n, contrib, \\\r\n",
        "                 annual_salary_increase, employer_match, \\\r\n",
        "                 match_cap, rate):\r\n",
        "    '''\r\n",
        "    return :: retirement amount at year n\r\n",
        "    '''\r\n",
        "    \r\n",
        "    annual_salary_n = annual_salary*(1+annual_salary_increase)**n\r\n",
        "    \r\n",
        "    your_contrib = contrib*annual_salary_n\r\n",
        "    your_contrib = min(your_contrib, annual_cap)\r\n",
        "    employer_contrib = contrib*annual_salary_n*employer_match\r\n",
        "    employer_contrib = min(employer_contrib,match_cap\\\r\n",
        "                           *annual_salary_n*employer_match)\r\n",
        "    \r\n",
        "    contrib_total = your_contrib + employer_contrib\r\n",
        "    \r\n",
        "    return your_contrib, employer_contrib, current_balance + contrib_total*(1+rate)**n"
      ],
      "execution_count": 27,
      "outputs": []
    },
    {
      "cell_type": "code",
      "metadata": {
        "id": "gJlQUHmlROtH"
      },
      "source": [
        "def retirement_total(current_balance, annual_salary, \\\r\n",
        "    annual_cap=18000, contrib=0.05, \\\r\n",
        "    annual_salary_increase=0.02, employer_match=0.5, \\\r\n",
        "    match_cap=0.06, rate=0.03, current_age=35, \\\r\n",
        "    plan_years=35, life_expectancy=80, fees=0, \\\r\n",
        "    per_month=False):\r\n",
        "    \r\n",
        "    i = 0\r\n",
        "    result = 0\r\n",
        "    contrib_list = []; ematch_list = []; total_list = []\r\n",
        "    \r\n",
        "    while i <= plan_years:\r\n",
        "        cn = retirement_n(current_balance=current_balance, \\\r\n",
        "             annual_salary=annual_salary, \\\r\n",
        "             annual_cap=annual_cap, n=i, \\\r\n",
        "             contrib=contrib, match_cap=match_cap, \\\r\n",
        "             annual_salary_increase=annual_salary_increase,\\\r\n",
        "             employer_match=employer_match, rate=rate)\r\n",
        "        \r\n",
        "        contrib_list.append(cn[0])\r\n",
        "        ematch_list.append(cn[1]) \r\n",
        "        total_list.append(cn[2])\r\n",
        "        \r\n",
        "        result = result + cn[2]\r\n",
        "        i+=1\r\n",
        "\r\n",
        "        result = result - fees\r\n",
        "    \r\n",
        "    years_payback = life_expectancy - (current_age + plan_years)\r\n",
        "     \r\n",
        "    if per_month:\r\n",
        "        months = 12\r\n",
        "    else:\r\n",
        "        months = 1\r\n",
        "    result = result / (years_payback*months)\r\n",
        "    print('You get back:',result)\r\n",
        "    \r\n",
        "    \r\n",
        "    return result, contrib_list, ematch_list, total_list"
      ],
      "execution_count": 29,
      "outputs": []
    },
    {
      "cell_type": "code",
      "metadata": {
        "colab": {
          "base_uri": "https://localhost:8080/"
        },
        "id": "rRw5lKF2SCQR",
        "outputId": "c3dfa86b-0ad2-422a-c52d-9f8564dbc46f"
      },
      "source": [
        "result, contrib, ematch, total = retirement_total(current_balance=1000, plan_years=35,\\\r\n",
        "                 current_age=36, annual_salary=40000, \\\r\n",
        "                 per_month=True)"
      ],
      "execution_count": 30,
      "outputs": [
        {
          "output_type": "stream",
          "text": [
            "You get back: 3029.952393422356\n"
          ],
          "name": "stdout"
        }
      ]
    },
    {
      "cell_type": "code",
      "metadata": {
        "colab": {
          "base_uri": "https://localhost:8080/",
          "height": 295
        },
        "id": "m-YMVF57UbEI",
        "outputId": "f5751ef5-71a8-4281-cbd4-834f4e0e9323"
      },
      "source": [
        "years = [i for i in range(len(total))]\r\n",
        "plt.plot(years, total,'-o',color='b')\r\n",
        "width=0.85\r\n",
        "p1 = plt.bar(years, total, width=width)\r\n",
        "p2 = plt.bar(years, contrib, width=width)\r\n",
        "p3 = plt.bar(years, ematch, width=width)\r\n",
        "plt.xlabel('Years')\r\n",
        "plt.ylabel('Return')\r\n",
        "plt.title('Retirement plan evolution')\r\n",
        "plt.legend((p1[0], p2[0], p3[0]), ('Investment returns','Contributions','Employer match'))\r\n",
        "plt.show()"
      ],
      "execution_count": 31,
      "outputs": [
        {
          "output_type": "display_data",
          "data": {
            "image/png": "[encoded data removed]",
            "text/plain": [
              "<Figure size 432x288 with 1 Axes>"
            ]
          },
          "metadata": {
            "tags": [],
            "needs_background": "light"
          }
        }
      ]
    }
  ]
}